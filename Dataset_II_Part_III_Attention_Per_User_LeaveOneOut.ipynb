{
  "cells": [
    {
      "cell_type": "markdown",
      "metadata": {
        "id": "view-in-github",
        "colab_type": "text"
      },
      "source": [
        "<a href=\"https://colab.research.google.com/github/datasci888/AttentionDetection/blob/main/Dataset_II_Part_III_Attention_Per_User_LeaveOneOut.ipynb\" target=\"_parent\"><img src=\"https://colab.research.google.com/assets/colab-badge.svg\" alt=\"Open In Colab\"/></a>"
      ]
    },
    {
      "cell_type": "code",
      "execution_count": null,
      "id": "f5253c66",
      "metadata": {
        "id": "f5253c66"
      },
      "outputs": [],
      "source": [
        "import os\n",
        "import pandas as pd\n",
        "import numpy as np\n",
        "import matplotlib.pyplot as plt\n",
        "from sklearn.metrics import confusion_matrix,classification_report,accuracy_score"
      ]
    },
    {
      "cell_type": "code",
      "source": [
        "from google.colab import drive\n",
        "drive.mount('/content/drive')"
      ],
      "metadata": {
        "colab": {
          "base_uri": "https://localhost:8080/"
        },
        "id": "lbZsr5vq0YgH",
        "outputId": "07460099-02a0-49e9-fc36-65b3d09483a3"
      },
      "id": "lbZsr5vq0YgH",
      "execution_count": null,
      "outputs": [
        {
          "output_type": "stream",
          "name": "stdout",
          "text": [
            "Drive already mounted at /content/drive; to attempt to forcibly remount, call drive.mount(\"/content/drive\", force_remount=True).\n"
          ]
        }
      ]
    },
    {
      "cell_type": "code",
      "execution_count": null,
      "id": "76d14772",
      "metadata": {
        "id": "76d14772"
      },
      "outputs": [],
      "source": [
        "# path of csv files\n",
        "# directory = r\"/content/drive/MyDrive/\""
      ]
    },
    {
      "cell_type": "code",
      "source": [
        "# directory2 = r\"/content/drive/MyDrive/NewCVStoPart-IIIMarch1/\""
      ],
      "metadata": {
        "id": "HPbNPjjf7GAv"
      },
      "id": "HPbNPjjf7GAv",
      "execution_count": null,
      "outputs": []
    },
    {
      "cell_type": "code",
      "source": [],
      "metadata": {
        "id": "TI90ZIhkVcvu"
      },
      "id": "TI90ZIhkVcvu",
      "execution_count": null,
      "outputs": []
    },
    {
      "cell_type": "code",
      "source": [
        "# array2 = []\n",
        "# for file in os.listdir(directory2):\n",
        "#     print(file)\n",
        "#     filepath = os.path.join(directory2,file)\n",
        "#     df_temp = pd.read_csv(filepath)\n",
        "#     df_temp['Channel'] = file.split('.')[0]\n",
        "#     array2.append(df_temp)"
      ],
      "metadata": {
        "id": "Mnd19dZq7M0r"
      },
      "id": "Mnd19dZq7M0r",
      "execution_count": null,
      "outputs": []
    },
    {
      "cell_type": "code",
      "source": [
        "\n",
        "dfTrain = pd.read_csv(r'/content/drive/MyDrive/NewCVStoPart-IIIMarch1/NewCSVMarch1_Dataset_II_BandstoPart-IIITrain.csv')"
      ],
      "metadata": {
        "id": "LRBk5KhOVeY1"
      },
      "id": "LRBk5KhOVeY1",
      "execution_count": null,
      "outputs": []
    },
    {
      "cell_type": "code",
      "source": [
        "dfTest = pd.read_csv(r'/content/drive/MyDrive/NewCVStoPart-IIIMarch1/NewCSVMarch1_Dataset_II_BandstoPart-IIITest.csv')\n",
        "# vertical_concat2.to_csv('/content/drive/MyDrive/NewCVStoPart-IIIMarch1/NewCSVMarch1_Dataset_II_BandstoPart-IIITest.csv', index = False)"
      ],
      "metadata": {
        "id": "ymqDaEySU3qv"
      },
      "id": "ymqDaEySU3qv",
      "execution_count": null,
      "outputs": []
    },
    {
      "cell_type": "code",
      "source": [
        "# df = pd.concat(array2)\n",
        "# len(df)"
      ],
      "metadata": {
        "id": "T75XygH27M-c"
      },
      "id": "T75XygH27M-c",
      "execution_count": null,
      "outputs": []
    },
    {
      "cell_type": "code",
      "source": [
        "dfTrain.head()\n"
      ],
      "metadata": {
        "colab": {
          "base_uri": "https://localhost:8080/",
          "height": 206
        },
        "id": "8P3rXfg67Wsl",
        "outputId": "19934520-1559-4bff-b482-6148cf2edc80"
      },
      "id": "8P3rXfg67Wsl",
      "execution_count": null,
      "outputs": [
        {
          "output_type": "execute_result",
          "data": {
            "text/plain": [
              "       Alpha       Delta       Beta     Gamma  Label\n",
              "0  21.582478   75.814406   9.235991  0.708799  Focus\n",
              "1   1.173516    5.487767   1.075237  0.142068  Focus\n",
              "2   1.795885   31.367239   0.837457  0.117887  Focus\n",
              "3  18.083213   52.505458   7.819185  0.777453  Focus\n",
              "4  44.822451  191.980194  17.116479  1.270734  Focus"
            ],
            "text/html": [
              "\n",
              "  <div id=\"df-7716c949-902d-48f0-aa9f-d92fff0e57c0\">\n",
              "    <div class=\"colab-df-container\">\n",
              "      <div>\n",
              "<style scoped>\n",
              "    .dataframe tbody tr th:only-of-type {\n",
              "        vertical-align: middle;\n",
              "    }\n",
              "\n",
              "    .dataframe tbody tr th {\n",
              "        vertical-align: top;\n",
              "    }\n",
              "\n",
              "    .dataframe thead th {\n",
              "        text-align: right;\n",
              "    }\n",
              "</style>\n",
              "<table border=\"1\" class=\"dataframe\">\n",
              "  <thead>\n",
              "    <tr style=\"text-align: right;\">\n",
              "      <th></th>\n",
              "      <th>Alpha</th>\n",
              "      <th>Delta</th>\n",
              "      <th>Beta</th>\n",
              "      <th>Gamma</th>\n",
              "      <th>Label</th>\n",
              "    </tr>\n",
              "  </thead>\n",
              "  <tbody>\n",
              "    <tr>\n",
              "      <th>0</th>\n",
              "      <td>21.582478</td>\n",
              "      <td>75.814406</td>\n",
              "      <td>9.235991</td>\n",
              "      <td>0.708799</td>\n",
              "      <td>Focus</td>\n",
              "    </tr>\n",
              "    <tr>\n",
              "      <th>1</th>\n",
              "      <td>1.173516</td>\n",
              "      <td>5.487767</td>\n",
              "      <td>1.075237</td>\n",
              "      <td>0.142068</td>\n",
              "      <td>Focus</td>\n",
              "    </tr>\n",
              "    <tr>\n",
              "      <th>2</th>\n",
              "      <td>1.795885</td>\n",
              "      <td>31.367239</td>\n",
              "      <td>0.837457</td>\n",
              "      <td>0.117887</td>\n",
              "      <td>Focus</td>\n",
              "    </tr>\n",
              "    <tr>\n",
              "      <th>3</th>\n",
              "      <td>18.083213</td>\n",
              "      <td>52.505458</td>\n",
              "      <td>7.819185</td>\n",
              "      <td>0.777453</td>\n",
              "      <td>Focus</td>\n",
              "    </tr>\n",
              "    <tr>\n",
              "      <th>4</th>\n",
              "      <td>44.822451</td>\n",
              "      <td>191.980194</td>\n",
              "      <td>17.116479</td>\n",
              "      <td>1.270734</td>\n",
              "      <td>Focus</td>\n",
              "    </tr>\n",
              "  </tbody>\n",
              "</table>\n",
              "</div>\n",
              "      <button class=\"colab-df-convert\" onclick=\"convertToInteractive('df-7716c949-902d-48f0-aa9f-d92fff0e57c0')\"\n",
              "              title=\"Convert this dataframe to an interactive table.\"\n",
              "              style=\"display:none;\">\n",
              "        \n",
              "  <svg xmlns=\"http://www.w3.org/2000/svg\" height=\"24px\"viewBox=\"0 0 24 24\"\n",
              "       width=\"24px\">\n",
              "    <path d=\"M0 0h24v24H0V0z\" fill=\"none\"/>\n",
              "    <path d=\"M18.56 5.44l.94 2.06.94-2.06 2.06-.94-2.06-.94-.94-2.06-.94 2.06-2.06.94zm-11 1L8.5 8.5l.94-2.06 2.06-.94-2.06-.94L8.5 2.5l-.94 2.06-2.06.94zm10 10l.94 2.06.94-2.06 2.06-.94-2.06-.94-.94-2.06-.94 2.06-2.06.94z\"/><path d=\"M17.41 7.96l-1.37-1.37c-.4-.4-.92-.59-1.43-.59-.52 0-1.04.2-1.43.59L10.3 9.45l-7.72 7.72c-.78.78-.78 2.05 0 2.83L4 21.41c.39.39.9.59 1.41.59.51 0 1.02-.2 1.41-.59l7.78-7.78 2.81-2.81c.8-.78.8-2.07 0-2.86zM5.41 20L4 18.59l7.72-7.72 1.47 1.35L5.41 20z\"/>\n",
              "  </svg>\n",
              "      </button>\n",
              "      \n",
              "  <style>\n",
              "    .colab-df-container {\n",
              "      display:flex;\n",
              "      flex-wrap:wrap;\n",
              "      gap: 12px;\n",
              "    }\n",
              "\n",
              "    .colab-df-convert {\n",
              "      background-color: #E8F0FE;\n",
              "      border: none;\n",
              "      border-radius: 50%;\n",
              "      cursor: pointer;\n",
              "      display: none;\n",
              "      fill: #1967D2;\n",
              "      height: 32px;\n",
              "      padding: 0 0 0 0;\n",
              "      width: 32px;\n",
              "    }\n",
              "\n",
              "    .colab-df-convert:hover {\n",
              "      background-color: #E2EBFA;\n",
              "      box-shadow: 0px 1px 2px rgba(60, 64, 67, 0.3), 0px 1px 3px 1px rgba(60, 64, 67, 0.15);\n",
              "      fill: #174EA6;\n",
              "    }\n",
              "\n",
              "    [theme=dark] .colab-df-convert {\n",
              "      background-color: #3B4455;\n",
              "      fill: #D2E3FC;\n",
              "    }\n",
              "\n",
              "    [theme=dark] .colab-df-convert:hover {\n",
              "      background-color: #434B5C;\n",
              "      box-shadow: 0px 1px 3px 1px rgba(0, 0, 0, 0.15);\n",
              "      filter: drop-shadow(0px 1px 2px rgba(0, 0, 0, 0.3));\n",
              "      fill: #FFFFFF;\n",
              "    }\n",
              "  </style>\n",
              "\n",
              "      <script>\n",
              "        const buttonEl =\n",
              "          document.querySelector('#df-7716c949-902d-48f0-aa9f-d92fff0e57c0 button.colab-df-convert');\n",
              "        buttonEl.style.display =\n",
              "          google.colab.kernel.accessAllowed ? 'block' : 'none';\n",
              "\n",
              "        async function convertToInteractive(key) {\n",
              "          const element = document.querySelector('#df-7716c949-902d-48f0-aa9f-d92fff0e57c0');\n",
              "          const dataTable =\n",
              "            await google.colab.kernel.invokeFunction('convertToInteractive',\n",
              "                                                     [key], {});\n",
              "          if (!dataTable) return;\n",
              "\n",
              "          const docLinkHtml = 'Like what you see? Visit the ' +\n",
              "            '<a target=\"_blank\" href=https://colab.research.google.com/notebooks/data_table.ipynb>data table notebook</a>'\n",
              "            + ' to learn more about interactive tables.';\n",
              "          element.innerHTML = '';\n",
              "          dataTable['output_type'] = 'display_data';\n",
              "          await google.colab.output.renderOutput(dataTable, element);\n",
              "          const docLink = document.createElement('div');\n",
              "          docLink.innerHTML = docLinkHtml;\n",
              "          element.appendChild(docLink);\n",
              "        }\n",
              "      </script>\n",
              "    </div>\n",
              "  </div>\n",
              "  "
            ]
          },
          "metadata": {},
          "execution_count": 66
        }
      ]
    },
    {
      "cell_type": "code",
      "source": [
        "dfTest.head()"
      ],
      "metadata": {
        "colab": {
          "base_uri": "https://localhost:8080/",
          "height": 206
        },
        "id": "eRTYfVm9WDHm",
        "outputId": "0a447218-5376-4888-dee4-5aa9dab65beb"
      },
      "id": "eRTYfVm9WDHm",
      "execution_count": null,
      "outputs": [
        {
          "output_type": "execute_result",
          "data": {
            "text/plain": [
              "       Alpha       Delta       Beta     Gamma  Label\n",
              "0  21.582478   75.814406   9.235991  0.708799  Focus\n",
              "1   1.173516    5.487767   1.075237  0.142068  Focus\n",
              "2   1.795885   31.367239   0.837457  0.117887  Focus\n",
              "3  18.083213   52.505458   7.819185  0.777453  Focus\n",
              "4  44.822451  191.980194  17.116479  1.270734  Focus"
            ],
            "text/html": [
              "\n",
              "  <div id=\"df-afdd896b-eba7-475c-82ba-02c39ef70c71\">\n",
              "    <div class=\"colab-df-container\">\n",
              "      <div>\n",
              "<style scoped>\n",
              "    .dataframe tbody tr th:only-of-type {\n",
              "        vertical-align: middle;\n",
              "    }\n",
              "\n",
              "    .dataframe tbody tr th {\n",
              "        vertical-align: top;\n",
              "    }\n",
              "\n",
              "    .dataframe thead th {\n",
              "        text-align: right;\n",
              "    }\n",
              "</style>\n",
              "<table border=\"1\" class=\"dataframe\">\n",
              "  <thead>\n",
              "    <tr style=\"text-align: right;\">\n",
              "      <th></th>\n",
              "      <th>Alpha</th>\n",
              "      <th>Delta</th>\n",
              "      <th>Beta</th>\n",
              "      <th>Gamma</th>\n",
              "      <th>Label</th>\n",
              "    </tr>\n",
              "  </thead>\n",
              "  <tbody>\n",
              "    <tr>\n",
              "      <th>0</th>\n",
              "      <td>21.582478</td>\n",
              "      <td>75.814406</td>\n",
              "      <td>9.235991</td>\n",
              "      <td>0.708799</td>\n",
              "      <td>Focus</td>\n",
              "    </tr>\n",
              "    <tr>\n",
              "      <th>1</th>\n",
              "      <td>1.173516</td>\n",
              "      <td>5.487767</td>\n",
              "      <td>1.075237</td>\n",
              "      <td>0.142068</td>\n",
              "      <td>Focus</td>\n",
              "    </tr>\n",
              "    <tr>\n",
              "      <th>2</th>\n",
              "      <td>1.795885</td>\n",
              "      <td>31.367239</td>\n",
              "      <td>0.837457</td>\n",
              "      <td>0.117887</td>\n",
              "      <td>Focus</td>\n",
              "    </tr>\n",
              "    <tr>\n",
              "      <th>3</th>\n",
              "      <td>18.083213</td>\n",
              "      <td>52.505458</td>\n",
              "      <td>7.819185</td>\n",
              "      <td>0.777453</td>\n",
              "      <td>Focus</td>\n",
              "    </tr>\n",
              "    <tr>\n",
              "      <th>4</th>\n",
              "      <td>44.822451</td>\n",
              "      <td>191.980194</td>\n",
              "      <td>17.116479</td>\n",
              "      <td>1.270734</td>\n",
              "      <td>Focus</td>\n",
              "    </tr>\n",
              "  </tbody>\n",
              "</table>\n",
              "</div>\n",
              "      <button class=\"colab-df-convert\" onclick=\"convertToInteractive('df-afdd896b-eba7-475c-82ba-02c39ef70c71')\"\n",
              "              title=\"Convert this dataframe to an interactive table.\"\n",
              "              style=\"display:none;\">\n",
              "        \n",
              "  <svg xmlns=\"http://www.w3.org/2000/svg\" height=\"24px\"viewBox=\"0 0 24 24\"\n",
              "       width=\"24px\">\n",
              "    <path d=\"M0 0h24v24H0V0z\" fill=\"none\"/>\n",
              "    <path d=\"M18.56 5.44l.94 2.06.94-2.06 2.06-.94-2.06-.94-.94-2.06-.94 2.06-2.06.94zm-11 1L8.5 8.5l.94-2.06 2.06-.94-2.06-.94L8.5 2.5l-.94 2.06-2.06.94zm10 10l.94 2.06.94-2.06 2.06-.94-2.06-.94-.94-2.06-.94 2.06-2.06.94z\"/><path d=\"M17.41 7.96l-1.37-1.37c-.4-.4-.92-.59-1.43-.59-.52 0-1.04.2-1.43.59L10.3 9.45l-7.72 7.72c-.78.78-.78 2.05 0 2.83L4 21.41c.39.39.9.59 1.41.59.51 0 1.02-.2 1.41-.59l7.78-7.78 2.81-2.81c.8-.78.8-2.07 0-2.86zM5.41 20L4 18.59l7.72-7.72 1.47 1.35L5.41 20z\"/>\n",
              "  </svg>\n",
              "      </button>\n",
              "      \n",
              "  <style>\n",
              "    .colab-df-container {\n",
              "      display:flex;\n",
              "      flex-wrap:wrap;\n",
              "      gap: 12px;\n",
              "    }\n",
              "\n",
              "    .colab-df-convert {\n",
              "      background-color: #E8F0FE;\n",
              "      border: none;\n",
              "      border-radius: 50%;\n",
              "      cursor: pointer;\n",
              "      display: none;\n",
              "      fill: #1967D2;\n",
              "      height: 32px;\n",
              "      padding: 0 0 0 0;\n",
              "      width: 32px;\n",
              "    }\n",
              "\n",
              "    .colab-df-convert:hover {\n",
              "      background-color: #E2EBFA;\n",
              "      box-shadow: 0px 1px 2px rgba(60, 64, 67, 0.3), 0px 1px 3px 1px rgba(60, 64, 67, 0.15);\n",
              "      fill: #174EA6;\n",
              "    }\n",
              "\n",
              "    [theme=dark] .colab-df-convert {\n",
              "      background-color: #3B4455;\n",
              "      fill: #D2E3FC;\n",
              "    }\n",
              "\n",
              "    [theme=dark] .colab-df-convert:hover {\n",
              "      background-color: #434B5C;\n",
              "      box-shadow: 0px 1px 3px 1px rgba(0, 0, 0, 0.15);\n",
              "      filter: drop-shadow(0px 1px 2px rgba(0, 0, 0, 0.3));\n",
              "      fill: #FFFFFF;\n",
              "    }\n",
              "  </style>\n",
              "\n",
              "      <script>\n",
              "        const buttonEl =\n",
              "          document.querySelector('#df-afdd896b-eba7-475c-82ba-02c39ef70c71 button.colab-df-convert');\n",
              "        buttonEl.style.display =\n",
              "          google.colab.kernel.accessAllowed ? 'block' : 'none';\n",
              "\n",
              "        async function convertToInteractive(key) {\n",
              "          const element = document.querySelector('#df-afdd896b-eba7-475c-82ba-02c39ef70c71');\n",
              "          const dataTable =\n",
              "            await google.colab.kernel.invokeFunction('convertToInteractive',\n",
              "                                                     [key], {});\n",
              "          if (!dataTable) return;\n",
              "\n",
              "          const docLinkHtml = 'Like what you see? Visit the ' +\n",
              "            '<a target=\"_blank\" href=https://colab.research.google.com/notebooks/data_table.ipynb>data table notebook</a>'\n",
              "            + ' to learn more about interactive tables.';\n",
              "          element.innerHTML = '';\n",
              "          dataTable['output_type'] = 'display_data';\n",
              "          await google.colab.output.renderOutput(dataTable, element);\n",
              "          const docLink = document.createElement('div');\n",
              "          docLink.innerHTML = docLinkHtml;\n",
              "          element.appendChild(docLink);\n",
              "        }\n",
              "      </script>\n",
              "    </div>\n",
              "  </div>\n",
              "  "
            ]
          },
          "metadata": {},
          "execution_count": 67
        }
      ]
    },
    {
      "cell_type": "code",
      "source": [
        "# duplicate = df[df.duplicated()]\n",
        " \n",
        "# print(\"Duplicate Rows :\", duplicate)\n",
        "# duplicate"
      ],
      "metadata": {
        "id": "3mdRcgHM7g7b"
      },
      "id": "3mdRcgHM7g7b",
      "execution_count": null,
      "outputs": []
    },
    {
      "cell_type": "code",
      "source": [
        "# df= df.drop(columns = ['Channel'], axis =1)"
      ],
      "metadata": {
        "id": "pxSKrPh_75D9"
      },
      "id": "pxSKrPh_75D9",
      "execution_count": null,
      "outputs": []
    },
    {
      "cell_type": "code",
      "source": [
        "# df"
      ],
      "metadata": {
        "id": "LEhcklEg8KB0"
      },
      "id": "LEhcklEg8KB0",
      "execution_count": null,
      "outputs": []
    },
    {
      "cell_type": "code",
      "source": [
        "# shuffle the DataFrame rows\n",
        "# df = df.sample(frac = 1)\n",
        "# df.head()"
      ],
      "metadata": {
        "id": "d4uq5dNP75Gx"
      },
      "id": "d4uq5dNP75Gx",
      "execution_count": null,
      "outputs": []
    },
    {
      "cell_type": "code",
      "source": [
        "#import label encoder\n",
        "from sklearn import preprocessing \n",
        "#make an instance of Label Encoder\n",
        "label_encoder = preprocessing.LabelEncoder()\n",
        "y_train = label_encoder.fit_transform(dfTrain['Label'])\n",
        "y_train"
      ],
      "metadata": {
        "colab": {
          "base_uri": "https://localhost:8080/"
        },
        "id": "1WzU9M3KWN5-",
        "outputId": "45fac32a-61b1-40b3-f3aa-0bcb017a6ca9"
      },
      "id": "1WzU9M3KWN5-",
      "execution_count": null,
      "outputs": [
        {
          "output_type": "execute_result",
          "data": {
            "text/plain": [
              "array([0, 0, 0, 0, 0, 0, 0, 0, 0, 0, 0, 0, 0, 0, 0, 0, 0, 0, 0, 0, 0, 0,\n",
              "       0, 0, 0, 0, 0, 0, 1, 1, 1, 1, 1, 1, 1, 1, 1, 1, 1, 1, 1, 1, 1, 1,\n",
              "       1, 1, 1, 1, 1, 1, 1, 1, 1, 1, 1, 1])"
            ]
          },
          "metadata": {},
          "execution_count": 72
        }
      ]
    },
    {
      "cell_type": "code",
      "source": [
        "#import label encoder\n",
        "from sklearn import preprocessing \n",
        "#make an instance of Label Encoder\n",
        "label_encoder = preprocessing.LabelEncoder()\n",
        "y_test = label_encoder.fit_transform(dfTest['Label'])\n",
        "y_test"
      ],
      "metadata": {
        "colab": {
          "base_uri": "https://localhost:8080/"
        },
        "id": "1Cp7Qey0WgVt",
        "outputId": "5d52eab0-1b02-4810-ad87-ad189821f055"
      },
      "id": "1Cp7Qey0WgVt",
      "execution_count": null,
      "outputs": [
        {
          "output_type": "execute_result",
          "data": {
            "text/plain": [
              "array([0, 0, 0, 0, 0, 0, 0, 0, 0, 0, 0, 0, 0, 0, 0, 0, 0, 0, 0, 0, 0, 1,\n",
              "       1, 1, 1, 1, 1, 1, 1, 1, 1, 1, 1, 1, 1, 1, 1, 1, 1, 1, 1, 1])"
            ]
          },
          "metadata": {},
          "execution_count": 73
        }
      ]
    },
    {
      "cell_type": "code",
      "source": [
        "X_train = dfTrain.drop('Label',axis=1)\n",
        "X_test = dfTest.drop('Label',axis=1)"
      ],
      "metadata": {
        "id": "lqrTQqKtATqD"
      },
      "id": "lqrTQqKtATqD",
      "execution_count": null,
      "outputs": []
    },
    {
      "cell_type": "code",
      "source": [
        "from sklearn.model_selection import train_test_split\n",
        "# X_train, X_test, y_train, y_test = train_test_split(X, y, test_size = 0.25, shuffle = True, random_state = 40, stratify = y)\n",
        "# stratify = y makes sure that the rtatio of output columns are same in train and test"
      ],
      "metadata": {
        "id": "E3DdeNiU_jyy"
      },
      "id": "E3DdeNiU_jyy",
      "execution_count": null,
      "outputs": []
    },
    {
      "cell_type": "markdown",
      "source": [
        "<!-- K-Fold - run 10 times and get average -->"
      ],
      "metadata": {
        "id": "eb21fwDESEst"
      },
      "id": "eb21fwDESEst"
    },
    {
      "cell_type": "code",
      "source": [
        "from sklearn.preprocessing import StandardScaler\n",
        "sc = StandardScaler()\n",
        "X_train = sc.fit_transform(X_train)\n",
        "X_test = sc.transform(X_test)"
      ],
      "metadata": {
        "id": "b3KRsM2Z_kJL"
      },
      "id": "b3KRsM2Z_kJL",
      "execution_count": null,
      "outputs": []
    },
    {
      "cell_type": "code",
      "source": [
        "X_train"
      ],
      "metadata": {
        "colab": {
          "base_uri": "https://localhost:8080/"
        },
        "id": "LPygVan7Bq2H",
        "outputId": "ee88d506-3869-4d1f-84ed-1b3d12b2a4fa"
      },
      "id": "LPygVan7Bq2H",
      "execution_count": null,
      "outputs": [
        {
          "output_type": "execute_result",
          "data": {
            "text/plain": [
              "array([[ 1.84783894,  1.46527842,  2.05763656,  1.93297109],\n",
              "       [-0.43618662, -0.40013887, -0.22067873, -0.15100379],\n",
              "       [-0.36653549,  0.2863153 , -0.28706204, -0.23992317],\n",
              "       [ 1.45622621,  0.84700751,  1.66209324,  2.18542435],\n",
              "       [ 4.44869116,  4.54658118,  4.25770732,  3.99931099],\n",
              "       [-0.40306549, -0.32275105, -0.01410656,  0.02761433],\n",
              "       [-0.14603428, -0.13199769,  0.06293757,  0.30568365],\n",
              "       [ 1.84783894,  1.46527842,  2.05763656,  1.93297109],\n",
              "       [-0.43618662, -0.40013887, -0.22067873, -0.15100379],\n",
              "       [-0.36653549,  0.2863153 , -0.28706204, -0.23992317],\n",
              "       [ 1.45622621,  0.84700751,  1.66209324,  2.18542435],\n",
              "       [ 4.44869116,  4.54658118,  4.25770732,  3.99931099],\n",
              "       [-0.40306549, -0.32275105, -0.01410656,  0.02761433],\n",
              "       [-0.14603428, -0.13199769,  0.06293757,  0.30568365],\n",
              "       [-0.42055511, -0.51141499, -0.38627883, -0.42220556],\n",
              "       [-0.35034469, -0.46071874, -0.33818968, -0.35337933],\n",
              "       [-0.18981856, -0.33268451, -0.30619578, -0.37045547],\n",
              "       [-0.30270851, -0.29211275, -0.34332958, -0.22223914],\n",
              "       [-0.26707153, -0.11757429, -0.30648308, -0.28929879],\n",
              "       [-0.31297141, -0.40134702, -0.34122035, -0.23479016],\n",
              "       [-0.2612689 , -0.47727846, -0.36626957, -0.43770889],\n",
              "       [-0.47603187, -0.46503972, -0.31885946, -0.47507393],\n",
              "       [-0.34125356, -0.43502385, -0.3355175 , -0.39248953],\n",
              "       [-0.38130783, -0.47112481, -0.39183256, -0.54249764],\n",
              "       [-0.36740353, -0.45531709, -0.36559377, -0.49182633],\n",
              "       [-0.31226849, -0.42819526, -0.31417572, -0.47483713],\n",
              "       [-0.26087181, -0.42190043, -0.36771195, -0.39835579],\n",
              "       [-0.34751787, -0.48147742, -0.43312759, -0.48130089],\n",
              "       [-0.03496389,  0.08732157, -0.35230741, -0.31939385],\n",
              "       [-0.39442952, -0.51893284, -0.43037854, -0.55121953],\n",
              "       [-0.21983685, -0.43794156, -0.35402717, -0.44599296],\n",
              "       [-0.10226101, -0.33645338, -0.34710811, -0.39441856],\n",
              "       [-0.16007025, -0.47693296, -0.3933661 , -0.44509485],\n",
              "       [-0.12409881, -0.48844304, -0.36195693, -0.32680807],\n",
              "       [-0.43618533, -0.51250504, -0.42251709, -0.49363198],\n",
              "       [-0.39188699,  0.43739192, -0.36739803, -0.27633837],\n",
              "       [-0.33415066, -0.03655253, -0.37588119, -0.24271706],\n",
              "       [-0.46869916,  0.02717391, -0.40786061, -0.32093848],\n",
              "       [-0.33399502,  1.02341369, -0.34121411, -0.18683847],\n",
              "       [-0.33011951,  0.61508569, -0.34476704, -0.29709325],\n",
              "       [-0.34343506, -0.04020086, -0.3287561 , -0.22301069],\n",
              "       [-0.39659534, -0.22579945, -0.34576834, -0.33082099],\n",
              "       [-0.34164401, -0.45157742, -0.38236703, -0.34788574],\n",
              "       [-0.2429289 , -0.40268361, -0.39397291, -0.33236926],\n",
              "       [-0.32796911, -0.3214815 , -0.34540245, -0.45572546],\n",
              "       [-0.30677066, -0.29098187, -0.30679593, -0.34300312],\n",
              "       [-0.30506261, -0.09838838, -0.2865237 , -0.32706518],\n",
              "       [-0.21671407, -0.37066602, -0.36841413, -0.28212953],\n",
              "       [-0.28488656, -0.47196518, -0.41413055, -0.36152586],\n",
              "       [-0.30040923, -0.52710524, -0.3215467 , -0.55577674],\n",
              "       [-0.42742062, -0.52483223, -0.45119789, -0.54181256],\n",
              "       [-0.50770776, -0.5354186 , -0.48098385, -0.61667754],\n",
              "       [-0.25439737, -0.51269817, -0.29049291, -0.35461253],\n",
              "       [-0.15054243, -0.45972383, -0.27058536, -0.38712364],\n",
              "       [-0.22104178, -0.46336149, -0.24711674, -0.27782112],\n",
              "       [-0.25225272, -0.51512186, -0.38943238, -0.49585089]])"
            ]
          },
          "metadata": {},
          "execution_count": 77
        }
      ]
    },
    {
      "cell_type": "code",
      "source": [
        "len(y_train)"
      ],
      "metadata": {
        "colab": {
          "base_uri": "https://localhost:8080/"
        },
        "id": "M5eyrEh2rx-p",
        "outputId": "e5b65038-4fdc-4ae2-99fe-a4974b04fff4"
      },
      "id": "M5eyrEh2rx-p",
      "execution_count": null,
      "outputs": [
        {
          "output_type": "execute_result",
          "data": {
            "text/plain": [
              "56"
            ]
          },
          "metadata": {},
          "execution_count": 78
        }
      ]
    },
    {
      "cell_type": "markdown",
      "id": "d353e7f8",
      "metadata": {
        "id": "d353e7f8"
      },
      "source": [
        "# DecisionTreeClassifier"
      ]
    },
    {
      "cell_type": "code",
      "execution_count": null,
      "id": "e9d6ed52",
      "metadata": {
        "colab": {
          "base_uri": "https://localhost:8080/"
        },
        "id": "e9d6ed52",
        "outputId": "fdc4cacb-2cc3-42dd-f4b8-05b1ddeb6fd4"
      },
      "outputs": [
        {
          "output_type": "stream",
          "name": "stdout",
          "text": [
            "              precision    recall  f1-score   support\n",
            "\n",
            "           0       1.00      1.00      1.00        21\n",
            "           1       1.00      1.00      1.00        21\n",
            "\n",
            "    accuracy                           1.00        42\n",
            "   macro avg       1.00      1.00      1.00        42\n",
            "weighted avg       1.00      1.00      1.00        42\n",
            "\n",
            "Accuracy  1.0\n"
          ]
        }
      ],
      "source": [
        "from sklearn.tree import DecisionTreeClassifier\n",
        "classifier = DecisionTreeClassifier(criterion = 'entropy', random_state = 42)\n",
        "classifier.fit(X_train, y_train)\n",
        "y_pred = classifier.predict(X_test)\n",
        "dt_acc = accuracy_score(y_test,y_pred)\n",
        "print(classification_report(y_test,y_pred))\n",
        "print('Accuracy ', np.round(dt_acc,2))"
      ]
    },
    {
      "cell_type": "code",
      "source": [
        "# # DT New\n",
        "# from sklearn.tree import DecisionTreeClassifier\n",
        "# classifier = DecisionTreeClassifier(criterion = 'entropy', random_state = 42)\n",
        "# classifier.fit(X_train, y_train)\n",
        "# y_pred = classifier.predict(X_trainNew)\n",
        "# dt_acc = accuracy_score(Y_testNew,y_pred)\n",
        "# print(classification_report(Y_testNew,y_pred))\n",
        "# print('Accuracy ', np.round(dt_acc,2))"
      ],
      "metadata": {
        "id": "b2yB07zY-qcU"
      },
      "id": "b2yB07zY-qcU",
      "execution_count": null,
      "outputs": []
    },
    {
      "cell_type": "code",
      "source": [
        "# pip install scikit"
      ],
      "metadata": {
        "id": "P_-OQGeo7b_o"
      },
      "id": "P_-OQGeo7b_o",
      "execution_count": null,
      "outputs": []
    },
    {
      "cell_type": "markdown",
      "source": [
        "##LightBGM"
      ],
      "metadata": {
        "id": "Q-mW8niuLeQn"
      },
      "id": "Q-mW8niuLeQn"
    },
    {
      "cell_type": "code",
      "source": [
        "from lightgbm import LGBMClassifier\n",
        "classifier = LGBMClassifier(random_state=5)\n",
        "classifier.fit(X_train, y_train)\n",
        "y_pred = classifier.predict(X_test)\n",
        "lightgbm_acc = accuracy_score(y_test,y_pred)\n",
        "print(classification_report(y_test,y_pred))"
      ],
      "metadata": {
        "colab": {
          "base_uri": "https://localhost:8080/"
        },
        "id": "aT5ZU2Z4LOXa",
        "outputId": "ced78c1b-ea23-461f-a17e-cf283da8efe3"
      },
      "id": "aT5ZU2Z4LOXa",
      "execution_count": null,
      "outputs": [
        {
          "output_type": "stream",
          "name": "stdout",
          "text": [
            "              precision    recall  f1-score   support\n",
            "\n",
            "           0       0.78      0.86      0.82        21\n",
            "           1       0.84      0.76      0.80        21\n",
            "\n",
            "    accuracy                           0.81        42\n",
            "   macro avg       0.81      0.81      0.81        42\n",
            "weighted avg       0.81      0.81      0.81        42\n",
            "\n"
          ]
        }
      ]
    },
    {
      "cell_type": "code",
      "source": [
        "# from sklearn.metrics import plot_confusion_matrix\n",
        "# plot_confusion_matrix(classifier, X_test, y_test)  \n",
        "# plt.show()"
      ],
      "metadata": {
        "id": "dq4hH5txpoOV"
      },
      "id": "dq4hH5txpoOV",
      "execution_count": null,
      "outputs": []
    },
    {
      "cell_type": "markdown",
      "source": [
        "## Logistic Regression"
      ],
      "metadata": {
        "id": "SuGubX964q7n"
      },
      "id": "SuGubX964q7n"
    },
    {
      "cell_type": "code",
      "source": [
        "from sklearn.linear_model import LogisticRegression\n",
        "classifier = LogisticRegression(random_state = 0)\n",
        "classifier.fit(X_train, y_train)\n",
        "y_pred = classifier.predict(X_test)\n",
        "lg_acc = accuracy_score(y_test,y_pred)\n",
        "print('Accuracy ', np.round(lg_acc,2))\n",
        "print(classification_report(y_test,y_pred))"
      ],
      "metadata": {
        "colab": {
          "base_uri": "https://localhost:8080/"
        },
        "id": "_DsJJnEh4pph",
        "outputId": "ec040b16-c8ae-467b-a44d-747333563be4"
      },
      "id": "_DsJJnEh4pph",
      "execution_count": null,
      "outputs": [
        {
          "output_type": "stream",
          "name": "stdout",
          "text": [
            "Accuracy  0.79\n",
            "              precision    recall  f1-score   support\n",
            "\n",
            "           0       1.00      0.57      0.73        21\n",
            "           1       0.70      1.00      0.82        21\n",
            "\n",
            "    accuracy                           0.79        42\n",
            "   macro avg       0.85      0.79      0.78        42\n",
            "weighted avg       0.85      0.79      0.78        42\n",
            "\n"
          ]
        }
      ]
    },
    {
      "cell_type": "code",
      "source": [
        "y_pred = classifier.predict_proba(X_test)\n"
      ],
      "metadata": {
        "id": "SxnHdjrwIOPP"
      },
      "id": "SxnHdjrwIOPP",
      "execution_count": null,
      "outputs": []
    },
    {
      "cell_type": "code",
      "source": [
        "y_pred\n",
        "# 0.49727592% chNCW FOCUSED"
      ],
      "metadata": {
        "colab": {
          "base_uri": "https://localhost:8080/"
        },
        "id": "xsvfrqucIOro",
        "outputId": "a868871e-1739-4fa3-f861-d06e1d280be7"
      },
      "id": "xsvfrqucIOro",
      "execution_count": null,
      "outputs": [
        {
          "output_type": "execute_result",
          "data": {
            "text/plain": [
              "array([[0.96928132, 0.03071868],\n",
              "       [0.54078192, 0.45921808],\n",
              "       [0.41455677, 0.58544323],\n",
              "       [0.97629574, 0.02370426],\n",
              "       [0.99749282, 0.00250718],\n",
              "       [0.63207625, 0.36792375],\n",
              "       [0.68573132, 0.31426868],\n",
              "       [0.96928132, 0.03071868],\n",
              "       [0.54078192, 0.45921808],\n",
              "       [0.41455677, 0.58544323],\n",
              "       [0.97629574, 0.02370426],\n",
              "       [0.99749282, 0.00250718],\n",
              "       [0.63207625, 0.36792375],\n",
              "       [0.68573132, 0.31426868],\n",
              "       [0.43172893, 0.56827107],\n",
              "       [0.45303834, 0.54696166],\n",
              "       [0.4308406 , 0.5691594 ],\n",
              "       [0.46627044, 0.53372956],\n",
              "       [0.43449247, 0.56550753],\n",
              "       [0.47654353, 0.52345647],\n",
              "       [0.41776372, 0.58223628],\n",
              "       [0.37604324, 0.62395676],\n",
              "       [0.38393478, 0.61606522],\n",
              "       [0.41136552, 0.58863448],\n",
              "       [0.4080636 , 0.5919364 ],\n",
              "       [0.4018691 , 0.5981309 ],\n",
              "       [0.44177338, 0.55822662],\n",
              "       [0.40373715, 0.59626285],\n",
              "       [0.36948711, 0.63051289],\n",
              "       [0.42502141, 0.57497859],\n",
              "       [0.39721676, 0.60278324],\n",
              "       [0.33372221, 0.66627779],\n",
              "       [0.34667024, 0.65332976],\n",
              "       [0.44385478, 0.55614522],\n",
              "       [0.43385549, 0.56614451],\n",
              "       [0.4413971 , 0.5586029 ],\n",
              "       [0.43036225, 0.56963775],\n",
              "       [0.40522808, 0.59477192],\n",
              "       [0.4417599 , 0.5582401 ],\n",
              "       [0.4295169 , 0.5704831 ],\n",
              "       [0.4457026 , 0.5542974 ],\n",
              "       [0.42770415, 0.57229585]])"
            ]
          },
          "metadata": {},
          "execution_count": 86
        }
      ]
    },
    {
      "cell_type": "code",
      "source": [],
      "metadata": {
        "id": "XFlCpf74IOxm"
      },
      "id": "XFlCpf74IOxm",
      "execution_count": null,
      "outputs": []
    },
    {
      "cell_type": "code",
      "source": [
        "# from sklearn.metrics import plot_confusion_matrix\n",
        "# plot_confusion_matrix(classifier, X_test, y_test)  \n",
        "# plt.show()"
      ],
      "metadata": {
        "id": "CEqd_kvWpkVX"
      },
      "id": "CEqd_kvWpkVX",
      "execution_count": null,
      "outputs": []
    },
    {
      "cell_type": "code",
      "source": [
        "# print(confusion_matrix(y_test,y_pred))"
      ],
      "metadata": {
        "id": "JwbNVsIZqU1H"
      },
      "id": "JwbNVsIZqU1H",
      "execution_count": null,
      "outputs": []
    },
    {
      "cell_type": "code",
      "source": [
        "# from sklearn.metrics import plot_confusion_matrix\n",
        "# plot_confusion_matrix(classifier, X_test, y_test)  \n",
        "# plt.show()"
      ],
      "metadata": {
        "id": "Q-GQHLktrfwq"
      },
      "id": "Q-GQHLktrfwq",
      "execution_count": null,
      "outputs": []
    },
    {
      "cell_type": "markdown",
      "source": [
        "## KNN"
      ],
      "metadata": {
        "id": "OuCXiwKWj1PI"
      },
      "id": "OuCXiwKWj1PI"
    },
    {
      "cell_type": "code",
      "source": [
        "from sklearn.neighbors import KNeighborsClassifier\n",
        "import math\n",
        "k=math.sqrt(60)\n",
        "classifier = KNeighborsClassifier(n_neighbors=8)\n",
        "classifier.fit(X_train, y_train)\n",
        "y_pred = classifier.predict(X_test)\n",
        "knn_acc = accuracy_score(y_test,y_pred)\n",
        "print('Accuracy ', np.round(knn_acc,2))\n",
        "print(classification_report(y_test,y_pred))"
      ],
      "metadata": {
        "id": "00uXRU9bjva4",
        "colab": {
          "base_uri": "https://localhost:8080/"
        },
        "outputId": "ab2f454d-1d6e-459b-a149-6980e2ff9459"
      },
      "id": "00uXRU9bjva4",
      "execution_count": null,
      "outputs": [
        {
          "output_type": "stream",
          "name": "stdout",
          "text": [
            "Accuracy  0.74\n",
            "              precision    recall  f1-score   support\n",
            "\n",
            "           0       0.73      0.76      0.74        21\n",
            "           1       0.75      0.71      0.73        21\n",
            "\n",
            "    accuracy                           0.74        42\n",
            "   macro avg       0.74      0.74      0.74        42\n",
            "weighted avg       0.74      0.74      0.74        42\n",
            "\n"
          ]
        }
      ]
    },
    {
      "cell_type": "code",
      "source": [
        "# To get probability:\n",
        "y_pred = classifier.predict_proba(X_test)\n",
        "# knn_acc = accuracy_score(y_test,y_pred)\n",
        "# print('Accuracy ', np.round(knn_acc,2))\n",
        "# print(classification_report(y_test,y_pred))"
      ],
      "metadata": {
        "id": "cL8iIXs_-P3g"
      },
      "id": "cL8iIXs_-P3g",
      "execution_count": null,
      "outputs": []
    },
    {
      "cell_type": "code",
      "source": [
        "y_pred"
      ],
      "metadata": {
        "colab": {
          "base_uri": "https://localhost:8080/"
        },
        "id": "E9Fgz2qDJWLl",
        "outputId": "7c10172d-5c09-452f-ca7c-b46cdd678870"
      },
      "id": "E9Fgz2qDJWLl",
      "execution_count": null,
      "outputs": [
        {
          "output_type": "execute_result",
          "data": {
            "text/plain": [
              "array([[0.875, 0.125],\n",
              "       [0.625, 0.375],\n",
              "       [0.25 , 0.75 ],\n",
              "       [1.   , 0.   ],\n",
              "       [0.875, 0.125],\n",
              "       [1.   , 0.   ],\n",
              "       [0.875, 0.125],\n",
              "       [0.875, 0.125],\n",
              "       [0.625, 0.375],\n",
              "       [0.25 , 0.75 ],\n",
              "       [1.   , 0.   ],\n",
              "       [0.875, 0.125],\n",
              "       [1.   , 0.   ],\n",
              "       [0.875, 0.125],\n",
              "       [0.75 , 0.25 ],\n",
              "       [0.625, 0.375],\n",
              "       [0.25 , 0.75 ],\n",
              "       [0.5  , 0.5  ],\n",
              "       [0.375, 0.625],\n",
              "       [0.375, 0.625],\n",
              "       [0.5  , 0.5  ],\n",
              "       [0.375, 0.625],\n",
              "       [0.5  , 0.5  ],\n",
              "       [0.375, 0.625],\n",
              "       [0.125, 0.875],\n",
              "       [0.25 , 0.75 ],\n",
              "       [0.   , 1.   ],\n",
              "       [0.625, 0.375],\n",
              "       [0.25 , 0.75 ],\n",
              "       [0.25 , 0.75 ],\n",
              "       [0.375, 0.625],\n",
              "       [0.25 , 0.75 ],\n",
              "       [0.25 , 0.75 ],\n",
              "       [0.25 , 0.75 ],\n",
              "       [0.375, 0.625],\n",
              "       [0.625, 0.375],\n",
              "       [0.375, 0.625],\n",
              "       [0.625, 0.375],\n",
              "       [0.375, 0.625],\n",
              "       [0.25 , 0.75 ],\n",
              "       [0.5  , 0.5  ],\n",
              "       [0.5  , 0.5  ]])"
            ]
          },
          "metadata": {},
          "execution_count": 92
        }
      ]
    },
    {
      "cell_type": "code",
      "source": [
        "# print(confusion_matrix(y_test,y_pred))\n",
        "# from sklearn.metrics import plot_confusion_matrix\n",
        "# plot_confusion_matrix(classifier, X_test, y_test)  \n",
        "# plt.show()"
      ],
      "metadata": {
        "id": "f7FurnSysF2G"
      },
      "id": "f7FurnSysF2G",
      "execution_count": null,
      "outputs": []
    },
    {
      "cell_type": "markdown",
      "source": [
        "##NaiveBayes"
      ],
      "metadata": {
        "id": "ynQtbHVwm5Ly"
      },
      "id": "ynQtbHVwm5Ly"
    },
    {
      "cell_type": "code",
      "source": [
        "from sklearn.naive_bayes import GaussianNB\n",
        "classifier = GaussianNB()\n",
        "classifier.fit(X_train, y_train)\n",
        "y_pred = classifier.predict(X_test)\n",
        "NB_acc = accuracy_score(y_test,y_pred)\n",
        "print('Accuracy ', np.round(NB_acc,2))\n",
        "print(classification_report(y_test,y_pred))"
      ],
      "metadata": {
        "colab": {
          "base_uri": "https://localhost:8080/"
        },
        "id": "By9NERW6jxAu",
        "outputId": "999ddb90-0e83-4598-c542-55a383476f7b"
      },
      "id": "By9NERW6jxAu",
      "execution_count": null,
      "outputs": [
        {
          "output_type": "stream",
          "name": "stdout",
          "text": [
            "Accuracy  0.74\n",
            "              precision    recall  f1-score   support\n",
            "\n",
            "           0       1.00      0.48      0.65        21\n",
            "           1       0.66      1.00      0.79        21\n",
            "\n",
            "    accuracy                           0.74        42\n",
            "   macro avg       0.83      0.74      0.72        42\n",
            "weighted avg       0.83      0.74      0.72        42\n",
            "\n"
          ]
        }
      ]
    },
    {
      "cell_type": "code",
      "source": [
        "# print(confusion_matrix(y_test,y_pred))\n",
        "# from sklearn.metrics import plot_confusion_matrix\n",
        "# plot_confusion_matrix(classifier, X_test, y_test)  \n",
        "# plt.show()"
      ],
      "metadata": {
        "id": "4B2tFcBfsLrK"
      },
      "id": "4B2tFcBfsLrK",
      "execution_count": null,
      "outputs": []
    },
    {
      "cell_type": "markdown",
      "source": [
        "## ADABoost"
      ],
      "metadata": {
        "id": "ZV00BgbVoKil"
      },
      "id": "ZV00BgbVoKil"
    },
    {
      "cell_type": "code",
      "source": [
        "from sklearn.ensemble import AdaBoostClassifier\n",
        "classifier = AdaBoostClassifier(n_estimators=100, random_state=0)\n",
        "classifier.fit(X_train, y_train)\n",
        "y_pred = classifier.predict(X_test)\n",
        "ada_acc = accuracy_score(y_test,y_pred)\n",
        "print('Accuracy ', np.round(ada_acc,2))\n",
        "print(classification_report(y_test,y_pred))"
      ],
      "metadata": {
        "colab": {
          "base_uri": "https://localhost:8080/"
        },
        "id": "eb2hn01PoOLr",
        "outputId": "acdc3d22-50c4-4a90-c6cc-c8415ff2db49"
      },
      "id": "eb2hn01PoOLr",
      "execution_count": null,
      "outputs": [
        {
          "output_type": "stream",
          "name": "stdout",
          "text": [
            "Accuracy  1.0\n",
            "              precision    recall  f1-score   support\n",
            "\n",
            "           0       1.00      1.00      1.00        21\n",
            "           1       1.00      1.00      1.00        21\n",
            "\n",
            "    accuracy                           1.00        42\n",
            "   macro avg       1.00      1.00      1.00        42\n",
            "weighted avg       1.00      1.00      1.00        42\n",
            "\n"
          ]
        }
      ]
    },
    {
      "cell_type": "code",
      "source": [
        "# print(confusion_matrix(y_test,y_pred))\n",
        "# from sklearn.metrics import plot_confusion_matrix\n",
        "# plot_confusion_matrix(classifier, X_test, y_test)  \n",
        "# plt.show()"
      ],
      "metadata": {
        "id": "9qMYprYpsa2D"
      },
      "id": "9qMYprYpsa2D",
      "execution_count": null,
      "outputs": []
    },
    {
      "cell_type": "markdown",
      "source": [
        "##Bagging"
      ],
      "metadata": {
        "id": "elkp1_1oogcE"
      },
      "id": "elkp1_1oogcE"
    },
    {
      "cell_type": "code",
      "source": [
        "from sklearn.ensemble import BaggingClassifier\n",
        "from sklearn.svm import SVC\n",
        "classifier = BaggingClassifier(base_estimator=SVC(),n_estimators=10, random_state=0)\n",
        "classifier.fit(X_train, y_train)\n",
        "y_pred = classifier.predict(X_test)\n",
        "bg_acc = accuracy_score(y_test,y_pred)\n",
        "print('Accuracy ', np.round(bg_acc,2))\n",
        "print(classification_report(y_test,y_pred))"
      ],
      "metadata": {
        "colab": {
          "base_uri": "https://localhost:8080/"
        },
        "id": "SscWA1sZoiVG",
        "outputId": "e825c0e7-637c-4065-8e85-a51f48144b44"
      },
      "id": "SscWA1sZoiVG",
      "execution_count": null,
      "outputs": [
        {
          "output_type": "stream",
          "name": "stdout",
          "text": [
            "Accuracy  0.69\n",
            "              precision    recall  f1-score   support\n",
            "\n",
            "           0       1.00      0.38      0.55        21\n",
            "           1       0.62      1.00      0.76        21\n",
            "\n",
            "    accuracy                           0.69        42\n",
            "   macro avg       0.81      0.69      0.66        42\n",
            "weighted avg       0.81      0.69      0.66        42\n",
            "\n"
          ]
        },
        {
          "output_type": "stream",
          "name": "stderr",
          "text": [
            "/usr/local/lib/python3.8/dist-packages/sklearn/ensemble/_base.py:166: FutureWarning: `base_estimator` was renamed to `estimator` in version 1.2 and will be removed in 1.4.\n",
            "  warnings.warn(\n"
          ]
        }
      ]
    },
    {
      "cell_type": "code",
      "source": [
        "# print(confusion_matrix(y_test,y_pred))\n",
        "# from sklearn.metrics import plot_confusion_matrix\n",
        "# plot_confusion_matrix(classifier, X_test, y_test)  \n",
        "# plt.show()"
      ],
      "metadata": {
        "id": "70wdvxCdsfFk"
      },
      "id": "70wdvxCdsfFk",
      "execution_count": null,
      "outputs": []
    },
    {
      "cell_type": "markdown",
      "source": [
        "##LDA"
      ],
      "metadata": {
        "id": "F9Vyqj6ApahO"
      },
      "id": "F9Vyqj6ApahO"
    },
    {
      "cell_type": "code",
      "source": [
        "from sklearn.discriminant_analysis import LinearDiscriminantAnalysis\n",
        "classifier = LinearDiscriminantAnalysis()\n",
        "classifier.fit(X_train, y_train)\n",
        "y_pred = classifier.predict(X_test)\n",
        "lda_acc = accuracy_score(y_test,y_pred)\n",
        "print('Accuracy ', np.round(lda_acc,2))\n",
        "print(classification_report(y_test,y_pred))"
      ],
      "metadata": {
        "colab": {
          "base_uri": "https://localhost:8080/"
        },
        "id": "kj2vwzohpcXG",
        "outputId": "2620d666-40ed-4c7c-ef3d-ac1a8ff7b6bc"
      },
      "id": "kj2vwzohpcXG",
      "execution_count": null,
      "outputs": [
        {
          "output_type": "stream",
          "name": "stdout",
          "text": [
            "Accuracy  0.81\n",
            "              precision    recall  f1-score   support\n",
            "\n",
            "           0       1.00      0.62      0.76        21\n",
            "           1       0.72      1.00      0.84        21\n",
            "\n",
            "    accuracy                           0.81        42\n",
            "   macro avg       0.86      0.81      0.80        42\n",
            "weighted avg       0.86      0.81      0.80        42\n",
            "\n"
          ]
        }
      ]
    },
    {
      "cell_type": "code",
      "source": [
        "# print(confusion_matrix(y_test,y_pred))\n",
        "# from sklearn.metrics import plot_confusion_matrix\n",
        "# plot_confusion_matrix(classifier, X_test, y_test)  \n",
        "# plt.show()"
      ],
      "metadata": {
        "id": "FP_k39qCshaP"
      },
      "id": "FP_k39qCshaP",
      "execution_count": null,
      "outputs": []
    },
    {
      "cell_type": "markdown",
      "id": "4c8b29fa",
      "metadata": {
        "id": "4c8b29fa"
      },
      "source": [
        "# RandomForest\n",
        "\n"
      ]
    },
    {
      "cell_type": "code",
      "execution_count": null,
      "id": "74a40af6",
      "metadata": {
        "colab": {
          "base_uri": "https://localhost:8080/"
        },
        "id": "74a40af6",
        "outputId": "f4a642b5-0331-4892-8c94-effe90ab6d07"
      },
      "outputs": [
        {
          "output_type": "stream",
          "name": "stdout",
          "text": [
            "Accuracy  1.0\n",
            "              precision    recall  f1-score   support\n",
            "\n",
            "           0       1.00      1.00      1.00        21\n",
            "           1       1.00      1.00      1.00        21\n",
            "\n",
            "    accuracy                           1.00        42\n",
            "   macro avg       1.00      1.00      1.00        42\n",
            "weighted avg       1.00      1.00      1.00        42\n",
            "\n"
          ]
        }
      ],
      "source": [
        "from sklearn.ensemble import RandomForestClassifier\n",
        "classifier = RandomForestClassifier(n_estimators = 10, criterion = 'entropy', random_state = 42)\n",
        "classifier.fit(X_train, y_train)\n",
        "y_pred = classifier.predict(X_test)\n",
        "rf_acc = accuracy_score(y_test,y_pred)\n",
        "print('Accuracy ', np.round(rf_acc,2))\n",
        "print(classification_report(y_test,y_pred))"
      ]
    },
    {
      "cell_type": "code",
      "source": [
        "# print(confusion_matrix(y_test,y_pred))\n",
        "# from sklearn.metrics import plot_confusion_matrix\n",
        "# plot_confusion_matrix(classifier, X_test, y_test)  \n",
        "# plt.show()"
      ],
      "metadata": {
        "id": "tmqf8UoisjUf"
      },
      "id": "tmqf8UoisjUf",
      "execution_count": null,
      "outputs": []
    },
    {
      "cell_type": "markdown",
      "id": "750e074a",
      "metadata": {
        "id": "750e074a"
      },
      "source": [
        "# XGBClassifier"
      ]
    },
    {
      "cell_type": "code",
      "execution_count": null,
      "id": "ec2b5bcc",
      "metadata": {
        "id": "ec2b5bcc"
      },
      "outputs": [],
      "source": [
        "from xgboost import XGBClassifier"
      ]
    },
    {
      "cell_type": "code",
      "source": [],
      "metadata": {
        "id": "vBhHG2VIPpNz"
      },
      "id": "vBhHG2VIPpNz",
      "execution_count": null,
      "outputs": []
    },
    {
      "cell_type": "code",
      "source": [
        "# #import label encoder\n",
        "# from sklearn import preprocessing \n",
        "# #make an instance of Label Encoder\n",
        "# label_encoder = preprocessing.LabelEncoder()\n",
        "# y_train = label_encoder.fit_transform(y_train)\n",
        "# y_train"
      ],
      "metadata": {
        "id": "Wl4H_Iu6PYh0"
      },
      "id": "Wl4H_Iu6PYh0",
      "execution_count": null,
      "outputs": []
    },
    {
      "cell_type": "code",
      "source": [
        "# #import label encoder\n",
        "# from sklearn import preprocessing \n",
        "# #make an instance of Label Encoder\n",
        "# label_encoder = preprocessing.LabelEncoder()\n",
        "# y_test = label_encoder.fit_transform(y_test)\n",
        "# y_test"
      ],
      "metadata": {
        "id": "EcuIiPtGPxhO"
      },
      "id": "EcuIiPtGPxhO",
      "execution_count": null,
      "outputs": []
    },
    {
      "cell_type": "code",
      "source": [
        "\n",
        "#import label encoder\n",
        "from sklearn import preprocessing \n",
        "#make an instance of Label Encoder\n",
        "label_encoder = preprocessing.LabelEncoder()\n",
        "y_pred = label_encoder.fit_transform(y_pred)\n",
        "y_pred"
      ],
      "metadata": {
        "colab": {
          "base_uri": "https://localhost:8080/"
        },
        "id": "b91Zc0ffP7gk",
        "outputId": "fbf21fdb-9533-4990-ebec-068da0b164a6"
      },
      "id": "b91Zc0ffP7gk",
      "execution_count": null,
      "outputs": [
        {
          "output_type": "execute_result",
          "data": {
            "text/plain": [
              "array([0, 0, 0, 0, 0, 0, 0, 0, 0, 0, 0, 0, 0, 0, 0, 0, 0, 0, 0, 0, 0, 1,\n",
              "       1, 1, 1, 1, 1, 1, 1, 1, 1, 1, 1, 1, 1, 1, 1, 1, 1, 1, 1, 1])"
            ]
          },
          "metadata": {},
          "execution_count": 107
        }
      ]
    },
    {
      "cell_type": "code",
      "execution_count": null,
      "id": "d718a934",
      "metadata": {
        "id": "d718a934"
      },
      "outputs": [],
      "source": [
        "xgb = XGBClassifier(n_estimators=100,random_state = 42)\n",
        "xgb.fit(X_train, y_train)\n",
        "preds = xgb.predict(X_test)\n",
        "xbg_acc = accuracy_score(y_test,preds)"
      ]
    },
    {
      "cell_type": "code",
      "source": [],
      "metadata": {
        "id": "Cv7rBoEdPXYy"
      },
      "id": "Cv7rBoEdPXYy",
      "execution_count": null,
      "outputs": []
    },
    {
      "cell_type": "code",
      "execution_count": null,
      "id": "a8223a4f",
      "metadata": {
        "id": "a8223a4f",
        "colab": {
          "base_uri": "https://localhost:8080/"
        },
        "outputId": "b61242ee-4752-48b1-fb63-41cf5df9202d"
      },
      "outputs": [
        {
          "output_type": "stream",
          "name": "stdout",
          "text": [
            "              precision    recall  f1-score   support\n",
            "\n",
            "           0       1.00      1.00      1.00        21\n",
            "           1       1.00      1.00      1.00        21\n",
            "\n",
            "    accuracy                           1.00        42\n",
            "   macro avg       1.00      1.00      1.00        42\n",
            "weighted avg       1.00      1.00      1.00        42\n",
            "\n",
            "Accuracy  1.0\n"
          ]
        }
      ],
      "source": [
        "print(classification_report(y_test,preds))\n",
        "print('Accuracy ', np.round(xbg_acc,2))\n"
      ]
    },
    {
      "cell_type": "code",
      "source": [
        "# print(confusion_matrix(y_test,preds))\n",
        "# from sklearn.metrics import plot_confusion_matrix\n",
        "# plot_confusion_matrix(xgb, X_test, y_test)  \n",
        "# plt.show()"
      ],
      "metadata": {
        "id": "NpYVp4Krskq4"
      },
      "id": "NpYVp4Krskq4",
      "execution_count": null,
      "outputs": []
    },
    {
      "cell_type": "markdown",
      "id": "f1d4a71d",
      "metadata": {
        "id": "f1d4a71d"
      },
      "source": [
        "# MLP"
      ]
    },
    {
      "cell_type": "code",
      "execution_count": null,
      "id": "30e593fc",
      "metadata": {
        "id": "30e593fc"
      },
      "outputs": [],
      "source": [
        "from sklearn.neural_network import MLPClassifier"
      ]
    },
    {
      "cell_type": "code",
      "execution_count": null,
      "id": "1775e183",
      "metadata": {
        "id": "1775e183",
        "colab": {
          "base_uri": "https://localhost:8080/"
        },
        "outputId": "3ddc0c7c-f0b6-48f0-8158-184fb7dbc05f"
      },
      "outputs": [
        {
          "output_type": "stream",
          "name": "stdout",
          "text": [
            "Accuracy  0.86\n"
          ]
        },
        {
          "output_type": "stream",
          "name": "stderr",
          "text": [
            "/usr/local/lib/python3.8/dist-packages/sklearn/neural_network/_multilayer_perceptron.py:684: ConvergenceWarning: Stochastic Optimizer: Maximum iterations (200) reached and the optimization hasn't converged yet.\n",
            "  warnings.warn(\n"
          ]
        }
      ],
      "source": [
        "clf = MLPClassifier(hidden_layer_sizes=(100,),random_state=42)\n",
        "clf.fit(X_train, y_train)\n",
        "y_pred_mlp = clf.predict(X_test)\n",
        "mlp_acc = accuracy_score(y_test,y_pred_mlp)\n",
        "print('Accuracy ', np.round(mlp_acc,2))\n"
      ]
    },
    {
      "cell_type": "code",
      "execution_count": null,
      "id": "3323064c",
      "metadata": {
        "id": "3323064c",
        "colab": {
          "base_uri": "https://localhost:8080/"
        },
        "outputId": "5eed9a9e-656c-4c16-e630-65cda3a6c411"
      },
      "outputs": [
        {
          "output_type": "stream",
          "name": "stdout",
          "text": [
            "              precision    recall  f1-score   support\n",
            "\n",
            "           0       1.00      0.71      0.83        21\n",
            "           1       0.78      1.00      0.88        21\n",
            "\n",
            "    accuracy                           0.86        42\n",
            "   macro avg       0.89      0.86      0.85        42\n",
            "weighted avg       0.89      0.86      0.85        42\n",
            "\n"
          ]
        }
      ],
      "source": [
        "print(classification_report(y_test,y_pred_mlp))"
      ]
    },
    {
      "cell_type": "markdown",
      "id": "4566a349",
      "metadata": {
        "id": "4566a349"
      },
      "source": [
        "# SVM"
      ]
    },
    {
      "cell_type": "code",
      "execution_count": null,
      "id": "6d359d19",
      "metadata": {
        "id": "6d359d19"
      },
      "outputs": [],
      "source": [
        "from sklearn.svm import SVC"
      ]
    },
    {
      "cell_type": "code",
      "execution_count": null,
      "id": "4e53ee71",
      "metadata": {
        "id": "4e53ee71",
        "colab": {
          "base_uri": "https://localhost:8080/"
        },
        "outputId": "ff4bce95-3889-4f1c-fc87-143749157447"
      },
      "outputs": [
        {
          "output_type": "stream",
          "name": "stdout",
          "text": [
            "Accuracy  0.69\n",
            "              precision    recall  f1-score   support\n",
            "\n",
            "           0       1.00      0.38      0.55        21\n",
            "           1       0.62      1.00      0.76        21\n",
            "\n",
            "    accuracy                           0.69        42\n",
            "   macro avg       0.81      0.69      0.66        42\n",
            "weighted avg       0.81      0.69      0.66        42\n",
            "\n"
          ]
        }
      ],
      "source": [
        "svc = SVC(random_state = 42)\n",
        "svc.fit(X_train, y_train)\n",
        "preds = svc.predict(X_test)\n",
        "svc_acc = accuracy_score(y_test,preds)\n",
        "print('Accuracy ', np.round(svc_acc,2))\n",
        "print(classification_report(y_test,preds))"
      ]
    },
    {
      "cell_type": "markdown",
      "source": [
        "\n",
        "\n",
        "```\n",
        "# This is formatted as code\n",
        "```\n",
        "\n",
        "### Random Forest Tuning"
      ],
      "metadata": {
        "id": "6-oevppLJaQg"
      },
      "id": "6-oevppLJaQg"
    },
    {
      "cell_type": "code",
      "source": [
        "# from sklearn.model_selection import RandomizedSearchCV, GridSearchCV\n",
        "# from sklearn.ensemble import RandomForestClassifier\n",
        "# param_grid = {'max_features': ['auto', 'sqrt', 'log2'],\n",
        "#               'ccp_alpha': [0.1, .01, .001],\n",
        "#               'max_depth' : [3, 5, 6, 7, 8, 9],\n",
        "#               'criterion' :['gini', 'entropy']\n",
        "#              }\n",
        "\n",
        "# gs2 = GridSearchCV(RandomForestClassifier(random_state = 42), param_grid, n_jobs=-1, \n",
        "#                    cv=10, scoring='accuracy',verbose=3)\n",
        "# gs2.fit(X_train, y_train)"
      ],
      "metadata": {
        "id": "oJMI_q2gJZIp"
      },
      "id": "oJMI_q2gJZIp",
      "execution_count": null,
      "outputs": []
    },
    {
      "cell_type": "code",
      "source": [
        "# rf_tuned = gs2.best_estimator_\n",
        "# rf_tuned.fit(X_train, y_train)\n",
        "# y_pred_rf = rf_tuned.predict(X_test)\n",
        "# rf_acc_tuned = accuracy_score(y_test,y_pred_rf)\n",
        "# print(classification_report(y_test,y_pred_rf))"
      ],
      "metadata": {
        "id": "OhMxUQsIJZZH"
      },
      "id": "OhMxUQsIJZZH",
      "execution_count": null,
      "outputs": []
    },
    {
      "cell_type": "markdown",
      "source": [
        "### DT Tuning"
      ],
      "metadata": {
        "id": "AKG3dwupO42L"
      },
      "id": "AKG3dwupO42L"
    },
    {
      "cell_type": "code",
      "source": [
        "# param_grid = {'max_features': ['auto', 'sqrt', 'log2'],\n",
        "#               'ccp_alpha': [0.1, .01, .001],\n",
        "#               'max_depth' : [5, 6, 7, 8, 9],\n",
        "#               'criterion' :['gini', 'entropy']\n",
        "#              }\n",
        "\n",
        "# gs2 = GridSearchCV(DecisionTreeClassifier(random_state = 42), param_grid, n_jobs=-1, \n",
        "#                    cv=3, scoring='accuracy',verbose=3)\n",
        "# gs2.fit(X_train, y_train)"
      ],
      "metadata": {
        "id": "xSOutDOyO3Cz"
      },
      "id": "xSOutDOyO3Cz",
      "execution_count": null,
      "outputs": []
    },
    {
      "cell_type": "code",
      "source": [
        "# dt_tuned = gs2.best_estimator_\n",
        "# dt_tuned.fit(X_train, y_train)\n",
        "# y_pred_dt = dt_tuned.predict(X_test)\n",
        "# dt_acc_tuned = accuracy_score(y_test,y_pred_dt)\n",
        "# print(classification_report(y_test,y_pred_dt))"
      ],
      "metadata": {
        "id": "_5OuD9RdO3F6"
      },
      "id": "_5OuD9RdO3F6",
      "execution_count": null,
      "outputs": []
    },
    {
      "cell_type": "code",
      "source": [],
      "metadata": {
        "id": "HHB-5I-CO3Sh"
      },
      "id": "HHB-5I-CO3Sh",
      "execution_count": null,
      "outputs": []
    },
    {
      "cell_type": "markdown",
      "id": "0c138e74",
      "metadata": {
        "id": "0c138e74"
      },
      "source": [
        "# performance comparison"
      ]
    },
    {
      "cell_type": "code",
      "execution_count": null,
      "id": "d1d80dbb",
      "metadata": {
        "id": "d1d80dbb",
        "colab": {
          "base_uri": "https://localhost:8080/",
          "height": 457
        },
        "outputId": "45d900b2-e1ac-40f6-e5b6-2aacd54bec42"
      },
      "outputs": [
        {
          "output_type": "execute_result",
          "data": {
            "text/plain": [
              "                                                  Score\n",
              "Model After PerUser classification Leave one out       \n",
              "Decision Tree                                      1.00\n",
              "Random Forest                                      1.00\n",
              "XGBoost                                            1.00\n",
              "ADABoost                                           1.00\n",
              "MLPClassifier                                      0.86\n",
              "LDA                                                0.81\n",
              "Logistic Regression                                0.81\n",
              "SVC                                                0.79\n",
              "KNN                                                0.74\n",
              "NB                                                 0.74\n",
              "Bagging                                            0.69\n",
              "LightBGM                                           0.69"
            ],
            "text/html": [
              "\n",
              "  <div id=\"df-38dea40c-0447-4020-98a0-d4b6fc4bb413\">\n",
              "    <div class=\"colab-df-container\">\n",
              "      <div>\n",
              "<style scoped>\n",
              "    .dataframe tbody tr th:only-of-type {\n",
              "        vertical-align: middle;\n",
              "    }\n",
              "\n",
              "    .dataframe tbody tr th {\n",
              "        vertical-align: top;\n",
              "    }\n",
              "\n",
              "    .dataframe thead th {\n",
              "        text-align: right;\n",
              "    }\n",
              "</style>\n",
              "<table border=\"1\" class=\"dataframe\">\n",
              "  <thead>\n",
              "    <tr style=\"text-align: right;\">\n",
              "      <th></th>\n",
              "      <th>Score</th>\n",
              "    </tr>\n",
              "    <tr>\n",
              "      <th>Model After PerUser classification Leave one out</th>\n",
              "      <th></th>\n",
              "    </tr>\n",
              "  </thead>\n",
              "  <tbody>\n",
              "    <tr>\n",
              "      <th>Decision Tree</th>\n",
              "      <td>1.00</td>\n",
              "    </tr>\n",
              "    <tr>\n",
              "      <th>Random Forest</th>\n",
              "      <td>1.00</td>\n",
              "    </tr>\n",
              "    <tr>\n",
              "      <th>XGBoost</th>\n",
              "      <td>1.00</td>\n",
              "    </tr>\n",
              "    <tr>\n",
              "      <th>ADABoost</th>\n",
              "      <td>1.00</td>\n",
              "    </tr>\n",
              "    <tr>\n",
              "      <th>MLPClassifier</th>\n",
              "      <td>0.86</td>\n",
              "    </tr>\n",
              "    <tr>\n",
              "      <th>LDA</th>\n",
              "      <td>0.81</td>\n",
              "    </tr>\n",
              "    <tr>\n",
              "      <th>Logistic Regression</th>\n",
              "      <td>0.81</td>\n",
              "    </tr>\n",
              "    <tr>\n",
              "      <th>SVC</th>\n",
              "      <td>0.79</td>\n",
              "    </tr>\n",
              "    <tr>\n",
              "      <th>KNN</th>\n",
              "      <td>0.74</td>\n",
              "    </tr>\n",
              "    <tr>\n",
              "      <th>NB</th>\n",
              "      <td>0.74</td>\n",
              "    </tr>\n",
              "    <tr>\n",
              "      <th>Bagging</th>\n",
              "      <td>0.69</td>\n",
              "    </tr>\n",
              "    <tr>\n",
              "      <th>LightBGM</th>\n",
              "      <td>0.69</td>\n",
              "    </tr>\n",
              "  </tbody>\n",
              "</table>\n",
              "</div>\n",
              "      <button class=\"colab-df-convert\" onclick=\"convertToInteractive('df-38dea40c-0447-4020-98a0-d4b6fc4bb413')\"\n",
              "              title=\"Convert this dataframe to an interactive table.\"\n",
              "              style=\"display:none;\">\n",
              "        \n",
              "  <svg xmlns=\"http://www.w3.org/2000/svg\" height=\"24px\"viewBox=\"0 0 24 24\"\n",
              "       width=\"24px\">\n",
              "    <path d=\"M0 0h24v24H0V0z\" fill=\"none\"/>\n",
              "    <path d=\"M18.56 5.44l.94 2.06.94-2.06 2.06-.94-2.06-.94-.94-2.06-.94 2.06-2.06.94zm-11 1L8.5 8.5l.94-2.06 2.06-.94-2.06-.94L8.5 2.5l-.94 2.06-2.06.94zm10 10l.94 2.06.94-2.06 2.06-.94-2.06-.94-.94-2.06-.94 2.06-2.06.94z\"/><path d=\"M17.41 7.96l-1.37-1.37c-.4-.4-.92-.59-1.43-.59-.52 0-1.04.2-1.43.59L10.3 9.45l-7.72 7.72c-.78.78-.78 2.05 0 2.83L4 21.41c.39.39.9.59 1.41.59.51 0 1.02-.2 1.41-.59l7.78-7.78 2.81-2.81c.8-.78.8-2.07 0-2.86zM5.41 20L4 18.59l7.72-7.72 1.47 1.35L5.41 20z\"/>\n",
              "  </svg>\n",
              "      </button>\n",
              "      \n",
              "  <style>\n",
              "    .colab-df-container {\n",
              "      display:flex;\n",
              "      flex-wrap:wrap;\n",
              "      gap: 12px;\n",
              "    }\n",
              "\n",
              "    .colab-df-convert {\n",
              "      background-color: #E8F0FE;\n",
              "      border: none;\n",
              "      border-radius: 50%;\n",
              "      cursor: pointer;\n",
              "      display: none;\n",
              "      fill: #1967D2;\n",
              "      height: 32px;\n",
              "      padding: 0 0 0 0;\n",
              "      width: 32px;\n",
              "    }\n",
              "\n",
              "    .colab-df-convert:hover {\n",
              "      background-color: #E2EBFA;\n",
              "      box-shadow: 0px 1px 2px rgba(60, 64, 67, 0.3), 0px 1px 3px 1px rgba(60, 64, 67, 0.15);\n",
              "      fill: #174EA6;\n",
              "    }\n",
              "\n",
              "    [theme=dark] .colab-df-convert {\n",
              "      background-color: #3B4455;\n",
              "      fill: #D2E3FC;\n",
              "    }\n",
              "\n",
              "    [theme=dark] .colab-df-convert:hover {\n",
              "      background-color: #434B5C;\n",
              "      box-shadow: 0px 1px 3px 1px rgba(0, 0, 0, 0.15);\n",
              "      filter: drop-shadow(0px 1px 2px rgba(0, 0, 0, 0.3));\n",
              "      fill: #FFFFFF;\n",
              "    }\n",
              "  </style>\n",
              "\n",
              "      <script>\n",
              "        const buttonEl =\n",
              "          document.querySelector('#df-38dea40c-0447-4020-98a0-d4b6fc4bb413 button.colab-df-convert');\n",
              "        buttonEl.style.display =\n",
              "          google.colab.kernel.accessAllowed ? 'block' : 'none';\n",
              "\n",
              "        async function convertToInteractive(key) {\n",
              "          const element = document.querySelector('#df-38dea40c-0447-4020-98a0-d4b6fc4bb413');\n",
              "          const dataTable =\n",
              "            await google.colab.kernel.invokeFunction('convertToInteractive',\n",
              "                                                     [key], {});\n",
              "          if (!dataTable) return;\n",
              "\n",
              "          const docLinkHtml = 'Like what you see? Visit the ' +\n",
              "            '<a target=\"_blank\" href=https://colab.research.google.com/notebooks/data_table.ipynb>data table notebook</a>'\n",
              "            + ' to learn more about interactive tables.';\n",
              "          element.innerHTML = '';\n",
              "          dataTable['output_type'] = 'display_data';\n",
              "          await google.colab.output.renderOutput(dataTable, element);\n",
              "          const docLink = document.createElement('div');\n",
              "          docLink.innerHTML = docLinkHtml;\n",
              "          element.appendChild(docLink);\n",
              "        }\n",
              "      </script>\n",
              "    </div>\n",
              "  </div>\n",
              "  "
            ]
          },
          "metadata": {},
          "execution_count": 122
        }
      ],
      "source": [
        "\n",
        "results = pd.DataFrame({\n",
        "    'Model After PerUser classification Leave one out': ['KNN',\n",
        "              'NB',\n",
        "              'Decision Tree',\n",
        "              'Random Forest', \n",
        "              'XGBoost', \n",
        "              'ADABoost',\n",
        "              'Bagging',\n",
        "              'LDA',\n",
        "              'MLPClassifier',\n",
        "              'Logistic Regression',\n",
        "              'SVC',\n",
        "              'LightBGM'],\n",
        "    'Score': [ knn_acc,\n",
        "                NB_acc,\n",
        "                dt_acc,\n",
        "                rf_acc,\n",
        "                xbg_acc,\n",
        "                ada_acc,\n",
        "                bg_acc,\n",
        "                lda_acc,\n",
        "                mlp_acc,\n",
        "              lightgbm_acc,\n",
        "                lg_acc,\n",
        "                svc_acc]\n",
        "                })\n",
        "results['Score'] = results['Score'].apply(lambda x: np.round(x,2))\n",
        "result_df = results.sort_values(by='Score', ascending=False)\n",
        "result_df = result_df.set_index('Model After PerUser classification Leave one out')\n",
        "result_df"
      ]
    },
    {
      "cell_type": "code",
      "source": [],
      "metadata": {
        "id": "daOd-R3aD9pj"
      },
      "id": "daOd-R3aD9pj",
      "execution_count": null,
      "outputs": []
    }
  ],
  "metadata": {
    "kernelspec": {
      "display_name": "Python 3 (ipykernel)",
      "language": "python",
      "name": "python3"
    },
    "language_info": {
      "codemirror_mode": {
        "name": "ipython",
        "version": 3
      },
      "file_extension": ".py",
      "mimetype": "text/x-python",
      "name": "python",
      "nbconvert_exporter": "python",
      "pygments_lexer": "ipython3",
      "version": "3.9.12"
    },
    "colab": {
      "provenance": [],
      "include_colab_link": true
    }
  },
  "nbformat": 4,
  "nbformat_minor": 5
}