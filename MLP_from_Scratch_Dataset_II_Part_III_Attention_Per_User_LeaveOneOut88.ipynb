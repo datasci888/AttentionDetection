{
  "cells": [
    {
      "cell_type": "code",
      "execution_count": 1,
      "id": "f5253c66",
      "metadata": {
        "id": "f5253c66"
      },
      "outputs": [],
      "source": [
        "import os\n",
        "import pandas as pd\n",
        "import numpy as np\n",
        "import matplotlib.pyplot as plt\n",
        "from sklearn.metrics import confusion_matrix,classification_report,accuracy_score"
      ]
    },
    {
      "cell_type": "code",
      "source": [
        "import os\n",
        "import scipy.io\n",
        "import tensorflow as tf\n",
        "import numpy as np\n",
        "import matplotlib.pyplot as plt\n",
        "%matplotlib inline\n",
        "import pandas as pd"
      ],
      "metadata": {
        "id": "ebYZDkj--mjb"
      },
      "id": "ebYZDkj--mjb",
      "execution_count": 20,
      "outputs": []
    },
    {
      "cell_type": "code",
      "source": [
        "import pandas as pd\n",
        "import numpy as np\n",
        "from sklearn.model_selection import train_test_split\n",
        "from sklearn.preprocessing import LabelEncoder, OneHotEncoder\n",
        "from sklearn import model_selection\n",
        "from sklearn.compose import ColumnTransformer\n",
        "import matplotlib.pyplot as plt\n",
        "import seaborn as sns\n",
        "from sklearn.impute import SimpleImputer\n",
        "import warnings\n",
        "from sklearn.metrics import confusion_matrix\n",
        "from sklearn.pipeline import Pipeline\n",
        "from sklearn.model_selection import GridSearchCV\n",
        "from sklearn.model_selection import RandomizedSearchCV\n",
        "import tensorflow as tf\n",
        "from tensorflow.keras.models import Sequential\n",
        "from tensorflow.keras.layers import Dense\n",
        "from tensorflow.keras.layers import Dense, Input, Dropout,BatchNormalization\n",
        "from tensorflow.keras.wrappers.scikit_learn import KerasClassifier\n",
        "import random\n",
        "from tensorflow.keras import backend\n",
        "random.seed(1)\n",
        "np.random.seed(1) \n",
        "tf.random.set_seed(1)\n",
        "warnings.filterwarnings(\"ignore\")"
      ],
      "metadata": {
        "id": "w2qsdNbxAQ5n"
      },
      "id": "w2qsdNbxAQ5n",
      "execution_count": 29,
      "outputs": []
    },
    {
      "cell_type": "code",
      "source": [
        "from google.colab import drive\n",
        "drive.mount('/content/drive')"
      ],
      "metadata": {
        "colab": {
          "base_uri": "https://localhost:8080/"
        },
        "id": "lbZsr5vq0YgH",
        "outputId": "9655200d-ac0a-4435-fecb-a9076e950366"
      },
      "id": "lbZsr5vq0YgH",
      "execution_count": 2,
      "outputs": [
        {
          "output_type": "stream",
          "name": "stdout",
          "text": [
            "Mounted at /content/drive\n"
          ]
        }
      ]
    },
    {
      "cell_type": "code",
      "execution_count": 3,
      "id": "76d14772",
      "metadata": {
        "id": "76d14772"
      },
      "outputs": [],
      "source": [
        "# path of csv files\n",
        "# directory = r\"/content/drive/MyDrive/\""
      ]
    },
    {
      "cell_type": "code",
      "source": [
        "# directory2 = r\"/content/drive/MyDrive/NewCVStoPart-IIIMarch1/\""
      ],
      "metadata": {
        "id": "HPbNPjjf7GAv"
      },
      "id": "HPbNPjjf7GAv",
      "execution_count": null,
      "outputs": []
    },
    {
      "cell_type": "code",
      "source": [],
      "metadata": {
        "id": "TI90ZIhkVcvu"
      },
      "id": "TI90ZIhkVcvu",
      "execution_count": null,
      "outputs": []
    },
    {
      "cell_type": "code",
      "source": [
        "# array2 = []\n",
        "# for file in os.listdir(directory2):\n",
        "#     print(file)\n",
        "#     filepath = os.path.join(directory2,file)\n",
        "#     df_temp = pd.read_csv(filepath)\n",
        "#     df_temp['Channel'] = file.split('.')[0]\n",
        "#     array2.append(df_temp)"
      ],
      "metadata": {
        "id": "Mnd19dZq7M0r"
      },
      "id": "Mnd19dZq7M0r",
      "execution_count": null,
      "outputs": []
    },
    {
      "cell_type": "code",
      "source": [
        "\n",
        "dfTrain = pd.read_csv(r'/content/drive/MyDrive/NewCVStoPart-IIIMarch1/NewCSVMarch1_Dataset_II_BandstoPart-IIITrain.csv')"
      ],
      "metadata": {
        "id": "LRBk5KhOVeY1"
      },
      "id": "LRBk5KhOVeY1",
      "execution_count": 4,
      "outputs": []
    },
    {
      "cell_type": "code",
      "source": [
        "dfTest = pd.read_csv(r'/content/drive/MyDrive/NewCVStoPart-IIIMarch1/NewCSVMarch1_Dataset_II_BandstoPart-IIITest.csv')\n",
        "# vertical_concat2.to_csv('/content/drive/MyDrive/NewCVStoPart-IIIMarch1/NewCSVMarch1_Dataset_II_BandstoPart-IIITest.csv', index = False)"
      ],
      "metadata": {
        "id": "ymqDaEySU3qv"
      },
      "id": "ymqDaEySU3qv",
      "execution_count": 5,
      "outputs": []
    },
    {
      "cell_type": "code",
      "source": [
        "# df = pd.concat(array2)\n",
        "# len(df)"
      ],
      "metadata": {
        "id": "T75XygH27M-c"
      },
      "id": "T75XygH27M-c",
      "execution_count": 6,
      "outputs": []
    },
    {
      "cell_type": "code",
      "source": [
        "dfTrain.head()\n"
      ],
      "metadata": {
        "colab": {
          "base_uri": "https://localhost:8080/",
          "height": 206
        },
        "id": "8P3rXfg67Wsl",
        "outputId": "9e89aae3-6c79-4e44-985a-69f53f0fb099"
      },
      "id": "8P3rXfg67Wsl",
      "execution_count": 7,
      "outputs": [
        {
          "output_type": "execute_result",
          "data": {
            "text/plain": [
              "       Alpha       Delta       Beta     Gamma  Label\n",
              "0  21.582478   75.814406   9.235991  0.708799  Focus\n",
              "1   1.173516    5.487767   1.075237  0.142068  Focus\n",
              "2   1.795885   31.367239   0.837457  0.117887  Focus\n",
              "3  18.083213   52.505458   7.819185  0.777453  Focus\n",
              "4  44.822451  191.980194  17.116479  1.270734  Focus"
            ],
            "text/html": [
              "\n",
              "  <div id=\"df-ab09153f-ae3a-4a4f-ad4e-4c634883dfbc\">\n",
              "    <div class=\"colab-df-container\">\n",
              "      <div>\n",
              "<style scoped>\n",
              "    .dataframe tbody tr th:only-of-type {\n",
              "        vertical-align: middle;\n",
              "    }\n",
              "\n",
              "    .dataframe tbody tr th {\n",
              "        vertical-align: top;\n",
              "    }\n",
              "\n",
              "    .dataframe thead th {\n",
              "        text-align: right;\n",
              "    }\n",
              "</style>\n",
              "<table border=\"1\" class=\"dataframe\">\n",
              "  <thead>\n",
              "    <tr style=\"text-align: right;\">\n",
              "      <th></th>\n",
              "      <th>Alpha</th>\n",
              "      <th>Delta</th>\n",
              "      <th>Beta</th>\n",
              "      <th>Gamma</th>\n",
              "      <th>Label</th>\n",
              "    </tr>\n",
              "  </thead>\n",
              "  <tbody>\n",
              "    <tr>\n",
              "      <th>0</th>\n",
              "      <td>21.582478</td>\n",
              "      <td>75.814406</td>\n",
              "      <td>9.235991</td>\n",
              "      <td>0.708799</td>\n",
              "      <td>Focus</td>\n",
              "    </tr>\n",
              "    <tr>\n",
              "      <th>1</th>\n",
              "      <td>1.173516</td>\n",
              "      <td>5.487767</td>\n",
              "      <td>1.075237</td>\n",
              "      <td>0.142068</td>\n",
              "      <td>Focus</td>\n",
              "    </tr>\n",
              "    <tr>\n",
              "      <th>2</th>\n",
              "      <td>1.795885</td>\n",
              "      <td>31.367239</td>\n",
              "      <td>0.837457</td>\n",
              "      <td>0.117887</td>\n",
              "      <td>Focus</td>\n",
              "    </tr>\n",
              "    <tr>\n",
              "      <th>3</th>\n",
              "      <td>18.083213</td>\n",
              "      <td>52.505458</td>\n",
              "      <td>7.819185</td>\n",
              "      <td>0.777453</td>\n",
              "      <td>Focus</td>\n",
              "    </tr>\n",
              "    <tr>\n",
              "      <th>4</th>\n",
              "      <td>44.822451</td>\n",
              "      <td>191.980194</td>\n",
              "      <td>17.116479</td>\n",
              "      <td>1.270734</td>\n",
              "      <td>Focus</td>\n",
              "    </tr>\n",
              "  </tbody>\n",
              "</table>\n",
              "</div>\n",
              "      <button class=\"colab-df-convert\" onclick=\"convertToInteractive('df-ab09153f-ae3a-4a4f-ad4e-4c634883dfbc')\"\n",
              "              title=\"Convert this dataframe to an interactive table.\"\n",
              "              style=\"display:none;\">\n",
              "        \n",
              "  <svg xmlns=\"http://www.w3.org/2000/svg\" height=\"24px\"viewBox=\"0 0 24 24\"\n",
              "       width=\"24px\">\n",
              "    <path d=\"M0 0h24v24H0V0z\" fill=\"none\"/>\n",
              "    <path d=\"M18.56 5.44l.94 2.06.94-2.06 2.06-.94-2.06-.94-.94-2.06-.94 2.06-2.06.94zm-11 1L8.5 8.5l.94-2.06 2.06-.94-2.06-.94L8.5 2.5l-.94 2.06-2.06.94zm10 10l.94 2.06.94-2.06 2.06-.94-2.06-.94-.94-2.06-.94 2.06-2.06.94z\"/><path d=\"M17.41 7.96l-1.37-1.37c-.4-.4-.92-.59-1.43-.59-.52 0-1.04.2-1.43.59L10.3 9.45l-7.72 7.72c-.78.78-.78 2.05 0 2.83L4 21.41c.39.39.9.59 1.41.59.51 0 1.02-.2 1.41-.59l7.78-7.78 2.81-2.81c.8-.78.8-2.07 0-2.86zM5.41 20L4 18.59l7.72-7.72 1.47 1.35L5.41 20z\"/>\n",
              "  </svg>\n",
              "      </button>\n",
              "      \n",
              "  <style>\n",
              "    .colab-df-container {\n",
              "      display:flex;\n",
              "      flex-wrap:wrap;\n",
              "      gap: 12px;\n",
              "    }\n",
              "\n",
              "    .colab-df-convert {\n",
              "      background-color: #E8F0FE;\n",
              "      border: none;\n",
              "      border-radius: 50%;\n",
              "      cursor: pointer;\n",
              "      display: none;\n",
              "      fill: #1967D2;\n",
              "      height: 32px;\n",
              "      padding: 0 0 0 0;\n",
              "      width: 32px;\n",
              "    }\n",
              "\n",
              "    .colab-df-convert:hover {\n",
              "      background-color: #E2EBFA;\n",
              "      box-shadow: 0px 1px 2px rgba(60, 64, 67, 0.3), 0px 1px 3px 1px rgba(60, 64, 67, 0.15);\n",
              "      fill: #174EA6;\n",
              "    }\n",
              "\n",
              "    [theme=dark] .colab-df-convert {\n",
              "      background-color: #3B4455;\n",
              "      fill: #D2E3FC;\n",
              "    }\n",
              "\n",
              "    [theme=dark] .colab-df-convert:hover {\n",
              "      background-color: #434B5C;\n",
              "      box-shadow: 0px 1px 3px 1px rgba(0, 0, 0, 0.15);\n",
              "      filter: drop-shadow(0px 1px 2px rgba(0, 0, 0, 0.3));\n",
              "      fill: #FFFFFF;\n",
              "    }\n",
              "  </style>\n",
              "\n",
              "      <script>\n",
              "        const buttonEl =\n",
              "          document.querySelector('#df-ab09153f-ae3a-4a4f-ad4e-4c634883dfbc button.colab-df-convert');\n",
              "        buttonEl.style.display =\n",
              "          google.colab.kernel.accessAllowed ? 'block' : 'none';\n",
              "\n",
              "        async function convertToInteractive(key) {\n",
              "          const element = document.querySelector('#df-ab09153f-ae3a-4a4f-ad4e-4c634883dfbc');\n",
              "          const dataTable =\n",
              "            await google.colab.kernel.invokeFunction('convertToInteractive',\n",
              "                                                     [key], {});\n",
              "          if (!dataTable) return;\n",
              "\n",
              "          const docLinkHtml = 'Like what you see? Visit the ' +\n",
              "            '<a target=\"_blank\" href=https://colab.research.google.com/notebooks/data_table.ipynb>data table notebook</a>'\n",
              "            + ' to learn more about interactive tables.';\n",
              "          element.innerHTML = '';\n",
              "          dataTable['output_type'] = 'display_data';\n",
              "          await google.colab.output.renderOutput(dataTable, element);\n",
              "          const docLink = document.createElement('div');\n",
              "          docLink.innerHTML = docLinkHtml;\n",
              "          element.appendChild(docLink);\n",
              "        }\n",
              "      </script>\n",
              "    </div>\n",
              "  </div>\n",
              "  "
            ]
          },
          "metadata": {},
          "execution_count": 7
        }
      ]
    },
    {
      "cell_type": "code",
      "source": [
        "dfTest.head()"
      ],
      "metadata": {
        "colab": {
          "base_uri": "https://localhost:8080/",
          "height": 206
        },
        "id": "eRTYfVm9WDHm",
        "outputId": "e22ad0d5-6e94-4cf4-cc34-c4a5ef2f9594"
      },
      "id": "eRTYfVm9WDHm",
      "execution_count": 8,
      "outputs": [
        {
          "output_type": "execute_result",
          "data": {
            "text/plain": [
              "       Alpha       Delta       Beta     Gamma  Label\n",
              "0  21.582478   75.814406   9.235991  0.708799  Focus\n",
              "1   1.173516    5.487767   1.075237  0.142068  Focus\n",
              "2   1.795885   31.367239   0.837457  0.117887  Focus\n",
              "3  18.083213   52.505458   7.819185  0.777453  Focus\n",
              "4  44.822451  191.980194  17.116479  1.270734  Focus"
            ],
            "text/html": [
              "\n",
              "  <div id=\"df-06d9f5a1-077e-415d-86db-3b520b7a2720\">\n",
              "    <div class=\"colab-df-container\">\n",
              "      <div>\n",
              "<style scoped>\n",
              "    .dataframe tbody tr th:only-of-type {\n",
              "        vertical-align: middle;\n",
              "    }\n",
              "\n",
              "    .dataframe tbody tr th {\n",
              "        vertical-align: top;\n",
              "    }\n",
              "\n",
              "    .dataframe thead th {\n",
              "        text-align: right;\n",
              "    }\n",
              "</style>\n",
              "<table border=\"1\" class=\"dataframe\">\n",
              "  <thead>\n",
              "    <tr style=\"text-align: right;\">\n",
              "      <th></th>\n",
              "      <th>Alpha</th>\n",
              "      <th>Delta</th>\n",
              "      <th>Beta</th>\n",
              "      <th>Gamma</th>\n",
              "      <th>Label</th>\n",
              "    </tr>\n",
              "  </thead>\n",
              "  <tbody>\n",
              "    <tr>\n",
              "      <th>0</th>\n",
              "      <td>21.582478</td>\n",
              "      <td>75.814406</td>\n",
              "      <td>9.235991</td>\n",
              "      <td>0.708799</td>\n",
              "      <td>Focus</td>\n",
              "    </tr>\n",
              "    <tr>\n",
              "      <th>1</th>\n",
              "      <td>1.173516</td>\n",
              "      <td>5.487767</td>\n",
              "      <td>1.075237</td>\n",
              "      <td>0.142068</td>\n",
              "      <td>Focus</td>\n",
              "    </tr>\n",
              "    <tr>\n",
              "      <th>2</th>\n",
              "      <td>1.795885</td>\n",
              "      <td>31.367239</td>\n",
              "      <td>0.837457</td>\n",
              "      <td>0.117887</td>\n",
              "      <td>Focus</td>\n",
              "    </tr>\n",
              "    <tr>\n",
              "      <th>3</th>\n",
              "      <td>18.083213</td>\n",
              "      <td>52.505458</td>\n",
              "      <td>7.819185</td>\n",
              "      <td>0.777453</td>\n",
              "      <td>Focus</td>\n",
              "    </tr>\n",
              "    <tr>\n",
              "      <th>4</th>\n",
              "      <td>44.822451</td>\n",
              "      <td>191.980194</td>\n",
              "      <td>17.116479</td>\n",
              "      <td>1.270734</td>\n",
              "      <td>Focus</td>\n",
              "    </tr>\n",
              "  </tbody>\n",
              "</table>\n",
              "</div>\n",
              "      <button class=\"colab-df-convert\" onclick=\"convertToInteractive('df-06d9f5a1-077e-415d-86db-3b520b7a2720')\"\n",
              "              title=\"Convert this dataframe to an interactive table.\"\n",
              "              style=\"display:none;\">\n",
              "        \n",
              "  <svg xmlns=\"http://www.w3.org/2000/svg\" height=\"24px\"viewBox=\"0 0 24 24\"\n",
              "       width=\"24px\">\n",
              "    <path d=\"M0 0h24v24H0V0z\" fill=\"none\"/>\n",
              "    <path d=\"M18.56 5.44l.94 2.06.94-2.06 2.06-.94-2.06-.94-.94-2.06-.94 2.06-2.06.94zm-11 1L8.5 8.5l.94-2.06 2.06-.94-2.06-.94L8.5 2.5l-.94 2.06-2.06.94zm10 10l.94 2.06.94-2.06 2.06-.94-2.06-.94-.94-2.06-.94 2.06-2.06.94z\"/><path d=\"M17.41 7.96l-1.37-1.37c-.4-.4-.92-.59-1.43-.59-.52 0-1.04.2-1.43.59L10.3 9.45l-7.72 7.72c-.78.78-.78 2.05 0 2.83L4 21.41c.39.39.9.59 1.41.59.51 0 1.02-.2 1.41-.59l7.78-7.78 2.81-2.81c.8-.78.8-2.07 0-2.86zM5.41 20L4 18.59l7.72-7.72 1.47 1.35L5.41 20z\"/>\n",
              "  </svg>\n",
              "      </button>\n",
              "      \n",
              "  <style>\n",
              "    .colab-df-container {\n",
              "      display:flex;\n",
              "      flex-wrap:wrap;\n",
              "      gap: 12px;\n",
              "    }\n",
              "\n",
              "    .colab-df-convert {\n",
              "      background-color: #E8F0FE;\n",
              "      border: none;\n",
              "      border-radius: 50%;\n",
              "      cursor: pointer;\n",
              "      display: none;\n",
              "      fill: #1967D2;\n",
              "      height: 32px;\n",
              "      padding: 0 0 0 0;\n",
              "      width: 32px;\n",
              "    }\n",
              "\n",
              "    .colab-df-convert:hover {\n",
              "      background-color: #E2EBFA;\n",
              "      box-shadow: 0px 1px 2px rgba(60, 64, 67, 0.3), 0px 1px 3px 1px rgba(60, 64, 67, 0.15);\n",
              "      fill: #174EA6;\n",
              "    }\n",
              "\n",
              "    [theme=dark] .colab-df-convert {\n",
              "      background-color: #3B4455;\n",
              "      fill: #D2E3FC;\n",
              "    }\n",
              "\n",
              "    [theme=dark] .colab-df-convert:hover {\n",
              "      background-color: #434B5C;\n",
              "      box-shadow: 0px 1px 3px 1px rgba(0, 0, 0, 0.15);\n",
              "      filter: drop-shadow(0px 1px 2px rgba(0, 0, 0, 0.3));\n",
              "      fill: #FFFFFF;\n",
              "    }\n",
              "  </style>\n",
              "\n",
              "      <script>\n",
              "        const buttonEl =\n",
              "          document.querySelector('#df-06d9f5a1-077e-415d-86db-3b520b7a2720 button.colab-df-convert');\n",
              "        buttonEl.style.display =\n",
              "          google.colab.kernel.accessAllowed ? 'block' : 'none';\n",
              "\n",
              "        async function convertToInteractive(key) {\n",
              "          const element = document.querySelector('#df-06d9f5a1-077e-415d-86db-3b520b7a2720');\n",
              "          const dataTable =\n",
              "            await google.colab.kernel.invokeFunction('convertToInteractive',\n",
              "                                                     [key], {});\n",
              "          if (!dataTable) return;\n",
              "\n",
              "          const docLinkHtml = 'Like what you see? Visit the ' +\n",
              "            '<a target=\"_blank\" href=https://colab.research.google.com/notebooks/data_table.ipynb>data table notebook</a>'\n",
              "            + ' to learn more about interactive tables.';\n",
              "          element.innerHTML = '';\n",
              "          dataTable['output_type'] = 'display_data';\n",
              "          await google.colab.output.renderOutput(dataTable, element);\n",
              "          const docLink = document.createElement('div');\n",
              "          docLink.innerHTML = docLinkHtml;\n",
              "          element.appendChild(docLink);\n",
              "        }\n",
              "      </script>\n",
              "    </div>\n",
              "  </div>\n",
              "  "
            ]
          },
          "metadata": {},
          "execution_count": 8
        }
      ]
    },
    {
      "cell_type": "code",
      "source": [
        "# duplicate = df[df.duplicated()]\n",
        " \n",
        "# print(\"Duplicate Rows :\", duplicate)\n",
        "# duplicate"
      ],
      "metadata": {
        "id": "3mdRcgHM7g7b"
      },
      "id": "3mdRcgHM7g7b",
      "execution_count": 9,
      "outputs": []
    },
    {
      "cell_type": "code",
      "source": [
        "# df= df.drop(columns = ['Channel'], axis =1)"
      ],
      "metadata": {
        "id": "pxSKrPh_75D9"
      },
      "id": "pxSKrPh_75D9",
      "execution_count": 10,
      "outputs": []
    },
    {
      "cell_type": "code",
      "source": [
        "# df"
      ],
      "metadata": {
        "id": "LEhcklEg8KB0"
      },
      "id": "LEhcklEg8KB0",
      "execution_count": 11,
      "outputs": []
    },
    {
      "cell_type": "code",
      "source": [
        "# shuffle the DataFrame rows\n",
        "# df = df.sample(frac = 1)\n",
        "# df.head()"
      ],
      "metadata": {
        "id": "d4uq5dNP75Gx"
      },
      "id": "d4uq5dNP75Gx",
      "execution_count": 12,
      "outputs": []
    },
    {
      "cell_type": "code",
      "source": [
        "#import label encoder\n",
        "from sklearn import preprocessing \n",
        "#make an instance of Label Encoder\n",
        "label_encoder = preprocessing.LabelEncoder()\n",
        "y_train = label_encoder.fit_transform(dfTrain['Label'])\n",
        "y_train"
      ],
      "metadata": {
        "colab": {
          "base_uri": "https://localhost:8080/"
        },
        "id": "1WzU9M3KWN5-",
        "outputId": "bb86d1dd-29ad-4b6c-e2b0-fa269cb88777"
      },
      "id": "1WzU9M3KWN5-",
      "execution_count": 13,
      "outputs": [
        {
          "output_type": "execute_result",
          "data": {
            "text/plain": [
              "array([0, 0, 0, 0, 0, 0, 0, 0, 0, 0, 0, 0, 0, 0, 0, 0, 0, 0, 0, 0, 0, 0,\n",
              "       0, 0, 0, 0, 0, 0, 1, 1, 1, 1, 1, 1, 1, 1, 1, 1, 1, 1, 1, 1, 1, 1,\n",
              "       1, 1, 1, 1, 1, 1, 1, 1, 1, 1, 1, 1])"
            ]
          },
          "metadata": {},
          "execution_count": 13
        }
      ]
    },
    {
      "cell_type": "code",
      "source": [
        "#import label encoder\n",
        "from sklearn import preprocessing \n",
        "#make an instance of Label Encoder\n",
        "label_encoder = preprocessing.LabelEncoder()\n",
        "y_test = label_encoder.fit_transform(dfTest['Label'])\n",
        "y_test"
      ],
      "metadata": {
        "colab": {
          "base_uri": "https://localhost:8080/"
        },
        "id": "1Cp7Qey0WgVt",
        "outputId": "682040ae-d0a6-4127-e210-b858efc9bc61"
      },
      "id": "1Cp7Qey0WgVt",
      "execution_count": 14,
      "outputs": [
        {
          "output_type": "execute_result",
          "data": {
            "text/plain": [
              "array([0, 0, 0, 0, 0, 0, 0, 0, 0, 0, 0, 0, 0, 0, 0, 0, 0, 0, 0, 0, 0, 1,\n",
              "       1, 1, 1, 1, 1, 1, 1, 1, 1, 1, 1, 1, 1, 1, 1, 1, 1, 1, 1, 1])"
            ]
          },
          "metadata": {},
          "execution_count": 14
        }
      ]
    },
    {
      "cell_type": "code",
      "source": [
        "X_train = dfTrain.drop('Label',axis=1)\n",
        "X_test = dfTest.drop('Label',axis=1)"
      ],
      "metadata": {
        "id": "lqrTQqKtATqD"
      },
      "id": "lqrTQqKtATqD",
      "execution_count": 15,
      "outputs": []
    },
    {
      "cell_type": "code",
      "source": [
        "from sklearn.model_selection import train_test_split\n",
        "# X_train, X_test, y_train, y_test = train_test_split(X, y, test_size = 0.25, shuffle = True, random_state = 40, stratify = y)\n",
        "# stratify = y makes sure that the rtatio of output columns are same in train and test"
      ],
      "metadata": {
        "id": "E3DdeNiU_jyy"
      },
      "id": "E3DdeNiU_jyy",
      "execution_count": null,
      "outputs": []
    },
    {
      "cell_type": "markdown",
      "source": [
        "<!-- K-Fold - run 10 times and get average -->"
      ],
      "metadata": {
        "id": "eb21fwDESEst"
      },
      "id": "eb21fwDESEst"
    },
    {
      "cell_type": "code",
      "source": [
        "from sklearn.preprocessing import StandardScaler\n",
        "sc = StandardScaler()\n",
        "X_train = sc.fit_transform(X_train)\n",
        "X_test = sc.transform(X_test)"
      ],
      "metadata": {
        "id": "b3KRsM2Z_kJL"
      },
      "id": "b3KRsM2Z_kJL",
      "execution_count": 16,
      "outputs": []
    },
    {
      "cell_type": "code",
      "source": [
        "###Checking the shape of train and test sets\n",
        "print(X_train.shape)\n",
        "print(X_test.shape)\n",
        "print(y_train.shape)\n",
        "print(y_test.shape)"
      ],
      "metadata": {
        "colab": {
          "base_uri": "https://localhost:8080/"
        },
        "id": "BBCKcq4Y_-jm",
        "outputId": "2ef08932-ef4f-4aa3-9478-bc50dc046f92"
      },
      "id": "BBCKcq4Y_-jm",
      "execution_count": 27,
      "outputs": [
        {
          "output_type": "stream",
          "name": "stdout",
          "text": [
            "(56, 4)\n",
            "(42, 4)\n",
            "(56,)\n",
            "(42,)\n"
          ]
        }
      ]
    },
    {
      "cell_type": "code",
      "source": [
        "backend.clear_session()\n",
        "#Fixing the seed for random number generators so that we can ensure we receive the same output everytime\n",
        "np.random.seed(42)\n",
        "import random\n",
        "random.seed(42)\n",
        "tf.random.set_seed(42)"
      ],
      "metadata": {
        "id": "Jvjesm7eADM9"
      },
      "id": "Jvjesm7eADM9",
      "execution_count": 37,
      "outputs": []
    },
    {
      "cell_type": "markdown",
      "source": [
        "# Model 4: The below NN code produced 69% accuracy only, so model 3 max\n",
        "# Refining Model 3 before\n",
        "# Add before final output, flatten layer of 16 nodes and more epochs"
      ],
      "metadata": {
        "id": "oIFPIiCiHUsN"
      },
      "id": "oIFPIiCiHUsN"
    },
    {
      "cell_type": "code",
      "source": [
        "# backend.clear_session() to avoid cross updating\n",
        "backend.clear_session()\n",
        "#Fixing the seed for random number generators so that we can ensure we receive the same output everytime\n",
        "np.random.seed(42)\n",
        "import random\n",
        "random.seed(42)\n",
        "tf.random.set_seed(42)"
      ],
      "metadata": {
        "id": "uB8WU4HLHk18"
      },
      "id": "uB8WU4HLHk18",
      "execution_count": 339,
      "outputs": []
    },
    {
      "cell_type": "code",
      "source": [
        "model4 = Sequential()\n",
        "      #Adding the hidden and output layers\n",
        "      # he_uniform initializes uniformily - it takes number of nodes in hidden layers and then decides the wts.\n",
        "model4.add(Dense(256,activation='relu',kernel_initializer='he_uniform',input_dim = X_train.shape[1]))\n",
        "model4.add(Dropout(0.2))\n",
        "model4.add(BatchNormalization())\n",
        "model4.add(Dense(128,activation='relu',kernel_initializer='he_uniform'))\n",
        "model4.add(Dropout(0.2))\n",
        "\n",
        "model4.add(BatchNormalization())\n",
        "model4.add(Dense(64,activation='relu',kernel_initializer='he_uniform'))\n",
        "model4.add(Dropout(0.2))\n",
        "model4.add(BatchNormalization())\n",
        "model4.add(Dense(32,activation='relu',kernel_initializer='he_uniform'))\n",
        "model4.add(Dropout(0.2))\n",
        "model4.add(BatchNormalization())\n",
        "model4.add(Dense(16,activation='relu',kernel_initializer='he_uniform'))\n",
        "model4.add(Dropout(0.2))\n",
        "\n",
        "model4.add(BatchNormalization())\n",
        "model4.add(Dense(1, activation = 'sigmoid'))"
      ],
      "metadata": {
        "id": "58CQZKtLHk4_"
      },
      "id": "58CQZKtLHk4_",
      "execution_count": 340,
      "outputs": []
    },
    {
      "cell_type": "code",
      "source": [
        " #Compiling the ANN with Adam optimizer and binary cross entropy loss function \n",
        "optimizer = tf.keras.optimizers.Adam(0.001)\n",
        "model4.compile(loss='binary_crossentropy',optimizer=optimizer,metrics=['accuracy'])"
      ],
      "metadata": {
        "id": "iYosFJAOHk_C"
      },
      "id": "iYosFJAOHk_C",
      "execution_count": 341,
      "outputs": []
    },
    {
      "cell_type": "code",
      "source": [
        "model4.summary()"
      ],
      "metadata": {
        "colab": {
          "base_uri": "https://localhost:8080/"
        },
        "id": "PleRmFX5HlQC",
        "outputId": "edde5420-5896-4eb4-fac2-3d51662f1816"
      },
      "id": "PleRmFX5HlQC",
      "execution_count": 342,
      "outputs": [
        {
          "output_type": "stream",
          "name": "stdout",
          "text": [
            "Model: \"sequential\"\n",
            "_________________________________________________________________\n",
            " Layer (type)                Output Shape              Param #   \n",
            "=================================================================\n",
            " dense (Dense)               (None, 256)               1280      \n",
            "                                                                 \n",
            " dropout (Dropout)           (None, 256)               0         \n",
            "                                                                 \n",
            " batch_normalization (BatchN  (None, 256)              1024      \n",
            " ormalization)                                                   \n",
            "                                                                 \n",
            " dense_1 (Dense)             (None, 128)               32896     \n",
            "                                                                 \n",
            " dropout_1 (Dropout)         (None, 128)               0         \n",
            "                                                                 \n",
            " batch_normalization_1 (Batc  (None, 128)              512       \n",
            " hNormalization)                                                 \n",
            "                                                                 \n",
            " dense_2 (Dense)             (None, 64)                8256      \n",
            "                                                                 \n",
            " dropout_2 (Dropout)         (None, 64)                0         \n",
            "                                                                 \n",
            " batch_normalization_2 (Batc  (None, 64)               256       \n",
            " hNormalization)                                                 \n",
            "                                                                 \n",
            " dense_3 (Dense)             (None, 32)                2080      \n",
            "                                                                 \n",
            " dropout_3 (Dropout)         (None, 32)                0         \n",
            "                                                                 \n",
            " batch_normalization_3 (Batc  (None, 32)               128       \n",
            " hNormalization)                                                 \n",
            "                                                                 \n",
            " dense_4 (Dense)             (None, 16)                528       \n",
            "                                                                 \n",
            " dropout_4 (Dropout)         (None, 16)                0         \n",
            "                                                                 \n",
            " batch_normalization_4 (Batc  (None, 16)               64        \n",
            " hNormalization)                                                 \n",
            "                                                                 \n",
            " dense_5 (Dense)             (None, 1)                 17        \n",
            "                                                                 \n",
            "=================================================================\n",
            "Total params: 47,041\n",
            "Trainable params: 46,049\n",
            "Non-trainable params: 992\n",
            "_________________________________________________________________\n"
          ]
        }
      ]
    },
    {
      "cell_type": "code",
      "source": [
        "history1 = model4.fit(X_train,y_train,batch_size=64,epochs=60,verbose=1,validation_split = 0.2)"
      ],
      "metadata": {
        "colab": {
          "base_uri": "https://localhost:8080/"
        },
        "id": "lmZjIVo9HlTZ",
        "outputId": "a79201c3-6059-4208-883a-6439efed7a15"
      },
      "id": "lmZjIVo9HlTZ",
      "execution_count": 343,
      "outputs": [
        {
          "output_type": "stream",
          "name": "stdout",
          "text": [
            "Epoch 1/60\n",
            "1/1 [==============================] - 6s 6s/step - loss: 0.9451 - accuracy: 0.4545 - val_loss: 0.6609 - val_accuracy: 0.9167\n",
            "Epoch 2/60\n",
            "1/1 [==============================] - 0s 69ms/step - loss: 1.0057 - accuracy: 0.3864 - val_loss: 0.6763 - val_accuracy: 0.7500\n",
            "Epoch 3/60\n",
            "1/1 [==============================] - 0s 68ms/step - loss: 0.8204 - accuracy: 0.5682 - val_loss: 0.6907 - val_accuracy: 0.5833\n",
            "Epoch 4/60\n",
            "1/1 [==============================] - 0s 66ms/step - loss: 0.8044 - accuracy: 0.5455 - val_loss: 0.7038 - val_accuracy: 0.2500\n",
            "Epoch 5/60\n",
            "1/1 [==============================] - 0s 51ms/step - loss: 0.7809 - accuracy: 0.5909 - val_loss: 0.7132 - val_accuracy: 0.0833\n",
            "Epoch 6/60\n",
            "1/1 [==============================] - 0s 71ms/step - loss: 0.7707 - accuracy: 0.6136 - val_loss: 0.7175 - val_accuracy: 0.0833\n",
            "Epoch 7/60\n",
            "1/1 [==============================] - 0s 50ms/step - loss: 0.8953 - accuracy: 0.6364 - val_loss: 0.7228 - val_accuracy: 0.0833\n",
            "Epoch 8/60\n",
            "1/1 [==============================] - 0s 52ms/step - loss: 0.7802 - accuracy: 0.5682 - val_loss: 0.7245 - val_accuracy: 0.0833\n",
            "Epoch 9/60\n",
            "1/1 [==============================] - 0s 51ms/step - loss: 0.8893 - accuracy: 0.4545 - val_loss: 0.7245 - val_accuracy: 0.0000e+00\n",
            "Epoch 10/60\n",
            "1/1 [==============================] - 0s 73ms/step - loss: 0.8074 - accuracy: 0.5227 - val_loss: 0.7227 - val_accuracy: 0.0833\n",
            "Epoch 11/60\n",
            "1/1 [==============================] - 0s 56ms/step - loss: 0.7426 - accuracy: 0.5682 - val_loss: 0.7191 - val_accuracy: 0.0833\n",
            "Epoch 12/60\n",
            "1/1 [==============================] - 0s 72ms/step - loss: 0.8416 - accuracy: 0.5000 - val_loss: 0.7170 - val_accuracy: 0.0833\n",
            "Epoch 13/60\n",
            "1/1 [==============================] - 0s 54ms/step - loss: 0.6755 - accuracy: 0.5682 - val_loss: 0.7163 - val_accuracy: 0.0833\n",
            "Epoch 14/60\n",
            "1/1 [==============================] - 0s 61ms/step - loss: 0.6955 - accuracy: 0.5909 - val_loss: 0.7177 - val_accuracy: 0.0833\n",
            "Epoch 15/60\n",
            "1/1 [==============================] - 0s 54ms/step - loss: 0.8176 - accuracy: 0.5000 - val_loss: 0.7162 - val_accuracy: 0.0833\n",
            "Epoch 16/60\n",
            "1/1 [==============================] - 0s 74ms/step - loss: 0.6035 - accuracy: 0.6364 - val_loss: 0.7168 - val_accuracy: 0.0833\n",
            "Epoch 17/60\n",
            "1/1 [==============================] - 0s 91ms/step - loss: 0.5732 - accuracy: 0.7500 - val_loss: 0.7194 - val_accuracy: 0.0000e+00\n",
            "Epoch 18/60\n",
            "1/1 [==============================] - 0s 56ms/step - loss: 0.7859 - accuracy: 0.5909 - val_loss: 0.7236 - val_accuracy: 0.0000e+00\n",
            "Epoch 19/60\n",
            "1/1 [==============================] - 0s 70ms/step - loss: 0.7265 - accuracy: 0.5455 - val_loss: 0.7260 - val_accuracy: 0.0000e+00\n",
            "Epoch 20/60\n",
            "1/1 [==============================] - 0s 66ms/step - loss: 0.6861 - accuracy: 0.6591 - val_loss: 0.7285 - val_accuracy: 0.0000e+00\n",
            "Epoch 21/60\n",
            "1/1 [==============================] - 0s 57ms/step - loss: 0.5902 - accuracy: 0.7273 - val_loss: 0.7289 - val_accuracy: 0.0000e+00\n",
            "Epoch 22/60\n",
            "1/1 [==============================] - 0s 52ms/step - loss: 0.5757 - accuracy: 0.6136 - val_loss: 0.7350 - val_accuracy: 0.0000e+00\n",
            "Epoch 23/60\n",
            "1/1 [==============================] - 0s 70ms/step - loss: 0.6943 - accuracy: 0.6591 - val_loss: 0.7387 - val_accuracy: 0.0000e+00\n",
            "Epoch 24/60\n",
            "1/1 [==============================] - 0s 53ms/step - loss: 0.6051 - accuracy: 0.6591 - val_loss: 0.7431 - val_accuracy: 0.0000e+00\n",
            "Epoch 25/60\n",
            "1/1 [==============================] - 0s 62ms/step - loss: 0.6813 - accuracy: 0.6818 - val_loss: 0.7475 - val_accuracy: 0.0000e+00\n",
            "Epoch 26/60\n",
            "1/1 [==============================] - 0s 68ms/step - loss: 0.5371 - accuracy: 0.7955 - val_loss: 0.7526 - val_accuracy: 0.0000e+00\n",
            "Epoch 27/60\n",
            "1/1 [==============================] - 0s 62ms/step - loss: 0.6208 - accuracy: 0.6136 - val_loss: 0.7614 - val_accuracy: 0.0000e+00\n",
            "Epoch 28/60\n",
            "1/1 [==============================] - 0s 70ms/step - loss: 0.5846 - accuracy: 0.6136 - val_loss: 0.7663 - val_accuracy: 0.0000e+00\n",
            "Epoch 29/60\n",
            "1/1 [==============================] - 0s 72ms/step - loss: 0.5170 - accuracy: 0.7727 - val_loss: 0.7716 - val_accuracy: 0.0000e+00\n",
            "Epoch 30/60\n",
            "1/1 [==============================] - 0s 52ms/step - loss: 0.6352 - accuracy: 0.7045 - val_loss: 0.7760 - val_accuracy: 0.0000e+00\n",
            "Epoch 31/60\n",
            "1/1 [==============================] - 0s 53ms/step - loss: 0.6722 - accuracy: 0.6818 - val_loss: 0.7796 - val_accuracy: 0.0000e+00\n",
            "Epoch 32/60\n",
            "1/1 [==============================] - 0s 68ms/step - loss: 0.5971 - accuracy: 0.6818 - val_loss: 0.7844 - val_accuracy: 0.0000e+00\n",
            "Epoch 33/60\n",
            "1/1 [==============================] - 0s 56ms/step - loss: 0.5976 - accuracy: 0.6818 - val_loss: 0.7870 - val_accuracy: 0.0000e+00\n",
            "Epoch 34/60\n",
            "1/1 [==============================] - 0s 73ms/step - loss: 0.6272 - accuracy: 0.7045 - val_loss: 0.7909 - val_accuracy: 0.0000e+00\n",
            "Epoch 35/60\n",
            "1/1 [==============================] - 0s 69ms/step - loss: 0.6239 - accuracy: 0.6136 - val_loss: 0.7947 - val_accuracy: 0.0000e+00\n",
            "Epoch 36/60\n",
            "1/1 [==============================] - 0s 52ms/step - loss: 0.5394 - accuracy: 0.7500 - val_loss: 0.8008 - val_accuracy: 0.0000e+00\n",
            "Epoch 37/60\n",
            "1/1 [==============================] - 0s 51ms/step - loss: 0.5575 - accuracy: 0.7727 - val_loss: 0.8074 - val_accuracy: 0.0000e+00\n",
            "Epoch 38/60\n",
            "1/1 [==============================] - 0s 53ms/step - loss: 0.6641 - accuracy: 0.6818 - val_loss: 0.8120 - val_accuracy: 0.0000e+00\n",
            "Epoch 39/60\n",
            "1/1 [==============================] - 0s 51ms/step - loss: 0.5887 - accuracy: 0.7045 - val_loss: 0.8169 - val_accuracy: 0.0000e+00\n",
            "Epoch 40/60\n",
            "1/1 [==============================] - 0s 61ms/step - loss: 0.6722 - accuracy: 0.6364 - val_loss: 0.8217 - val_accuracy: 0.0000e+00\n",
            "Epoch 41/60\n",
            "1/1 [==============================] - 0s 72ms/step - loss: 0.4181 - accuracy: 0.7955 - val_loss: 0.8285 - val_accuracy: 0.0000e+00\n",
            "Epoch 42/60\n",
            "1/1 [==============================] - 0s 53ms/step - loss: 0.6157 - accuracy: 0.6818 - val_loss: 0.8364 - val_accuracy: 0.0000e+00\n",
            "Epoch 43/60\n",
            "1/1 [==============================] - 0s 56ms/step - loss: 0.5200 - accuracy: 0.7273 - val_loss: 0.8461 - val_accuracy: 0.0000e+00\n",
            "Epoch 44/60\n",
            "1/1 [==============================] - 0s 58ms/step - loss: 0.5715 - accuracy: 0.7727 - val_loss: 0.8540 - val_accuracy: 0.0000e+00\n",
            "Epoch 45/60\n",
            "1/1 [==============================] - 0s 56ms/step - loss: 0.4695 - accuracy: 0.8182 - val_loss: 0.8645 - val_accuracy: 0.0000e+00\n",
            "Epoch 46/60\n",
            "1/1 [==============================] - 0s 58ms/step - loss: 0.4772 - accuracy: 0.7045 - val_loss: 0.8725 - val_accuracy: 0.0000e+00\n",
            "Epoch 47/60\n",
            "1/1 [==============================] - 0s 54ms/step - loss: 0.5277 - accuracy: 0.6818 - val_loss: 0.8808 - val_accuracy: 0.0000e+00\n",
            "Epoch 48/60\n",
            "1/1 [==============================] - 0s 70ms/step - loss: 0.4495 - accuracy: 0.7727 - val_loss: 0.8894 - val_accuracy: 0.0000e+00\n",
            "Epoch 49/60\n",
            "1/1 [==============================] - 0s 56ms/step - loss: 0.5390 - accuracy: 0.7500 - val_loss: 0.8960 - val_accuracy: 0.0000e+00\n",
            "Epoch 50/60\n",
            "1/1 [==============================] - 0s 70ms/step - loss: 0.5564 - accuracy: 0.7273 - val_loss: 0.9023 - val_accuracy: 0.0000e+00\n",
            "Epoch 51/60\n",
            "1/1 [==============================] - 0s 57ms/step - loss: 0.5232 - accuracy: 0.7955 - val_loss: 0.9081 - val_accuracy: 0.0000e+00\n",
            "Epoch 52/60\n",
            "1/1 [==============================] - 0s 68ms/step - loss: 0.4696 - accuracy: 0.7273 - val_loss: 0.9135 - val_accuracy: 0.0000e+00\n",
            "Epoch 53/60\n",
            "1/1 [==============================] - 0s 54ms/step - loss: 0.5043 - accuracy: 0.7045 - val_loss: 0.9205 - val_accuracy: 0.0000e+00\n",
            "Epoch 54/60\n",
            "1/1 [==============================] - 0s 55ms/step - loss: 0.5228 - accuracy: 0.7727 - val_loss: 0.9259 - val_accuracy: 0.0000e+00\n",
            "Epoch 55/60\n",
            "1/1 [==============================] - 0s 81ms/step - loss: 0.4424 - accuracy: 0.7727 - val_loss: 0.9302 - val_accuracy: 0.0000e+00\n",
            "Epoch 56/60\n",
            "1/1 [==============================] - 0s 53ms/step - loss: 0.5124 - accuracy: 0.7727 - val_loss: 0.9323 - val_accuracy: 0.0000e+00\n",
            "Epoch 57/60\n",
            "1/1 [==============================] - 0s 72ms/step - loss: 0.5947 - accuracy: 0.6591 - val_loss: 0.9366 - val_accuracy: 0.0000e+00\n",
            "Epoch 58/60\n",
            "1/1 [==============================] - 0s 72ms/step - loss: 0.4993 - accuracy: 0.7500 - val_loss: 0.9414 - val_accuracy: 0.0000e+00\n",
            "Epoch 59/60\n",
            "1/1 [==============================] - 0s 71ms/step - loss: 0.5270 - accuracy: 0.7045 - val_loss: 0.9474 - val_accuracy: 0.0000e+00\n",
            "Epoch 60/60\n",
            "1/1 [==============================] - 0s 70ms/step - loss: 0.5012 - accuracy: 0.7500 - val_loss: 0.9532 - val_accuracy: 0.0000e+00\n"
          ]
        }
      ]
    },
    {
      "cell_type": "code",
      "source": [
        "\n",
        "#Plotting Train Loss vs Validation Loss\n",
        "plt.plot(history1.history['loss'])\n",
        "plt.plot(history1.history['val_loss'])\n",
        "plt.title('model loss')\n",
        "plt.ylabel('Loss')\n",
        "plt.xlabel('Epoch')\n",
        "plt.legend(['train', 'validation'], loc='upper left')\n",
        "plt.show()"
      ],
      "metadata": {
        "colab": {
          "base_uri": "https://localhost:8080/",
          "height": 295
        },
        "id": "AgZUivwFHlZb",
        "outputId": "8b98d069-2e14-4bdb-8679-64aeca4ba6e2"
      },
      "id": "AgZUivwFHlZb",
      "execution_count": 344,
      "outputs": [
        {
          "output_type": "display_data",
          "data": {
            "text/plain": [
              "<Figure size 432x288 with 1 Axes>"
            ],
            "image/png": "[encoded data removed]"
          },
          "metadata": {
            "needs_background": "light"
          }
        }
      ]
    },
    {
      "cell_type": "code",
      "source": [
        "from sklearn.metrics import roc_curve\n",
        "from matplotlib import pyplot\n",
        "# predict probabilities\n",
        "yhat1 = model4.predict(X_test)\n"
      ],
      "metadata": {
        "colab": {
          "base_uri": "https://localhost:8080/"
        },
        "id": "hk9pBplwHlch",
        "outputId": "65d4bf8b-2611-436a-827e-05c3712f9a76"
      },
      "id": "hk9pBplwHlch",
      "execution_count": 345,
      "outputs": [
        {
          "output_type": "stream",
          "name": "stdout",
          "text": [
            "2/2 [==============================] - 0s 7ms/step\n"
          ]
        }
      ]
    },
    {
      "cell_type": "code",
      "source": [
        "# predict probabilities\n",
        "yhat1 = model4.predict(X_test)\n",
        "# keep probabilities for the positive outcome only\n",
        "yhat1 = yhat1[:, 0]\n",
        "# calculate roc curves\n",
        "fpr, tpr, thresholds1 = roc_curve(y_test, yhat1)\n",
        "# calculate the g-mean for each threshold\n",
        "gmeans1 = np.sqrt(tpr * (1-fpr))\n",
        "# locate the index of the largest g-mean\n",
        "ix = np.argmax(gmeans1)\n",
        "print('Best Threshold=%f, G-Mean=%.3f' % (thresholds1[ix], gmeans1[ix]))\n",
        "# plot the roc curve for the model\n",
        "pyplot.plot([0,1], [0,1], linestyle='--', label='No Skill')\n",
        "pyplot.plot(fpr, tpr, marker='.')\n",
        "pyplot.scatter(fpr[ix], tpr[ix], marker='o', color='black', label='Best')\n",
        "# axis labels\n",
        "pyplot.xlabel('False Positive Rate')\n",
        "pyplot.ylabel('True Positive Rate')\n",
        "pyplot.legend()\n",
        "# show the plot\n",
        "pyplot.show()"
      ],
      "metadata": {
        "colab": {
          "base_uri": "https://localhost:8080/",
          "height": 314
        },
        "id": "bdxJ8q_3HlfM",
        "outputId": "3866d4c3-0119-42a7-e70d-6ad7c1b96064"
      },
      "id": "bdxJ8q_3HlfM",
      "execution_count": 346,
      "outputs": [
        {
          "output_type": "stream",
          "name": "stdout",
          "text": [
            "2/2 [==============================] - 0s 7ms/step\n",
            "Best Threshold=0.375345, G-Mean=0.857\n"
          ]
        },
        {
          "output_type": "display_data",
          "data": {
            "text/plain": [
              "<Figure size 432x288 with 1 Axes>"
            ],
            "image/png": "[encoded data removed]"
          },
          "metadata": {
            "needs_background": "light"
          }
        }
      ]
    },
    {
      "cell_type": "code",
      "source": [
        "\n",
        "#Predicting the results using best as a threshold\n",
        "y_pred_e1=model4.predict(X_test)\n",
        "y_pred_e1 = (y_pred_e1 > thresholds1[ix])\n",
        "y_pred_e1"
      ],
      "metadata": {
        "colab": {
          "base_uri": "https://localhost:8080/"
        },
        "id": "0e1g7lAPHlh-",
        "outputId": "8f07548c-14f0-460c-cc56-3587ec68c136"
      },
      "id": "0e1g7lAPHlh-",
      "execution_count": 347,
      "outputs": [
        {
          "output_type": "stream",
          "name": "stdout",
          "text": [
            "2/2 [==============================] - 0s 10ms/step\n"
          ]
        },
        {
          "output_type": "execute_result",
          "data": {
            "text/plain": [
              "array([[False],\n",
              "       [False],\n",
              "       [ True],\n",
              "       [False],\n",
              "       [False],\n",
              "       [False],\n",
              "       [False],\n",
              "       [False],\n",
              "       [False],\n",
              "       [ True],\n",
              "       [False],\n",
              "       [False],\n",
              "       [False],\n",
              "       [False],\n",
              "       [False],\n",
              "       [False],\n",
              "       [False],\n",
              "       [False],\n",
              "       [ True],\n",
              "       [False],\n",
              "       [False],\n",
              "       [ True],\n",
              "       [ True],\n",
              "       [ True],\n",
              "       [ True],\n",
              "       [ True],\n",
              "       [ True],\n",
              "       [ True],\n",
              "       [ True],\n",
              "       [ True],\n",
              "       [ True],\n",
              "       [ True],\n",
              "       [ True],\n",
              "       [ True],\n",
              "       [ True],\n",
              "       [False],\n",
              "       [False],\n",
              "       [ True],\n",
              "       [False],\n",
              "       [ True],\n",
              "       [ True],\n",
              "       [False]])"
            ]
          },
          "metadata": {},
          "execution_count": 347
        }
      ]
    },
    {
      "cell_type": "code",
      "source": [
        "                 \n",
        "def make_confusion_matrix(cf,\n",
        "                          group_names=None,\n",
        "                          categories='auto',\n",
        "                          count=True,\n",
        "                          percent=True,\n",
        "                          cbar=True,\n",
        "                          xyticks=True,\n",
        "                          xyplotlabels=True,\n",
        "                          sum_stats=True,\n",
        "                          figsize=None,\n",
        "                          cmap='Blues',\n",
        "                          title=None):\n",
        "    '''\n",
        "    This function will make a pretty plot of an sklearn Confusion Matrix cm using a Seaborn heatmap visualization.\n",
        "    Arguments\n",
        "    '''\n",
        "\n",
        "\n",
        "    # CODE TO GENERATE TEXT INSIDE EACH SQUARE\n",
        "    blanks = ['' for i in range(cf.size)]\n",
        "\n",
        "    if group_names and len(group_names)==cf.size:\n",
        "        group_labels = [\"{}\\n\".format(value) for value in group_names]\n",
        "    else:\n",
        "        group_labels = blanks\n",
        "\n",
        "    if count:\n",
        "        group_counts = [\"{0:0.0f}\\n\".format(value) for value in cf.flatten()]\n",
        "    else:\n",
        "        group_counts = blanks\n",
        "\n",
        "    if percent:\n",
        "        group_percentages = [\"{0:.2%}\".format(value) for value in cf.flatten()/np.sum(cf)]\n",
        "    else:\n",
        "        group_percentages = blanks\n",
        "\n",
        "    box_labels = [f\"{v1}{v2}{v3}\".strip() for v1, v2, v3 in zip(group_labels,group_counts,group_percentages)]\n",
        "    box_labels = np.asarray(box_labels).reshape(cf.shape[0],cf.shape[1])\n",
        "\n",
        "\n",
        "    # CODE TO GENERATE SUMMARY STATISTICS & TEXT FOR SUMMARY STATS\n",
        "    if sum_stats:\n",
        "        #Accuracy is sum of diagonal divided by total observations\n",
        "        accuracy  = np.trace(cf) / float(np.sum(cf))\n",
        "\n",
        "\n",
        "\n",
        "    # SET FIGURE PARAMETERS ACCORDING TO OTHER ARGUMENTS\n",
        "    if figsize==None:\n",
        "        #Get default figure size if not set\n",
        "        figsize = plt.rcParams.get('figure.figsize')\n",
        "\n",
        "    if xyticks==False:\n",
        "        #Do not show categories if xyticks is False\n",
        "        categories=False\n",
        "\n",
        "\n",
        "    # MAKE THE HEATMAP VISUALIZATION\n",
        "    plt.figure(figsize=figsize)\n",
        "    sns.heatmap(cf,annot=box_labels,fmt=\"\",cmap=cmap,cbar=cbar,xticklabels=categories,yticklabels=categories)\n",
        "\n",
        "    \n",
        "    if title:\n",
        "        plt.title(title)"
      ],
      "metadata": {
        "id": "e_7hZVIaH2mn"
      },
      "id": "e_7hZVIaH2mn",
      "execution_count": 348,
      "outputs": []
    },
    {
      "cell_type": "code",
      "source": [
        "\n",
        "#Calculating the confusion matrix \n",
        "from sklearn.metrics import confusion_matrix\n",
        "cm1=confusion_matrix(y_test, y_pred_e1)\n",
        "labels = ['True Positive','False Negative','False Positive','True Negative']\n",
        "categories = [ 'Not Changing Job','Changing Job']\n",
        "make_confusion_matrix(cm1, \n",
        "                      group_names=labels,\n",
        "                      categories=categories, \n",
        "                      cmap='Blues')"
      ],
      "metadata": {
        "colab": {
          "base_uri": "https://localhost:8080/",
          "height": 269
        },
        "id": "vkveygk4H2px",
        "outputId": "2dbae41f-f20c-440e-8671-bf53d31c54b0"
      },
      "id": "vkveygk4H2px",
      "execution_count": 349,
      "outputs": [
        {
          "output_type": "display_data",
          "data": {
            "text/plain": [
              "<Figure size 432x288 with 2 Axes>"
            ],
            "image/png": "[encoded data removed]"
          },
          "metadata": {
            "needs_background": "light"
          }
        }
      ]
    },
    {
      "cell_type": "code",
      "source": [
        "from sklearn import metrics\n",
        "cr=metrics.classification_report(y_test, y_pred_e1)\n",
        "print(cr)"
      ],
      "metadata": {
        "colab": {
          "base_uri": "https://localhost:8080/"
        },
        "id": "1Qudb9wdHlkf",
        "outputId": "8269f643-8931-490e-a518-7827f14d7bab"
      },
      "id": "1Qudb9wdHlkf",
      "execution_count": 350,
      "outputs": [
        {
          "output_type": "stream",
          "name": "stdout",
          "text": [
            "              precision    recall  f1-score   support\n",
            "\n",
            "           0       0.82      0.86      0.84        21\n",
            "           1       0.85      0.81      0.83        21\n",
            "\n",
            "    accuracy                           0.83        42\n",
            "   macro avg       0.83      0.83      0.83        42\n",
            "weighted avg       0.83      0.83      0.83        42\n",
            "\n"
          ]
        }
      ]
    },
    {
      "cell_type": "code",
      "source": [],
      "metadata": {
        "id": "DwjFdk4vICDm"
      },
      "id": "DwjFdk4vICDm",
      "execution_count": 338,
      "outputs": []
    },
    {
      "cell_type": "markdown",
      "source": [
        "# Model 3: The below NN code produced 86 - 88% accuracy\n",
        "# Add batch normalisation after every hidden layer **bold text**"
      ],
      "metadata": {
        "id": "EppReNJBFSui"
      },
      "id": "EppReNJBFSui"
    },
    {
      "cell_type": "code",
      "source": [
        "# backend.clear_session() to avoid cross updating\n",
        "backend.clear_session()\n",
        "#Fixing the seed for random number generators so that we can ensure we receive the same output everytime\n",
        "np.random.seed(42)\n",
        "import random\n",
        "random.seed(42)\n",
        "tf.random.set_seed(42)"
      ],
      "metadata": {
        "id": "rdS8kIoMFolS"
      },
      "id": "rdS8kIoMFolS",
      "execution_count": 408,
      "outputs": []
    },
    {
      "cell_type": "code",
      "source": [
        "model3 = Sequential()\n",
        "      #Adding the hidden and output layers\n",
        "      # he_uniform initializes uniformily - it takes number of nodes in hidden layers and then decides the wts.\n",
        "model3.add(Dense(256,activation='relu',kernel_initializer='he_uniform',input_dim = X_train.shape[1]))\n",
        "# model3.add(Dropout(0.2)) #drop out did not inprove acc.\n",
        "model3.add(BatchNormalization())\n",
        "model3.add(Dense(128,activation='relu',kernel_initializer='he_uniform'))\n",
        "# model3.add(Dropout(0.2))\n",
        "model3.add(BatchNormalization())\n",
        "model3.add(Dense(64,activation='relu',kernel_initializer='he_uniform'))\n",
        "# model3.add(Dropout(0.2))\n",
        "model3.add(BatchNormalization())\n",
        "model3.add(Dense(32,activation='relu',kernel_initializer='he_uniform'))\n",
        "# model3.add(Dropout(0.2))\n",
        "model3.add(BatchNormalization())\n",
        "model3.add(Dense(1, activation = 'sigmoid'))"
      ],
      "metadata": {
        "id": "7-ODflZWFo0Y"
      },
      "id": "7-ODflZWFo0Y",
      "execution_count": 409,
      "outputs": []
    },
    {
      "cell_type": "code",
      "source": [
        " #Compiling the ANN with Adam optimizer and binary cross entropy loss function \n",
        "#  Adam(0.001) produced max accuracy\n",
        "# Tried with 0.001, 0.0001, 0.0002 all gave less.\n",
        "optimizer = tf.keras.optimizers.Adam(0.001)\n",
        "model3.compile(loss='binary_crossentropy',optimizer=optimizer,metrics=['accuracy'])"
      ],
      "metadata": {
        "id": "ASG_9TigFsgC"
      },
      "id": "ASG_9TigFsgC",
      "execution_count": 410,
      "outputs": []
    },
    {
      "cell_type": "code",
      "source": [
        "# # momentum did not add to acc but reduced it.\n",
        "# optimizer = tf.keras.optimizers.SGD(\n",
        "#     learning_rate=0.01,\n",
        "#     momentum=0.2,\n",
        "#     nesterov=False,\n",
        "#     amsgrad=False,\n",
        "#     weight_decay=None,\n",
        "#     clipnorm=None,\n",
        "#     clipvalue=None,\n",
        "#     global_clipnorm=None,\n",
        "#     use_ema=False,\n",
        "#     ema_momentum=0.99,\n",
        "#     ema_overwrite_frequency=None,\n",
        "#     jit_compile=True,\n",
        "#     name=\"SGD\"\n",
        "# )\n",
        "# model3.compile(loss='binary_crossentropy',optimizer=optimizer,metrics=['accuracy'])"
      ],
      "metadata": {
        "id": "_35orJTfMZWk"
      },
      "id": "_35orJTfMZWk",
      "execution_count": 411,
      "outputs": []
    },
    {
      "cell_type": "code",
      "source": [
        "model3.summary()"
      ],
      "metadata": {
        "colab": {
          "base_uri": "https://localhost:8080/"
        },
        "id": "ZnyQ95mIFsi6",
        "outputId": "3fa659ed-1592-4d08-be1f-8aa53bee894f"
      },
      "id": "ZnyQ95mIFsi6",
      "execution_count": 412,
      "outputs": [
        {
          "output_type": "stream",
          "name": "stdout",
          "text": [
            "Model: \"sequential\"\n",
            "_________________________________________________________________\n",
            " Layer (type)                Output Shape              Param #   \n",
            "=================================================================\n",
            " dense (Dense)               (None, 256)               1280      \n",
            "                                                                 \n",
            " batch_normalization (BatchN  (None, 256)              1024      \n",
            " ormalization)                                                   \n",
            "                                                                 \n",
            " dense_1 (Dense)             (None, 128)               32896     \n",
            "                                                                 \n",
            " batch_normalization_1 (Batc  (None, 128)              512       \n",
            " hNormalization)                                                 \n",
            "                                                                 \n",
            " dense_2 (Dense)             (None, 64)                8256      \n",
            "                                                                 \n",
            " batch_normalization_2 (Batc  (None, 64)               256       \n",
            " hNormalization)                                                 \n",
            "                                                                 \n",
            " dense_3 (Dense)             (None, 32)                2080      \n",
            "                                                                 \n",
            " batch_normalization_3 (Batc  (None, 32)               128       \n",
            " hNormalization)                                                 \n",
            "                                                                 \n",
            " dense_4 (Dense)             (None, 1)                 33        \n",
            "                                                                 \n",
            "=================================================================\n",
            "Total params: 46,465\n",
            "Trainable params: 45,505\n",
            "Non-trainable params: 960\n",
            "_________________________________________________________________\n"
          ]
        }
      ]
    },
    {
      "cell_type": "code",
      "source": [
        "\n",
        "history1 = model3.fit(X_train,y_train,batch_size=64,epochs=50,verbose=1,validation_split = 0.2)"
      ],
      "metadata": {
        "colab": {
          "base_uri": "https://localhost:8080/"
        },
        "id": "mX0v753xFslv",
        "outputId": "3bef3e94-c33c-404f-f608-4f2fddea8198"
      },
      "id": "mX0v753xFslv",
      "execution_count": 413,
      "outputs": [
        {
          "output_type": "stream",
          "name": "stdout",
          "text": [
            "Epoch 1/50\n",
            "1/1 [==============================] - 3s 3s/step - loss: 0.7381 - accuracy: 0.5227 - val_loss: 0.9523 - val_accuracy: 0.0000e+00\n",
            "Epoch 2/50\n",
            "1/1 [==============================] - 0s 53ms/step - loss: 0.4677 - accuracy: 0.6818 - val_loss: 0.9005 - val_accuracy: 0.0000e+00\n",
            "Epoch 3/50\n",
            "1/1 [==============================] - 0s 53ms/step - loss: 0.3938 - accuracy: 0.8182 - val_loss: 0.8607 - val_accuracy: 0.0000e+00\n",
            "Epoch 4/50\n",
            "1/1 [==============================] - 0s 55ms/step - loss: 0.3311 - accuracy: 0.8409 - val_loss: 0.8316 - val_accuracy: 0.0000e+00\n",
            "Epoch 5/50\n",
            "1/1 [==============================] - 0s 48ms/step - loss: 0.2881 - accuracy: 0.8864 - val_loss: 0.8071 - val_accuracy: 0.0000e+00\n",
            "Epoch 6/50\n",
            "1/1 [==============================] - 0s 47ms/step - loss: 0.2598 - accuracy: 0.9091 - val_loss: 0.7866 - val_accuracy: 0.0000e+00\n",
            "Epoch 7/50\n",
            "1/1 [==============================] - 0s 50ms/step - loss: 0.2362 - accuracy: 0.9318 - val_loss: 0.7717 - val_accuracy: 0.0000e+00\n",
            "Epoch 8/50\n",
            "1/1 [==============================] - 0s 61ms/step - loss: 0.2172 - accuracy: 0.9545 - val_loss: 0.7572 - val_accuracy: 0.0833\n",
            "Epoch 9/50\n",
            "1/1 [==============================] - 0s 65ms/step - loss: 0.2064 - accuracy: 1.0000 - val_loss: 0.7404 - val_accuracy: 0.0833\n",
            "Epoch 10/50\n",
            "1/1 [==============================] - 0s 43ms/step - loss: 0.1982 - accuracy: 1.0000 - val_loss: 0.7228 - val_accuracy: 0.1667\n",
            "Epoch 11/50\n",
            "1/1 [==============================] - 0s 48ms/step - loss: 0.1907 - accuracy: 0.9773 - val_loss: 0.7063 - val_accuracy: 0.3333\n",
            "Epoch 12/50\n",
            "1/1 [==============================] - 0s 64ms/step - loss: 0.1835 - accuracy: 0.9773 - val_loss: 0.6926 - val_accuracy: 0.6667\n",
            "Epoch 13/50\n",
            "1/1 [==============================] - 0s 56ms/step - loss: 0.1753 - accuracy: 0.9773 - val_loss: 0.6816 - val_accuracy: 0.7500\n",
            "Epoch 14/50\n",
            "1/1 [==============================] - 0s 69ms/step - loss: 0.1669 - accuracy: 1.0000 - val_loss: 0.6708 - val_accuracy: 0.7500\n",
            "Epoch 15/50\n",
            "1/1 [==============================] - 0s 66ms/step - loss: 0.1592 - accuracy: 1.0000 - val_loss: 0.6639 - val_accuracy: 0.7500\n",
            "Epoch 16/50\n",
            "1/1 [==============================] - 0s 63ms/step - loss: 0.1524 - accuracy: 1.0000 - val_loss: 0.6573 - val_accuracy: 0.7500\n",
            "Epoch 17/50\n",
            "1/1 [==============================] - 0s 68ms/step - loss: 0.1463 - accuracy: 1.0000 - val_loss: 0.6512 - val_accuracy: 0.7500\n",
            "Epoch 18/50\n",
            "1/1 [==============================] - 0s 48ms/step - loss: 0.1407 - accuracy: 1.0000 - val_loss: 0.6440 - val_accuracy: 0.7500\n",
            "Epoch 19/50\n",
            "1/1 [==============================] - 0s 47ms/step - loss: 0.1355 - accuracy: 1.0000 - val_loss: 0.6326 - val_accuracy: 0.7500\n",
            "Epoch 20/50\n",
            "1/1 [==============================] - 0s 48ms/step - loss: 0.1285 - accuracy: 1.0000 - val_loss: 0.6230 - val_accuracy: 0.9167\n",
            "Epoch 21/50\n",
            "1/1 [==============================] - 0s 47ms/step - loss: 0.1228 - accuracy: 1.0000 - val_loss: 0.6167 - val_accuracy: 0.9167\n",
            "Epoch 22/50\n",
            "1/1 [==============================] - 0s 62ms/step - loss: 0.1174 - accuracy: 1.0000 - val_loss: 0.6125 - val_accuracy: 0.9167\n",
            "Epoch 23/50\n",
            "1/1 [==============================] - 0s 45ms/step - loss: 0.1120 - accuracy: 1.0000 - val_loss: 0.6095 - val_accuracy: 0.9167\n",
            "Epoch 24/50\n",
            "1/1 [==============================] - 0s 72ms/step - loss: 0.1073 - accuracy: 1.0000 - val_loss: 0.6054 - val_accuracy: 0.9167\n",
            "Epoch 25/50\n",
            "1/1 [==============================] - 0s 65ms/step - loss: 0.1023 - accuracy: 1.0000 - val_loss: 0.5993 - val_accuracy: 0.9167\n",
            "Epoch 26/50\n",
            "1/1 [==============================] - 0s 63ms/step - loss: 0.0987 - accuracy: 1.0000 - val_loss: 0.5959 - val_accuracy: 0.9167\n",
            "Epoch 27/50\n",
            "1/1 [==============================] - 0s 67ms/step - loss: 0.0948 - accuracy: 1.0000 - val_loss: 0.5950 - val_accuracy: 0.9167\n",
            "Epoch 28/50\n",
            "1/1 [==============================] - 0s 66ms/step - loss: 0.0911 - accuracy: 1.0000 - val_loss: 0.5910 - val_accuracy: 0.9167\n",
            "Epoch 29/50\n",
            "1/1 [==============================] - 0s 63ms/step - loss: 0.0871 - accuracy: 1.0000 - val_loss: 0.5872 - val_accuracy: 0.9167\n",
            "Epoch 30/50\n",
            "1/1 [==============================] - 0s 62ms/step - loss: 0.0835 - accuracy: 1.0000 - val_loss: 0.5876 - val_accuracy: 0.9167\n",
            "Epoch 31/50\n",
            "1/1 [==============================] - 0s 47ms/step - loss: 0.0798 - accuracy: 1.0000 - val_loss: 0.5926 - val_accuracy: 0.7500\n",
            "Epoch 32/50\n",
            "1/1 [==============================] - 0s 48ms/step - loss: 0.0769 - accuracy: 1.0000 - val_loss: 0.5944 - val_accuracy: 0.7500\n",
            "Epoch 33/50\n",
            "1/1 [==============================] - 0s 49ms/step - loss: 0.0740 - accuracy: 1.0000 - val_loss: 0.5937 - val_accuracy: 0.7500\n",
            "Epoch 34/50\n",
            "1/1 [==============================] - 0s 56ms/step - loss: 0.0710 - accuracy: 1.0000 - val_loss: 0.5922 - val_accuracy: 0.7500\n",
            "Epoch 35/50\n",
            "1/1 [==============================] - 0s 68ms/step - loss: 0.0684 - accuracy: 1.0000 - val_loss: 0.5915 - val_accuracy: 0.7500\n",
            "Epoch 36/50\n",
            "1/1 [==============================] - 0s 48ms/step - loss: 0.0659 - accuracy: 1.0000 - val_loss: 0.5949 - val_accuracy: 0.7500\n",
            "Epoch 37/50\n",
            "1/1 [==============================] - 0s 69ms/step - loss: 0.0632 - accuracy: 1.0000 - val_loss: 0.6043 - val_accuracy: 0.7500\n",
            "Epoch 38/50\n",
            "1/1 [==============================] - 0s 63ms/step - loss: 0.0603 - accuracy: 1.0000 - val_loss: 0.6165 - val_accuracy: 0.7500\n",
            "Epoch 39/50\n",
            "1/1 [==============================] - 0s 53ms/step - loss: 0.0582 - accuracy: 1.0000 - val_loss: 0.6241 - val_accuracy: 0.7500\n",
            "Epoch 40/50\n",
            "1/1 [==============================] - 0s 62ms/step - loss: 0.0561 - accuracy: 1.0000 - val_loss: 0.6270 - val_accuracy: 0.7500\n",
            "Epoch 41/50\n",
            "1/1 [==============================] - 0s 63ms/step - loss: 0.0537 - accuracy: 1.0000 - val_loss: 0.6317 - val_accuracy: 0.6667\n",
            "Epoch 42/50\n",
            "1/1 [==============================] - 0s 65ms/step - loss: 0.0514 - accuracy: 1.0000 - val_loss: 0.6401 - val_accuracy: 0.5833\n",
            "Epoch 43/50\n",
            "1/1 [==============================] - 0s 51ms/step - loss: 0.0492 - accuracy: 1.0000 - val_loss: 0.6461 - val_accuracy: 0.5833\n",
            "Epoch 44/50\n",
            "1/1 [==============================] - 0s 76ms/step - loss: 0.0472 - accuracy: 1.0000 - val_loss: 0.6531 - val_accuracy: 0.5833\n",
            "Epoch 45/50\n",
            "1/1 [==============================] - 0s 48ms/step - loss: 0.0452 - accuracy: 1.0000 - val_loss: 0.6597 - val_accuracy: 0.5833\n",
            "Epoch 46/50\n",
            "1/1 [==============================] - 0s 65ms/step - loss: 0.0439 - accuracy: 1.0000 - val_loss: 0.6632 - val_accuracy: 0.5833\n",
            "Epoch 47/50\n",
            "1/1 [==============================] - 0s 47ms/step - loss: 0.0418 - accuracy: 1.0000 - val_loss: 0.6672 - val_accuracy: 0.5833\n",
            "Epoch 48/50\n",
            "1/1 [==============================] - 0s 64ms/step - loss: 0.0400 - accuracy: 1.0000 - val_loss: 0.6752 - val_accuracy: 0.5833\n",
            "Epoch 49/50\n",
            "1/1 [==============================] - 0s 48ms/step - loss: 0.0387 - accuracy: 1.0000 - val_loss: 0.6825 - val_accuracy: 0.5000\n",
            "Epoch 50/50\n",
            "1/1 [==============================] - 0s 65ms/step - loss: 0.0374 - accuracy: 1.0000 - val_loss: 0.6873 - val_accuracy: 0.2500\n"
          ]
        }
      ]
    },
    {
      "cell_type": "code",
      "source": [
        "\n",
        "#Plotting Train Loss vs Validation Loss\n",
        "plt.plot(history1.history['loss'])\n",
        "plt.plot(history1.history['val_loss'])\n",
        "plt.title('model loss')\n",
        "plt.ylabel('Loss')\n",
        "plt.xlabel('Epoch')\n",
        "plt.legend(['train', 'validation'], loc='upper left')\n",
        "plt.show()"
      ],
      "metadata": {
        "colab": {
          "base_uri": "https://localhost:8080/",
          "height": 295
        },
        "id": "IQpfhN2iFsoz",
        "outputId": "a7f0a39d-ba15-4072-fa05-f4bbbaa901f2"
      },
      "id": "IQpfhN2iFsoz",
      "execution_count": 414,
      "outputs": [
        {
          "output_type": "display_data",
          "data": {
            "text/plain": [
              "<Figure size 432x288 with 1 Axes>"
            ],
            "image/png": "[encoded data removed]"
          },
          "metadata": {
            "needs_background": "light"
          }
        }
      ]
    },
    {
      "cell_type": "code",
      "source": [
        "from sklearn.metrics import roc_curve\n",
        "from matplotlib import pyplot\n",
        "# predict probabilities\n",
        "yhat1 = model3.predict(X_test)\n"
      ],
      "metadata": {
        "colab": {
          "base_uri": "https://localhost:8080/"
        },
        "id": "giefz08iFsrW",
        "outputId": "1fdb0efb-9459-46ad-f5d7-e3b47ecb48d5"
      },
      "id": "giefz08iFsrW",
      "execution_count": 415,
      "outputs": [
        {
          "output_type": "stream",
          "name": "stdout",
          "text": [
            "2/2 [==============================] - 0s 7ms/step\n"
          ]
        }
      ]
    },
    {
      "cell_type": "code",
      "source": [
        "# predict probabilities\n",
        "yhat1 = model3.predict(X_test)\n",
        "# keep probabilities for the positive outcome only\n",
        "yhat1 = yhat1[:, 0]\n",
        "# calculate roc curves\n",
        "fpr, tpr, thresholds1 = roc_curve(y_test, yhat1)\n",
        "# calculate the g-mean for each threshold\n",
        "gmeans1 = np.sqrt(tpr * (1-fpr))\n",
        "# locate the index of the largest g-mean\n",
        "ix = np.argmax(gmeans1)\n",
        "print('Best Threshold=%f, G-Mean=%.3f' % (thresholds1[ix], gmeans1[ix]))\n",
        "# plot the roc curve for the model\n",
        "pyplot.plot([0,1], [0,1], linestyle='--', label='No Skill')\n",
        "pyplot.plot(fpr, tpr, marker='.')\n",
        "pyplot.scatter(fpr[ix], tpr[ix], marker='o', color='black', label='Best')\n",
        "# axis labels\n",
        "pyplot.xlabel('False Positive Rate')\n",
        "pyplot.ylabel('True Positive Rate')\n",
        "pyplot.legend()\n",
        "# show the plot\n",
        "pyplot.show()"
      ],
      "metadata": {
        "colab": {
          "base_uri": "https://localhost:8080/",
          "height": 314
        },
        "id": "C2_Tqua1F4Z6",
        "outputId": "de78db99-78ed-4426-e0e6-c07aa9b9774d"
      },
      "id": "C2_Tqua1F4Z6",
      "execution_count": 416,
      "outputs": [
        {
          "output_type": "stream",
          "name": "stdout",
          "text": [
            "2/2 [==============================] - 0s 5ms/step\n",
            "Best Threshold=0.477560, G-Mean=0.845\n"
          ]
        },
        {
          "output_type": "display_data",
          "data": {
            "text/plain": [
              "<Figure size 432x288 with 1 Axes>"
            ],
            "image/png": "[encoded data removed]"
          },
          "metadata": {
            "needs_background": "light"
          }
        }
      ]
    },
    {
      "cell_type": "code",
      "source": [
        "\n",
        "#Predicting the results using best as a threshold\n",
        "y_pred_e1=model3.predict(X_test)\n",
        "y_pred_e1 = (y_pred_e1 > thresholds1[ix])\n",
        "y_pred_e1"
      ],
      "metadata": {
        "colab": {
          "base_uri": "https://localhost:8080/"
        },
        "id": "5ijlaZ6XF4cw",
        "outputId": "b1f2e218-d79e-4427-f977-6d40d625b5f4"
      },
      "id": "5ijlaZ6XF4cw",
      "execution_count": 417,
      "outputs": [
        {
          "output_type": "stream",
          "name": "stdout",
          "text": [
            "2/2 [==============================] - 0s 5ms/step\n"
          ]
        },
        {
          "output_type": "execute_result",
          "data": {
            "text/plain": [
              "array([[False],\n",
              "       [False],\n",
              "       [ True],\n",
              "       [False],\n",
              "       [False],\n",
              "       [False],\n",
              "       [False],\n",
              "       [False],\n",
              "       [False],\n",
              "       [ True],\n",
              "       [False],\n",
              "       [False],\n",
              "       [False],\n",
              "       [False],\n",
              "       [ True],\n",
              "       [ True],\n",
              "       [False],\n",
              "       [False],\n",
              "       [ True],\n",
              "       [False],\n",
              "       [ True],\n",
              "       [ True],\n",
              "       [ True],\n",
              "       [False],\n",
              "       [ True],\n",
              "       [ True],\n",
              "       [ True],\n",
              "       [ True],\n",
              "       [ True],\n",
              "       [ True],\n",
              "       [ True],\n",
              "       [ True],\n",
              "       [ True],\n",
              "       [ True],\n",
              "       [ True],\n",
              "       [ True],\n",
              "       [ True],\n",
              "       [ True],\n",
              "       [ True],\n",
              "       [ True],\n",
              "       [ True],\n",
              "       [ True]])"
            ]
          },
          "metadata": {},
          "execution_count": 417
        }
      ]
    },
    {
      "cell_type": "code",
      "source": [
        "                 \n",
        "def make_confusion_matrix(cf,\n",
        "                          group_names=None,\n",
        "                          categories='auto',\n",
        "                          count=True,\n",
        "                          percent=True,\n",
        "                          cbar=True,\n",
        "                          xyticks=True,\n",
        "                          xyplotlabels=True,\n",
        "                          sum_stats=True,\n",
        "                          figsize=None,\n",
        "                          cmap='Blues',\n",
        "                          title=None):\n",
        "    '''\n",
        "    This function will make a pretty plot of an sklearn Confusion Matrix cm using a Seaborn heatmap visualization.\n",
        "    Arguments\n",
        "    '''\n",
        "\n",
        "\n",
        "    # CODE TO GENERATE TEXT INSIDE EACH SQUARE\n",
        "    blanks = ['' for i in range(cf.size)]\n",
        "\n",
        "    if group_names and len(group_names)==cf.size:\n",
        "        group_labels = [\"{}\\n\".format(value) for value in group_names]\n",
        "    else:\n",
        "        group_labels = blanks\n",
        "\n",
        "    if count:\n",
        "        group_counts = [\"{0:0.0f}\\n\".format(value) for value in cf.flatten()]\n",
        "    else:\n",
        "        group_counts = blanks\n",
        "\n",
        "    if percent:\n",
        "        group_percentages = [\"{0:.2%}\".format(value) for value in cf.flatten()/np.sum(cf)]\n",
        "    else:\n",
        "        group_percentages = blanks\n",
        "\n",
        "    box_labels = [f\"{v1}{v2}{v3}\".strip() for v1, v2, v3 in zip(group_labels,group_counts,group_percentages)]\n",
        "    box_labels = np.asarray(box_labels).reshape(cf.shape[0],cf.shape[1])\n",
        "\n",
        "\n",
        "    # CODE TO GENERATE SUMMARY STATISTICS & TEXT FOR SUMMARY STATS\n",
        "    if sum_stats:\n",
        "        #Accuracy is sum of diagonal divided by total observations\n",
        "        accuracy  = np.trace(cf) / float(np.sum(cf))\n",
        "\n",
        "\n",
        "\n",
        "    # SET FIGURE PARAMETERS ACCORDING TO OTHER ARGUMENTS\n",
        "    if figsize==None:\n",
        "        #Get default figure size if not set\n",
        "        figsize = plt.rcParams.get('figure.figsize')\n",
        "\n",
        "    if xyticks==False:\n",
        "        #Do not show categories if xyticks is False\n",
        "        categories=False\n",
        "\n",
        "\n",
        "    # MAKE THE HEATMAP VISUALIZATION\n",
        "    plt.figure(figsize=figsize)\n",
        "    sns.heatmap(cf,annot=box_labels,fmt=\"\",cmap=cmap,cbar=cbar,xticklabels=categories,yticklabels=categories)\n",
        "\n",
        "    \n",
        "    if title:\n",
        "        plt.title(title)"
      ],
      "metadata": {
        "id": "bptjUKp3F4jH"
      },
      "id": "bptjUKp3F4jH",
      "execution_count": 418,
      "outputs": []
    },
    {
      "cell_type": "code",
      "source": [
        "\n",
        "#Calculating the confusion matrix \n",
        "from sklearn.metrics import confusion_matrix\n",
        "cm1=confusion_matrix(y_test, y_pred_e1)\n",
        "labels = ['True Positive','False Negative','False Positive','True Negative']\n",
        "categories = [ 'Not Changing Job','Changing Job']\n",
        "make_confusion_matrix(cm1, \n",
        "                      group_names=labels,\n",
        "                      categories=categories, \n",
        "                      cmap='Blues')"
      ],
      "metadata": {
        "colab": {
          "base_uri": "https://localhost:8080/",
          "height": 269
        },
        "id": "GxxxJ0LUF4qA",
        "outputId": "1f626d38-0b9a-438b-a072-a4f0f8af77af"
      },
      "id": "GxxxJ0LUF4qA",
      "execution_count": 419,
      "outputs": [
        {
          "output_type": "display_data",
          "data": {
            "text/plain": [
              "<Figure size 432x288 with 2 Axes>"
            ],
            "image/png": "[encoded data removed]"
          },
          "metadata": {
            "needs_background": "light"
          }
        }
      ]
    },
    {
      "cell_type": "code",
      "source": [
        "from sklearn import metrics\n",
        "cr=metrics.classification_report(y_test, y_pred_e1)\n",
        "print(cr)"
      ],
      "metadata": {
        "colab": {
          "base_uri": "https://localhost:8080/"
        },
        "id": "C4VGhFwJF4s3",
        "outputId": "f173358b-ce24-477e-e1da-26072d1a13ac"
      },
      "id": "C4VGhFwJF4s3",
      "execution_count": 420,
      "outputs": [
        {
          "output_type": "stream",
          "name": "stdout",
          "text": [
            "              precision    recall  f1-score   support\n",
            "\n",
            "           0       0.94      0.71      0.81        21\n",
            "           1       0.77      0.95      0.85        21\n",
            "\n",
            "    accuracy                           0.83        42\n",
            "   macro avg       0.85      0.83      0.83        42\n",
            "weighted avg       0.85      0.83      0.83        42\n",
            "\n"
          ]
        }
      ]
    },
    {
      "cell_type": "code",
      "source": [],
      "metadata": {
        "id": "s5a0ExmLFo6d"
      },
      "id": "s5a0ExmLFo6d",
      "execution_count": 244,
      "outputs": []
    },
    {
      "cell_type": "code",
      "source": [],
      "metadata": {
        "id": "zoByDIfCGEpZ"
      },
      "id": "zoByDIfCGEpZ",
      "execution_count": 244,
      "outputs": []
    },
    {
      "cell_type": "code",
      "source": [],
      "metadata": {
        "id": "R95e-Ve-GEvP"
      },
      "id": "R95e-Ve-GEvP",
      "execution_count": 154,
      "outputs": []
    },
    {
      "cell_type": "code",
      "source": [],
      "metadata": {
        "id": "sYxJe-gWGE2a"
      },
      "id": "sYxJe-gWGE2a",
      "execution_count": null,
      "outputs": []
    },
    {
      "cell_type": "markdown",
      "source": [
        "# Model 2: *The* below NN code produced 83% accuracy"
      ],
      "metadata": {
        "id": "qy8D5BHoEVsj"
      },
      "id": "qy8D5BHoEVsj"
    },
    {
      "cell_type": "code",
      "source": [
        "# backend.clear_session() to avoid cross updating\n",
        "backend.clear_session()\n",
        "#Fixing the seed for random number generators so that we can ensure we receive the same output everytime\n",
        "np.random.seed(42)\n",
        "import random\n",
        "random.seed(42)\n",
        "tf.random.set_seed(42)"
      ],
      "metadata": {
        "id": "Z-ouJZTuFW4x"
      },
      "id": "Z-ouJZTuFW4x",
      "execution_count": 64,
      "outputs": []
    },
    {
      "cell_type": "code",
      "source": [
        "model2 = Sequential()\n",
        "      #Adding the hidden and output layers\n",
        "      # he_uniform initializes uniformily - it takes number of nodes in hidden layers and then decides the wts.\n",
        "model2.add(Dense(256,activation='relu',kernel_initializer='he_uniform',input_dim = X_train.shape[1]))\n",
        "model2.add(Dense(128,activation='relu',kernel_initializer='he_uniform'))\n",
        "model2.add(Dense(64,activation='relu',kernel_initializer='he_uniform'))\n",
        "model2.add(Dense(32,activation='relu',kernel_initializer='he_uniform'))\n",
        "model2.add(Dense(1, activation = 'sigmoid'))"
      ],
      "metadata": {
        "id": "FmDvzI2KC4Kg"
      },
      "id": "FmDvzI2KC4Kg",
      "execution_count": 47,
      "outputs": []
    },
    {
      "cell_type": "code",
      "source": [
        " #Compiling the ANN with Adam optimizer and binary cross entropy loss function \n",
        "optimizer = tf.keras.optimizers.Adam(0.001)\n",
        "model2.compile(loss='binary_crossentropy',optimizer=optimizer,metrics=['accuracy'])"
      ],
      "metadata": {
        "id": "1FPLp2cPC4N-"
      },
      "id": "1FPLp2cPC4N-",
      "execution_count": 48,
      "outputs": []
    },
    {
      "cell_type": "code",
      "source": [
        "model2.summary()"
      ],
      "metadata": {
        "id": "OlNawzShC4Sa"
      },
      "id": "OlNawzShC4Sa",
      "execution_count": null,
      "outputs": []
    },
    {
      "cell_type": "code",
      "source": [
        "history1 = model2.fit(X_train,y_train,batch_size=64,epochs=50,verbose=1,validation_split = 0.2)"
      ],
      "metadata": {
        "id": "dQaVYruCC4XW"
      },
      "id": "dQaVYruCC4XW",
      "execution_count": null,
      "outputs": []
    },
    {
      "cell_type": "code",
      "source": [
        "\n",
        "#Plotting Train Loss vs Validation Loss\n",
        "plt.plot(history1.history['loss'])\n",
        "plt.plot(history1.history['val_loss'])\n",
        "plt.title('model loss')\n",
        "plt.ylabel('Loss')\n",
        "plt.xlabel('Epoch')\n",
        "plt.legend(['train', 'validation'], loc='upper left')\n",
        "plt.show()"
      ],
      "metadata": {
        "colab": {
          "base_uri": "https://localhost:8080/",
          "height": 295
        },
        "id": "ENyv-HXCDmzN",
        "outputId": "ce009499-c5d8-4736-cd18-ce402f507b0d"
      },
      "id": "ENyv-HXCDmzN",
      "execution_count": 51,
      "outputs": [
        {
          "output_type": "display_data",
          "data": {
            "text/plain": [
              "<Figure size 432x288 with 1 Axes>"
            ],
            "image/png": "[encoded data removed]"
          },
          "metadata": {
            "needs_background": "light"
          }
        }
      ]
    },
    {
      "cell_type": "code",
      "source": [
        "from sklearn.metrics import roc_curve\n",
        "from matplotlib import pyplot\n",
        "# predict probabilities\n",
        "yhat1 = model2.predict(X_test)\n"
      ],
      "metadata": {
        "colab": {
          "base_uri": "https://localhost:8080/"
        },
        "id": "T2oFdZ8rDi5k",
        "outputId": "1d9e5e81-3e9e-4e10-8510-f37d052e540a"
      },
      "id": "T2oFdZ8rDi5k",
      "execution_count": 52,
      "outputs": [
        {
          "output_type": "stream",
          "name": "stdout",
          "text": [
            "2/2 [==============================] - 0s 8ms/step\n"
          ]
        }
      ]
    },
    {
      "cell_type": "code",
      "source": [
        "# predict probabilities\n",
        "yhat1 = model2.predict(X_test)\n",
        "# keep probabilities for the positive outcome only\n",
        "yhat1 = yhat1[:, 0]\n",
        "# calculate roc curves\n",
        "fpr, tpr, thresholds1 = roc_curve(y_test, yhat1)\n",
        "# calculate the g-mean for each threshold\n",
        "gmeans1 = np.sqrt(tpr * (1-fpr))\n",
        "# locate the index of the largest g-mean\n",
        "ix = np.argmax(gmeans1)\n",
        "print('Best Threshold=%f, G-Mean=%.3f' % (thresholds1[ix], gmeans1[ix]))\n",
        "# plot the roc curve for the model\n",
        "pyplot.plot([0,1], [0,1], linestyle='--', label='No Skill')\n",
        "pyplot.plot(fpr, tpr, marker='.')\n",
        "pyplot.scatter(fpr[ix], tpr[ix], marker='o', color='black', label='Best')\n",
        "# axis labels\n",
        "pyplot.xlabel('False Positive Rate')\n",
        "pyplot.ylabel('True Positive Rate')\n",
        "pyplot.legend()\n",
        "# show the plot\n",
        "pyplot.show()"
      ],
      "metadata": {
        "colab": {
          "base_uri": "https://localhost:8080/",
          "height": 314
        },
        "id": "g4o9aIFWDwT0",
        "outputId": "ef6de1f4-1eab-4b77-9084-0bf6fca79afd"
      },
      "id": "g4o9aIFWDwT0",
      "execution_count": 57,
      "outputs": [
        {
          "output_type": "stream",
          "name": "stdout",
          "text": [
            "2/2 [==============================] - 0s 8ms/step\n",
            "Best Threshold=0.332207, G-Mean=0.856\n"
          ]
        },
        {
          "output_type": "display_data",
          "data": {
            "text/plain": [
              "<Figure size 432x288 with 1 Axes>"
            ],
            "image/png": "[encoded data removed]"
          },
          "metadata": {
            "needs_background": "light"
          }
        }
      ]
    },
    {
      "cell_type": "code",
      "source": [
        "\n",
        "#Predicting the results using best as a threshold\n",
        "y_pred_e1=model2.predict(X_test)\n",
        "y_pred_e1 = (y_pred_e1 > thresholds1[ix])\n",
        "y_pred_e1"
      ],
      "metadata": {
        "colab": {
          "base_uri": "https://localhost:8080/"
        },
        "id": "6jIk-OUCDwYw",
        "outputId": "579a3849-4442-42c4-cd1b-8b7c607edbfa"
      },
      "id": "6jIk-OUCDwYw",
      "execution_count": 58,
      "outputs": [
        {
          "output_type": "stream",
          "name": "stdout",
          "text": [
            "2/2 [==============================] - 0s 8ms/step\n"
          ]
        },
        {
          "output_type": "execute_result",
          "data": {
            "text/plain": [
              "array([[False],\n",
              "       [False],\n",
              "       [False],\n",
              "       [False],\n",
              "       [False],\n",
              "       [False],\n",
              "       [False],\n",
              "       [False],\n",
              "       [False],\n",
              "       [False],\n",
              "       [False],\n",
              "       [False],\n",
              "       [False],\n",
              "       [False],\n",
              "       [False],\n",
              "       [False],\n",
              "       [ True],\n",
              "       [ True],\n",
              "       [ True],\n",
              "       [False],\n",
              "       [ True],\n",
              "       [ True],\n",
              "       [False],\n",
              "       [ True],\n",
              "       [ True],\n",
              "       [ True],\n",
              "       [ True],\n",
              "       [False],\n",
              "       [ True],\n",
              "       [ True],\n",
              "       [ True],\n",
              "       [ True],\n",
              "       [ True],\n",
              "       [ True],\n",
              "       [ True],\n",
              "       [ True],\n",
              "       [ True],\n",
              "       [ True],\n",
              "       [False],\n",
              "       [ True],\n",
              "       [ True],\n",
              "       [ True]])"
            ]
          },
          "metadata": {},
          "execution_count": 58
        }
      ]
    },
    {
      "cell_type": "code",
      "source": [
        "                 \n",
        "def make_confusion_matrix(cf,\n",
        "                          group_names=None,\n",
        "                          categories='auto',\n",
        "                          count=True,\n",
        "                          percent=True,\n",
        "                          cbar=True,\n",
        "                          xyticks=True,\n",
        "                          xyplotlabels=True,\n",
        "                          sum_stats=True,\n",
        "                          figsize=None,\n",
        "                          cmap='Blues',\n",
        "                          title=None):\n",
        "    '''\n",
        "    This function will make a pretty plot of an sklearn Confusion Matrix cm using a Seaborn heatmap visualization.\n",
        "    Arguments\n",
        "    '''\n",
        "\n",
        "\n",
        "    # CODE TO GENERATE TEXT INSIDE EACH SQUARE\n",
        "    blanks = ['' for i in range(cf.size)]\n",
        "\n",
        "    if group_names and len(group_names)==cf.size:\n",
        "        group_labels = [\"{}\\n\".format(value) for value in group_names]\n",
        "    else:\n",
        "        group_labels = blanks\n",
        "\n",
        "    if count:\n",
        "        group_counts = [\"{0:0.0f}\\n\".format(value) for value in cf.flatten()]\n",
        "    else:\n",
        "        group_counts = blanks\n",
        "\n",
        "    if percent:\n",
        "        group_percentages = [\"{0:.2%}\".format(value) for value in cf.flatten()/np.sum(cf)]\n",
        "    else:\n",
        "        group_percentages = blanks\n",
        "\n",
        "    box_labels = [f\"{v1}{v2}{v3}\".strip() for v1, v2, v3 in zip(group_labels,group_counts,group_percentages)]\n",
        "    box_labels = np.asarray(box_labels).reshape(cf.shape[0],cf.shape[1])\n",
        "\n",
        "\n",
        "    # CODE TO GENERATE SUMMARY STATISTICS & TEXT FOR SUMMARY STATS\n",
        "    if sum_stats:\n",
        "        #Accuracy is sum of diagonal divided by total observations\n",
        "        accuracy  = np.trace(cf) / float(np.sum(cf))\n",
        "\n",
        "\n",
        "\n",
        "    # SET FIGURE PARAMETERS ACCORDING TO OTHER ARGUMENTS\n",
        "    if figsize==None:\n",
        "        #Get default figure size if not set\n",
        "        figsize = plt.rcParams.get('figure.figsize')\n",
        "\n",
        "    if xyticks==False:\n",
        "        #Do not show categories if xyticks is False\n",
        "        categories=False\n",
        "\n",
        "\n",
        "    # MAKE THE HEATMAP VISUALIZATION\n",
        "    plt.figure(figsize=figsize)\n",
        "    sns.heatmap(cf,annot=box_labels,fmt=\"\",cmap=cmap,cbar=cbar,xticklabels=categories,yticklabels=categories)\n",
        "\n",
        "    \n",
        "    if title:\n",
        "        plt.title(title)"
      ],
      "metadata": {
        "id": "BWmt67mNEN8c"
      },
      "id": "BWmt67mNEN8c",
      "execution_count": 60,
      "outputs": []
    },
    {
      "cell_type": "code",
      "source": [
        "\n",
        "#Calculating the confusion matrix \n",
        "from sklearn.metrics import confusion_matrix\n",
        "cm1=confusion_matrix(y_test, y_pred_e1)\n",
        "labels = ['True Positive','False Negative','False Positive','True Negative']\n",
        "categories = [ 'Not Changing Job','Changing Job']\n",
        "make_confusion_matrix(cm1, \n",
        "                      group_names=labels,\n",
        "                      categories=categories, \n",
        "                      cmap='Blues')"
      ],
      "metadata": {
        "colab": {
          "base_uri": "https://localhost:8080/",
          "height": 269
        },
        "id": "QJfRd4cnD7hz",
        "outputId": "76f37ecc-f480-4445-c6f2-5bc9488ecca9"
      },
      "id": "QJfRd4cnD7hz",
      "execution_count": 61,
      "outputs": [
        {
          "output_type": "display_data",
          "data": {
            "text/plain": [
              "<Figure size 432x288 with 2 Axes>"
            ],
            "image/png": "[encoded data removed]"
          },
          "metadata": {
            "needs_background": "light"
          }
        }
      ]
    },
    {
      "cell_type": "code",
      "source": [
        "from sklearn import metrics\n",
        "cr=metrics.classification_report(y_test, y_pred_e1)\n",
        "print(cr)"
      ],
      "metadata": {
        "colab": {
          "base_uri": "https://localhost:8080/"
        },
        "id": "1YHUcnmuD7kz",
        "outputId": "bc1576b6-8a49-46ce-e362-901a3214e321"
      },
      "id": "1YHUcnmuD7kz",
      "execution_count": 63,
      "outputs": [
        {
          "output_type": "stream",
          "name": "stdout",
          "text": [
            "              precision    recall  f1-score   support\n",
            "\n",
            "           0       0.85      0.81      0.83        21\n",
            "           1       0.82      0.86      0.84        21\n",
            "\n",
            "    accuracy                           0.83        42\n",
            "   macro avg       0.83      0.83      0.83        42\n",
            "weighted avg       0.83      0.83      0.83        42\n",
            "\n"
          ]
        }
      ]
    },
    {
      "cell_type": "code",
      "source": [],
      "metadata": {
        "id": "Ovj9rUmGEeQS"
      },
      "id": "Ovj9rUmGEeQS",
      "execution_count": null,
      "outputs": []
    },
    {
      "cell_type": "code",
      "source": [],
      "metadata": {
        "id": "W1xcDt4-EeTL"
      },
      "id": "W1xcDt4-EeTL",
      "execution_count": null,
      "outputs": []
    },
    {
      "cell_type": "code",
      "source": [],
      "metadata": {
        "id": "P1213WdgD7nj"
      },
      "id": "P1213WdgD7nj",
      "execution_count": null,
      "outputs": []
    },
    {
      "cell_type": "markdown",
      "source": [
        "# Model 1 The below basic MLP produced 50% accuracy"
      ],
      "metadata": {
        "id": "HN7HPvz4DFCn"
      },
      "id": "HN7HPvz4DFCn"
    },
    {
      "cell_type": "code",
      "source": [
        "backend.clear_session()\n",
        "#Fixing the seed for random number generators so that we can ensure we receive the same output everytime\n",
        "np.random.seed(42)\n",
        "import random\n",
        "random.seed(42)\n",
        "tf.random.set_seed(42)"
      ],
      "metadata": {
        "id": "X9hli3OeFcTy"
      },
      "id": "X9hli3OeFcTy",
      "execution_count": 65,
      "outputs": []
    },
    {
      "cell_type": "code",
      "source": [
        "# Initializing the ANN\n",
        "model = Sequential()\n",
        "# The amount of nodes (dimensions) in hidden layer should be the average of input and output layers, in this case 64.\n",
        "# This adds the input layer (by specifying input dimension) AND the first hidden layer (units)\n",
        "\n",
        "# input_dim = 5 if 5 channels\n",
        "\n",
        "model.add(Dense(activation = 'relu', input_dim = 4, units=64))\n",
        "#Add 1st hidden layer\n",
        "model.add(Dense(32, activation='relu'))\n",
        "# Adding the output layer\n",
        "# Notice that we do not need to specify input dim."
      ],
      "metadata": {
        "id": "xGdFHAIO-Zdq"
      },
      "id": "xGdFHAIO-Zdq",
      "execution_count": 38,
      "outputs": []
    },
    {
      "cell_type": "code",
      "source": [
        "# Adding the output layer\n",
        "# Notice that we do not need to specify input dim. \n",
        "# we have an output of 1 node, which is the the desired dimensions of our output (stay with the bank or not)\n",
        "# We use the sigmoid because we want probability outcomes\n",
        "model.add(Dense(1, activation = 'sigmoid'))"
      ],
      "metadata": {
        "id": "Kriod-O3-Zgd"
      },
      "id": "Kriod-O3-Zgd",
      "execution_count": 39,
      "outputs": []
    },
    {
      "cell_type": "code",
      "source": [
        "# Create optimizer with default learning rate\n",
        "# Compile the model\n",
        "model.compile(optimizer='SGD', loss='binary_crossentropy', metrics=['accuracy'])"
      ],
      "metadata": {
        "id": "bH3xNWpn-Zjk"
      },
      "id": "bH3xNWpn-Zjk",
      "execution_count": 40,
      "outputs": []
    },
    {
      "cell_type": "code",
      "source": [
        "model.summary()"
      ],
      "metadata": {
        "colab": {
          "base_uri": "https://localhost:8080/"
        },
        "id": "sYCr3aX6-Zmd",
        "outputId": "4b0c67ed-7622-49c3-dcd4-a612e18820cb"
      },
      "id": "sYCr3aX6-Zmd",
      "execution_count": 41,
      "outputs": [
        {
          "output_type": "stream",
          "name": "stdout",
          "text": [
            "Model: \"sequential\"\n",
            "_________________________________________________________________\n",
            " Layer (type)                Output Shape              Param #   \n",
            "=================================================================\n",
            " dense (Dense)               (None, 64)                320       \n",
            "                                                                 \n",
            " dense_1 (Dense)             (None, 32)                2080      \n",
            "                                                                 \n",
            " dense_2 (Dense)             (None, 1)                 33        \n",
            "                                                                 \n",
            "=================================================================\n",
            "Total params: 2,433\n",
            "Trainable params: 2,433\n",
            "Non-trainable params: 0\n",
            "_________________________________________________________________\n"
          ]
        }
      ]
    },
    {
      "cell_type": "code",
      "source": [],
      "metadata": {
        "id": "utOpHGdNBmup"
      },
      "id": "utOpHGdNBmup",
      "execution_count": null,
      "outputs": []
    },
    {
      "cell_type": "code",
      "source": [
        "# print(X_train.shape)\n",
        "# print(X_test.shape)\n",
        "# print(y_train.shape)\n",
        "# print(y_test.shape)\n",
        "\n",
        "history=model.fit(X_train, y_train,           \n",
        "          validation_split=0.2,\n",
        "          epochs=50,\n",
        "          batch_size=32,verbose=1)\n",
        "# Capturing learning history per epoch\n",
        "hist  = pd.DataFrame(history.history)\n",
        "hist['epoch'] = history.epoch\n",
        "\n",
        "y_pred=model.predict(X_test)\n",
        "y_pred = (y_pred > 0.5)\n",
        "y_pred\n",
        "\n",
        "# Plotting accuracy at different epochs\n",
        "plt.plot(hist['loss'])\n",
        "plt.plot(hist['val_loss'])\n",
        "plt.legend((\"train\" , \"valid\") , loc =0)\n",
        "\n",
        "#Printing results\n",
        "results = model.evaluate(X_test, y_test)\n",
        "from sklearn.metrics import confusion_matrix\n",
        "cm=confusion_matrix(y_test, y_pred)"
      ],
      "metadata": {
        "colab": {
          "base_uri": "https://localhost:8080/",
          "height": 1000
        },
        "id": "VYF7-OIO-ZpP",
        "outputId": "b1e4c978-e640-4d64-eeed-351d669a2e5a"
      },
      "id": "VYF7-OIO-ZpP",
      "execution_count": 43,
      "outputs": [
        {
          "output_type": "stream",
          "name": "stdout",
          "text": [
            "Epoch 1/50\n",
            "2/2 [==============================] - 0s 86ms/step - loss: 0.6281 - accuracy: 0.6364 - val_loss: 0.8234 - val_accuracy: 0.0000e+00\n",
            "Epoch 2/50\n",
            "2/2 [==============================] - 0s 41ms/step - loss: 0.6274 - accuracy: 0.6364 - val_loss: 0.8263 - val_accuracy: 0.0000e+00\n",
            "Epoch 3/50\n",
            "2/2 [==============================] - 0s 43ms/step - loss: 0.6265 - accuracy: 0.6364 - val_loss: 0.8265 - val_accuracy: 0.0000e+00\n",
            "Epoch 4/50\n",
            "2/2 [==============================] - 0s 39ms/step - loss: 0.6257 - accuracy: 0.6364 - val_loss: 0.8281 - val_accuracy: 0.0000e+00\n",
            "Epoch 5/50\n",
            "2/2 [==============================] - 0s 36ms/step - loss: 0.6251 - accuracy: 0.6364 - val_loss: 0.8279 - val_accuracy: 0.0000e+00\n",
            "Epoch 6/50\n",
            "2/2 [==============================] - 0s 34ms/step - loss: 0.6249 - accuracy: 0.6364 - val_loss: 0.8266 - val_accuracy: 0.0000e+00\n",
            "Epoch 7/50\n",
            "2/2 [==============================] - 0s 38ms/step - loss: 0.6243 - accuracy: 0.6364 - val_loss: 0.8302 - val_accuracy: 0.0000e+00\n",
            "Epoch 8/50\n",
            "2/2 [==============================] - 0s 40ms/step - loss: 0.6235 - accuracy: 0.6364 - val_loss: 0.8322 - val_accuracy: 0.0000e+00\n",
            "Epoch 9/50\n",
            "2/2 [==============================] - 0s 37ms/step - loss: 0.6229 - accuracy: 0.6364 - val_loss: 0.8330 - val_accuracy: 0.0000e+00\n",
            "Epoch 10/50\n",
            "2/2 [==============================] - 0s 38ms/step - loss: 0.6224 - accuracy: 0.6364 - val_loss: 0.8361 - val_accuracy: 0.0000e+00\n",
            "Epoch 11/50\n",
            "2/2 [==============================] - 0s 42ms/step - loss: 0.6216 - accuracy: 0.6364 - val_loss: 0.8377 - val_accuracy: 0.0000e+00\n",
            "Epoch 12/50\n",
            "2/2 [==============================] - 0s 54ms/step - loss: 0.6211 - accuracy: 0.6364 - val_loss: 0.8396 - val_accuracy: 0.0000e+00\n",
            "Epoch 13/50\n",
            "2/2 [==============================] - 0s 42ms/step - loss: 0.6204 - accuracy: 0.6364 - val_loss: 0.8398 - val_accuracy: 0.0000e+00\n",
            "Epoch 14/50\n",
            "2/2 [==============================] - 0s 37ms/step - loss: 0.6198 - accuracy: 0.6364 - val_loss: 0.8398 - val_accuracy: 0.0000e+00\n",
            "Epoch 15/50\n",
            "2/2 [==============================] - 0s 38ms/step - loss: 0.6193 - accuracy: 0.6364 - val_loss: 0.8413 - val_accuracy: 0.0000e+00\n",
            "Epoch 16/50\n",
            "2/2 [==============================] - 0s 55ms/step - loss: 0.6188 - accuracy: 0.6364 - val_loss: 0.8426 - val_accuracy: 0.0000e+00\n",
            "Epoch 17/50\n",
            "2/2 [==============================] - 0s 37ms/step - loss: 0.6183 - accuracy: 0.6364 - val_loss: 0.8442 - val_accuracy: 0.0000e+00\n",
            "Epoch 18/50\n",
            "2/2 [==============================] - 0s 36ms/step - loss: 0.6178 - accuracy: 0.6364 - val_loss: 0.8473 - val_accuracy: 0.0000e+00\n",
            "Epoch 19/50\n",
            "2/2 [==============================] - 0s 47ms/step - loss: 0.6171 - accuracy: 0.6364 - val_loss: 0.8483 - val_accuracy: 0.0000e+00\n",
            "Epoch 20/50\n",
            "2/2 [==============================] - 0s 54ms/step - loss: 0.6167 - accuracy: 0.6364 - val_loss: 0.8473 - val_accuracy: 0.0000e+00\n",
            "Epoch 21/50\n",
            "2/2 [==============================] - 0s 44ms/step - loss: 0.6162 - accuracy: 0.6364 - val_loss: 0.8474 - val_accuracy: 0.0000e+00\n",
            "Epoch 22/50\n",
            "2/2 [==============================] - 0s 55ms/step - loss: 0.6157 - accuracy: 0.6364 - val_loss: 0.8497 - val_accuracy: 0.0000e+00\n",
            "Epoch 23/50\n",
            "2/2 [==============================] - 0s 41ms/step - loss: 0.6152 - accuracy: 0.6364 - val_loss: 0.8519 - val_accuracy: 0.0000e+00\n",
            "Epoch 24/50\n",
            "2/2 [==============================] - 0s 41ms/step - loss: 0.6146 - accuracy: 0.6364 - val_loss: 0.8534 - val_accuracy: 0.0000e+00\n",
            "Epoch 25/50\n",
            "2/2 [==============================] - 0s 58ms/step - loss: 0.6142 - accuracy: 0.6364 - val_loss: 0.8526 - val_accuracy: 0.0000e+00\n",
            "Epoch 26/50\n",
            "2/2 [==============================] - 0s 36ms/step - loss: 0.6137 - accuracy: 0.6364 - val_loss: 0.8537 - val_accuracy: 0.0000e+00\n",
            "Epoch 27/50\n",
            "2/2 [==============================] - 0s 49ms/step - loss: 0.6133 - accuracy: 0.6364 - val_loss: 0.8534 - val_accuracy: 0.0000e+00\n",
            "Epoch 28/50\n",
            "2/2 [==============================] - 0s 55ms/step - loss: 0.6129 - accuracy: 0.6364 - val_loss: 0.8541 - val_accuracy: 0.0000e+00\n",
            "Epoch 29/50\n",
            "2/2 [==============================] - 0s 60ms/step - loss: 0.6125 - accuracy: 0.6364 - val_loss: 0.8553 - val_accuracy: 0.0000e+00\n",
            "Epoch 30/50\n",
            "2/2 [==============================] - 0s 36ms/step - loss: 0.6122 - accuracy: 0.6364 - val_loss: 0.8539 - val_accuracy: 0.0000e+00\n",
            "Epoch 31/50\n",
            "2/2 [==============================] - 0s 38ms/step - loss: 0.6118 - accuracy: 0.6364 - val_loss: 0.8550 - val_accuracy: 0.0000e+00\n",
            "Epoch 32/50\n",
            "2/2 [==============================] - 0s 55ms/step - loss: 0.6114 - accuracy: 0.6364 - val_loss: 0.8568 - val_accuracy: 0.0000e+00\n",
            "Epoch 33/50\n",
            "2/2 [==============================] - 0s 44ms/step - loss: 0.6110 - accuracy: 0.6364 - val_loss: 0.8570 - val_accuracy: 0.0000e+00\n",
            "Epoch 34/50\n",
            "2/2 [==============================] - 0s 57ms/step - loss: 0.6106 - accuracy: 0.6364 - val_loss: 0.8571 - val_accuracy: 0.0000e+00\n",
            "Epoch 35/50\n",
            "2/2 [==============================] - 0s 44ms/step - loss: 0.6103 - accuracy: 0.6364 - val_loss: 0.8596 - val_accuracy: 0.0000e+00\n",
            "Epoch 36/50\n",
            "2/2 [==============================] - 0s 38ms/step - loss: 0.6097 - accuracy: 0.6364 - val_loss: 0.8606 - val_accuracy: 0.0000e+00\n",
            "Epoch 37/50\n",
            "2/2 [==============================] - 0s 41ms/step - loss: 0.6093 - accuracy: 0.6364 - val_loss: 0.8606 - val_accuracy: 0.0000e+00\n",
            "Epoch 38/50\n",
            "2/2 [==============================] - 0s 55ms/step - loss: 0.6090 - accuracy: 0.6364 - val_loss: 0.8607 - val_accuracy: 0.0000e+00\n",
            "Epoch 39/50\n",
            "2/2 [==============================] - 0s 59ms/step - loss: 0.6086 - accuracy: 0.6364 - val_loss: 0.8609 - val_accuracy: 0.0000e+00\n",
            "Epoch 40/50\n",
            "2/2 [==============================] - 0s 54ms/step - loss: 0.6082 - accuracy: 0.6364 - val_loss: 0.8627 - val_accuracy: 0.0000e+00\n",
            "Epoch 41/50\n",
            "2/2 [==============================] - 0s 49ms/step - loss: 0.6078 - accuracy: 0.6364 - val_loss: 0.8633 - val_accuracy: 0.0000e+00\n",
            "Epoch 42/50\n",
            "2/2 [==============================] - 0s 38ms/step - loss: 0.6075 - accuracy: 0.6364 - val_loss: 0.8645 - val_accuracy: 0.0000e+00\n",
            "Epoch 43/50\n",
            "2/2 [==============================] - 0s 41ms/step - loss: 0.6071 - accuracy: 0.6364 - val_loss: 0.8640 - val_accuracy: 0.0000e+00\n",
            "Epoch 44/50\n",
            "2/2 [==============================] - 0s 42ms/step - loss: 0.6067 - accuracy: 0.6364 - val_loss: 0.8640 - val_accuracy: 0.0000e+00\n",
            "Epoch 45/50\n",
            "2/2 [==============================] - 0s 59ms/step - loss: 0.6063 - accuracy: 0.6364 - val_loss: 0.8643 - val_accuracy: 0.0000e+00\n",
            "Epoch 46/50\n",
            "2/2 [==============================] - 0s 56ms/step - loss: 0.6060 - accuracy: 0.6364 - val_loss: 0.8651 - val_accuracy: 0.0000e+00\n",
            "Epoch 47/50\n",
            "2/2 [==============================] - 0s 39ms/step - loss: 0.6056 - accuracy: 0.6364 - val_loss: 0.8663 - val_accuracy: 0.0000e+00\n",
            "Epoch 48/50\n",
            "2/2 [==============================] - 0s 38ms/step - loss: 0.6054 - accuracy: 0.6364 - val_loss: 0.8645 - val_accuracy: 0.0000e+00\n",
            "Epoch 49/50\n",
            "2/2 [==============================] - 0s 40ms/step - loss: 0.6050 - accuracy: 0.6364 - val_loss: 0.8663 - val_accuracy: 0.0000e+00\n",
            "Epoch 50/50\n",
            "2/2 [==============================] - 0s 55ms/step - loss: 0.6046 - accuracy: 0.6364 - val_loss: 0.8674 - val_accuracy: 0.0000e+00\n",
            "2/2 [==============================] - 0s 5ms/step\n",
            "2/2 [==============================] - 0s 9ms/step - loss: 0.6456 - accuracy: 0.5000\n"
          ]
        },
        {
          "output_type": "display_data",
          "data": {
            "text/plain": [
              "<Figure size 432x288 with 1 Axes>"
            ],
            "image/png": "[encoded data removed]"
          },
          "metadata": {
            "needs_background": "light"
          }
        }
      ]
    },
    {
      "cell_type": "code",
      "source": [
        "# print(model.predict(X_test))"
      ],
      "metadata": {
        "id": "hnO23w5E-Zr_"
      },
      "id": "hnO23w5E-Zr_",
      "execution_count": null,
      "outputs": []
    },
    {
      "cell_type": "code",
      "source": [
        "print(cm)"
      ],
      "metadata": {
        "colab": {
          "base_uri": "https://localhost:8080/"
        },
        "id": "jIsfJz2s-Zwq",
        "outputId": "125693f8-1767-49c6-cb10-d86fcfa88a1a"
      },
      "id": "jIsfJz2s-Zwq",
      "execution_count": 46,
      "outputs": [
        {
          "output_type": "stream",
          "name": "stdout",
          "text": [
            "[[21  0]\n",
            " [21  0]]\n"
          ]
        }
      ]
    },
    {
      "cell_type": "code",
      "source": [],
      "metadata": {
        "id": "WXvfclWo-Zz1"
      },
      "id": "WXvfclWo-Zz1",
      "execution_count": null,
      "outputs": []
    },
    {
      "cell_type": "code",
      "source": [],
      "metadata": {
        "id": "40ftasI9CxYn"
      },
      "id": "40ftasI9CxYn",
      "execution_count": null,
      "outputs": []
    },
    {
      "cell_type": "code",
      "source": [],
      "metadata": {
        "id": "oEq5kLYHCxcM"
      },
      "id": "oEq5kLYHCxcM",
      "execution_count": null,
      "outputs": []
    },
    {
      "cell_type": "code",
      "source": [],
      "metadata": {
        "id": "Ih74jgN8Cxfu"
      },
      "id": "Ih74jgN8Cxfu",
      "execution_count": null,
      "outputs": []
    },
    {
      "cell_type": "code",
      "source": [],
      "metadata": {
        "id": "QVffyklqCx2l"
      },
      "id": "QVffyklqCx2l",
      "execution_count": null,
      "outputs": []
    },
    {
      "cell_type": "code",
      "source": [],
      "metadata": {
        "id": "MnA_jsbpCx5s"
      },
      "id": "MnA_jsbpCx5s",
      "execution_count": null,
      "outputs": []
    },
    {
      "cell_type": "code",
      "source": [],
      "metadata": {
        "id": "3ZCAo9za-Z39"
      },
      "id": "3ZCAo9za-Z39",
      "execution_count": null,
      "outputs": []
    },
    {
      "cell_type": "markdown",
      "id": "d353e7f8",
      "metadata": {
        "id": "d353e7f8"
      },
      "source": [
        "# DecisionTreeClassifier"
      ]
    },
    {
      "cell_type": "code",
      "execution_count": null,
      "id": "e9d6ed52",
      "metadata": {
        "colab": {
          "base_uri": "https://localhost:8080/"
        },
        "id": "e9d6ed52",
        "outputId": "fdc4cacb-2cc3-42dd-f4b8-05b1ddeb6fd4"
      },
      "outputs": [
        {
          "output_type": "stream",
          "name": "stdout",
          "text": [
            "              precision    recall  f1-score   support\n",
            "\n",
            "           0       1.00      1.00      1.00        21\n",
            "           1       1.00      1.00      1.00        21\n",
            "\n",
            "    accuracy                           1.00        42\n",
            "   macro avg       1.00      1.00      1.00        42\n",
            "weighted avg       1.00      1.00      1.00        42\n",
            "\n",
            "Accuracy  1.0\n"
          ]
        }
      ],
      "source": [
        "from sklearn.tree import DecisionTreeClassifier\n",
        "classifier = DecisionTreeClassifier(criterion = 'entropy', random_state = 42)\n",
        "classifier.fit(X_train, y_train)\n",
        "y_pred = classifier.predict(X_test)\n",
        "dt_acc = accuracy_score(y_test,y_pred)\n",
        "print(classification_report(y_test,y_pred))\n",
        "print('Accuracy ', np.round(dt_acc,2))"
      ]
    },
    {
      "cell_type": "code",
      "source": [
        "# # DT New\n",
        "# from sklearn.tree import DecisionTreeClassifier\n",
        "# classifier = DecisionTreeClassifier(criterion = 'entropy', random_state = 42)\n",
        "# classifier.fit(X_train, y_train)\n",
        "# y_pred = classifier.predict(X_trainNew)\n",
        "# dt_acc = accuracy_score(Y_testNew,y_pred)\n",
        "# print(classification_report(Y_testNew,y_pred))\n",
        "# print('Accuracy ', np.round(dt_acc,2))"
      ],
      "metadata": {
        "id": "b2yB07zY-qcU"
      },
      "id": "b2yB07zY-qcU",
      "execution_count": null,
      "outputs": []
    },
    {
      "cell_type": "code",
      "source": [
        "# pip install scikit"
      ],
      "metadata": {
        "id": "P_-OQGeo7b_o"
      },
      "id": "P_-OQGeo7b_o",
      "execution_count": null,
      "outputs": []
    },
    {
      "cell_type": "markdown",
      "source": [
        "##LightBGM"
      ],
      "metadata": {
        "id": "Q-mW8niuLeQn"
      },
      "id": "Q-mW8niuLeQn"
    },
    {
      "cell_type": "code",
      "source": [
        "from lightgbm import LGBMClassifier\n",
        "classifier = LGBMClassifier(random_state=5)\n",
        "classifier.fit(X_train, y_train)\n",
        "y_pred = classifier.predict(X_test)\n",
        "lightgbm_acc = accuracy_score(y_test,y_pred)\n",
        "print(classification_report(y_test,y_pred))"
      ],
      "metadata": {
        "colab": {
          "base_uri": "https://localhost:8080/"
        },
        "id": "aT5ZU2Z4LOXa",
        "outputId": "ced78c1b-ea23-461f-a17e-cf283da8efe3"
      },
      "id": "aT5ZU2Z4LOXa",
      "execution_count": null,
      "outputs": [
        {
          "output_type": "stream",
          "name": "stdout",
          "text": [
            "              precision    recall  f1-score   support\n",
            "\n",
            "           0       0.78      0.86      0.82        21\n",
            "           1       0.84      0.76      0.80        21\n",
            "\n",
            "    accuracy                           0.81        42\n",
            "   macro avg       0.81      0.81      0.81        42\n",
            "weighted avg       0.81      0.81      0.81        42\n",
            "\n"
          ]
        }
      ]
    },
    {
      "cell_type": "code",
      "source": [
        "# from sklearn.metrics import plot_confusion_matrix\n",
        "# plot_confusion_matrix(classifier, X_test, y_test)  \n",
        "# plt.show()"
      ],
      "metadata": {
        "id": "dq4hH5txpoOV"
      },
      "id": "dq4hH5txpoOV",
      "execution_count": null,
      "outputs": []
    },
    {
      "cell_type": "markdown",
      "source": [
        "## Logistic Regression"
      ],
      "metadata": {
        "id": "SuGubX964q7n"
      },
      "id": "SuGubX964q7n"
    },
    {
      "cell_type": "code",
      "source": [
        "from sklearn.linear_model import LogisticRegression\n",
        "classifier = LogisticRegression(random_state = 0)\n",
        "classifier.fit(X_train, y_train)\n",
        "y_pred = classifier.predict(X_test)\n",
        "lg_acc = accuracy_score(y_test,y_pred)\n",
        "print('Accuracy ', np.round(lg_acc,2))\n",
        "print(classification_report(y_test,y_pred))"
      ],
      "metadata": {
        "colab": {
          "base_uri": "https://localhost:8080/"
        },
        "id": "_DsJJnEh4pph",
        "outputId": "ec040b16-c8ae-467b-a44d-747333563be4"
      },
      "id": "_DsJJnEh4pph",
      "execution_count": null,
      "outputs": [
        {
          "output_type": "stream",
          "name": "stdout",
          "text": [
            "Accuracy  0.79\n",
            "              precision    recall  f1-score   support\n",
            "\n",
            "           0       1.00      0.57      0.73        21\n",
            "           1       0.70      1.00      0.82        21\n",
            "\n",
            "    accuracy                           0.79        42\n",
            "   macro avg       0.85      0.79      0.78        42\n",
            "weighted avg       0.85      0.79      0.78        42\n",
            "\n"
          ]
        }
      ]
    },
    {
      "cell_type": "code",
      "source": [
        "y_pred = classifier.predict_proba(X_test)\n"
      ],
      "metadata": {
        "id": "SxnHdjrwIOPP"
      },
      "id": "SxnHdjrwIOPP",
      "execution_count": null,
      "outputs": []
    },
    {
      "cell_type": "code",
      "source": [
        "y_pred\n",
        "# 0.49727592% chNCW FOCUSED"
      ],
      "metadata": {
        "colab": {
          "base_uri": "https://localhost:8080/"
        },
        "id": "xsvfrqucIOro",
        "outputId": "a868871e-1739-4fa3-f861-d06e1d280be7"
      },
      "id": "xsvfrqucIOro",
      "execution_count": null,
      "outputs": [
        {
          "output_type": "execute_result",
          "data": {
            "text/plain": [
              "array([[0.96928132, 0.03071868],\n",
              "       [0.54078192, 0.45921808],\n",
              "       [0.41455677, 0.58544323],\n",
              "       [0.97629574, 0.02370426],\n",
              "       [0.99749282, 0.00250718],\n",
              "       [0.63207625, 0.36792375],\n",
              "       [0.68573132, 0.31426868],\n",
              "       [0.96928132, 0.03071868],\n",
              "       [0.54078192, 0.45921808],\n",
              "       [0.41455677, 0.58544323],\n",
              "       [0.97629574, 0.02370426],\n",
              "       [0.99749282, 0.00250718],\n",
              "       [0.63207625, 0.36792375],\n",
              "       [0.68573132, 0.31426868],\n",
              "       [0.43172893, 0.56827107],\n",
              "       [0.45303834, 0.54696166],\n",
              "       [0.4308406 , 0.5691594 ],\n",
              "       [0.46627044, 0.53372956],\n",
              "       [0.43449247, 0.56550753],\n",
              "       [0.47654353, 0.52345647],\n",
              "       [0.41776372, 0.58223628],\n",
              "       [0.37604324, 0.62395676],\n",
              "       [0.38393478, 0.61606522],\n",
              "       [0.41136552, 0.58863448],\n",
              "       [0.4080636 , 0.5919364 ],\n",
              "       [0.4018691 , 0.5981309 ],\n",
              "       [0.44177338, 0.55822662],\n",
              "       [0.40373715, 0.59626285],\n",
              "       [0.36948711, 0.63051289],\n",
              "       [0.42502141, 0.57497859],\n",
              "       [0.39721676, 0.60278324],\n",
              "       [0.33372221, 0.66627779],\n",
              "       [0.34667024, 0.65332976],\n",
              "       [0.44385478, 0.55614522],\n",
              "       [0.43385549, 0.56614451],\n",
              "       [0.4413971 , 0.5586029 ],\n",
              "       [0.43036225, 0.56963775],\n",
              "       [0.40522808, 0.59477192],\n",
              "       [0.4417599 , 0.5582401 ],\n",
              "       [0.4295169 , 0.5704831 ],\n",
              "       [0.4457026 , 0.5542974 ],\n",
              "       [0.42770415, 0.57229585]])"
            ]
          },
          "metadata": {},
          "execution_count": 86
        }
      ]
    },
    {
      "cell_type": "code",
      "source": [],
      "metadata": {
        "id": "XFlCpf74IOxm"
      },
      "id": "XFlCpf74IOxm",
      "execution_count": null,
      "outputs": []
    },
    {
      "cell_type": "code",
      "source": [
        "# from sklearn.metrics import plot_confusion_matrix\n",
        "# plot_confusion_matrix(classifier, X_test, y_test)  \n",
        "# plt.show()"
      ],
      "metadata": {
        "id": "CEqd_kvWpkVX"
      },
      "id": "CEqd_kvWpkVX",
      "execution_count": null,
      "outputs": []
    },
    {
      "cell_type": "code",
      "source": [
        "# print(confusion_matrix(y_test,y_pred))"
      ],
      "metadata": {
        "id": "JwbNVsIZqU1H"
      },
      "id": "JwbNVsIZqU1H",
      "execution_count": null,
      "outputs": []
    },
    {
      "cell_type": "code",
      "source": [
        "# from sklearn.metrics import plot_confusion_matrix\n",
        "# plot_confusion_matrix(classifier, X_test, y_test)  \n",
        "# plt.show()"
      ],
      "metadata": {
        "id": "Q-GQHLktrfwq"
      },
      "id": "Q-GQHLktrfwq",
      "execution_count": null,
      "outputs": []
    },
    {
      "cell_type": "markdown",
      "source": [
        "## KNN"
      ],
      "metadata": {
        "id": "OuCXiwKWj1PI"
      },
      "id": "OuCXiwKWj1PI"
    },
    {
      "cell_type": "code",
      "source": [
        "from sklearn.neighbors import KNeighborsClassifier\n",
        "import math\n",
        "k=math.sqrt(60)\n",
        "classifier = KNeighborsClassifier(n_neighbors=8)\n",
        "classifier.fit(X_train, y_train)\n",
        "y_pred = classifier.predict(X_test)\n",
        "knn_acc = accuracy_score(y_test,y_pred)\n",
        "print('Accuracy ', np.round(knn_acc,2))\n",
        "print(classification_report(y_test,y_pred))"
      ],
      "metadata": {
        "id": "00uXRU9bjva4",
        "colab": {
          "base_uri": "https://localhost:8080/"
        },
        "outputId": "ab2f454d-1d6e-459b-a149-6980e2ff9459"
      },
      "id": "00uXRU9bjva4",
      "execution_count": null,
      "outputs": [
        {
          "output_type": "stream",
          "name": "stdout",
          "text": [
            "Accuracy  0.74\n",
            "              precision    recall  f1-score   support\n",
            "\n",
            "           0       0.73      0.76      0.74        21\n",
            "           1       0.75      0.71      0.73        21\n",
            "\n",
            "    accuracy                           0.74        42\n",
            "   macro avg       0.74      0.74      0.74        42\n",
            "weighted avg       0.74      0.74      0.74        42\n",
            "\n"
          ]
        }
      ]
    },
    {
      "cell_type": "code",
      "source": [
        "# To get probability:\n",
        "y_pred = classifier.predict_proba(X_test)\n",
        "# knn_acc = accuracy_score(y_test,y_pred)\n",
        "# print('Accuracy ', np.round(knn_acc,2))\n",
        "# print(classification_report(y_test,y_pred))"
      ],
      "metadata": {
        "id": "cL8iIXs_-P3g"
      },
      "id": "cL8iIXs_-P3g",
      "execution_count": null,
      "outputs": []
    },
    {
      "cell_type": "code",
      "source": [
        "y_pred"
      ],
      "metadata": {
        "colab": {
          "base_uri": "https://localhost:8080/"
        },
        "id": "E9Fgz2qDJWLl",
        "outputId": "7c10172d-5c09-452f-ca7c-b46cdd678870"
      },
      "id": "E9Fgz2qDJWLl",
      "execution_count": null,
      "outputs": [
        {
          "output_type": "execute_result",
          "data": {
            "text/plain": [
              "array([[0.875, 0.125],\n",
              "       [0.625, 0.375],\n",
              "       [0.25 , 0.75 ],\n",
              "       [1.   , 0.   ],\n",
              "       [0.875, 0.125],\n",
              "       [1.   , 0.   ],\n",
              "       [0.875, 0.125],\n",
              "       [0.875, 0.125],\n",
              "       [0.625, 0.375],\n",
              "       [0.25 , 0.75 ],\n",
              "       [1.   , 0.   ],\n",
              "       [0.875, 0.125],\n",
              "       [1.   , 0.   ],\n",
              "       [0.875, 0.125],\n",
              "       [0.75 , 0.25 ],\n",
              "       [0.625, 0.375],\n",
              "       [0.25 , 0.75 ],\n",
              "       [0.5  , 0.5  ],\n",
              "       [0.375, 0.625],\n",
              "       [0.375, 0.625],\n",
              "       [0.5  , 0.5  ],\n",
              "       [0.375, 0.625],\n",
              "       [0.5  , 0.5  ],\n",
              "       [0.375, 0.625],\n",
              "       [0.125, 0.875],\n",
              "       [0.25 , 0.75 ],\n",
              "       [0.   , 1.   ],\n",
              "       [0.625, 0.375],\n",
              "       [0.25 , 0.75 ],\n",
              "       [0.25 , 0.75 ],\n",
              "       [0.375, 0.625],\n",
              "       [0.25 , 0.75 ],\n",
              "       [0.25 , 0.75 ],\n",
              "       [0.25 , 0.75 ],\n",
              "       [0.375, 0.625],\n",
              "       [0.625, 0.375],\n",
              "       [0.375, 0.625],\n",
              "       [0.625, 0.375],\n",
              "       [0.375, 0.625],\n",
              "       [0.25 , 0.75 ],\n",
              "       [0.5  , 0.5  ],\n",
              "       [0.5  , 0.5  ]])"
            ]
          },
          "metadata": {},
          "execution_count": 92
        }
      ]
    },
    {
      "cell_type": "code",
      "source": [
        "# print(confusion_matrix(y_test,y_pred))\n",
        "# from sklearn.metrics import plot_confusion_matrix\n",
        "# plot_confusion_matrix(classifier, X_test, y_test)  \n",
        "# plt.show()"
      ],
      "metadata": {
        "id": "f7FurnSysF2G"
      },
      "id": "f7FurnSysF2G",
      "execution_count": null,
      "outputs": []
    },
    {
      "cell_type": "markdown",
      "source": [
        "##NaiveBayes"
      ],
      "metadata": {
        "id": "ynQtbHVwm5Ly"
      },
      "id": "ynQtbHVwm5Ly"
    },
    {
      "cell_type": "code",
      "source": [
        "from sklearn.naive_bayes import GaussianNB\n",
        "classifier = GaussianNB()\n",
        "classifier.fit(X_train, y_train)\n",
        "y_pred = classifier.predict(X_test)\n",
        "NB_acc = accuracy_score(y_test,y_pred)\n",
        "print('Accuracy ', np.round(NB_acc,2))\n",
        "print(classification_report(y_test,y_pred))"
      ],
      "metadata": {
        "colab": {
          "base_uri": "https://localhost:8080/"
        },
        "id": "By9NERW6jxAu",
        "outputId": "999ddb90-0e83-4598-c542-55a383476f7b"
      },
      "id": "By9NERW6jxAu",
      "execution_count": null,
      "outputs": [
        {
          "output_type": "stream",
          "name": "stdout",
          "text": [
            "Accuracy  0.74\n",
            "              precision    recall  f1-score   support\n",
            "\n",
            "           0       1.00      0.48      0.65        21\n",
            "           1       0.66      1.00      0.79        21\n",
            "\n",
            "    accuracy                           0.74        42\n",
            "   macro avg       0.83      0.74      0.72        42\n",
            "weighted avg       0.83      0.74      0.72        42\n",
            "\n"
          ]
        }
      ]
    },
    {
      "cell_type": "code",
      "source": [
        "# print(confusion_matrix(y_test,y_pred))\n",
        "# from sklearn.metrics import plot_confusion_matrix\n",
        "# plot_confusion_matrix(classifier, X_test, y_test)  \n",
        "# plt.show()"
      ],
      "metadata": {
        "id": "4B2tFcBfsLrK"
      },
      "id": "4B2tFcBfsLrK",
      "execution_count": null,
      "outputs": []
    },
    {
      "cell_type": "markdown",
      "source": [
        "## ADABoost"
      ],
      "metadata": {
        "id": "ZV00BgbVoKil"
      },
      "id": "ZV00BgbVoKil"
    },
    {
      "cell_type": "code",
      "source": [
        "from sklearn.ensemble import AdaBoostClassifier\n",
        "classifier = AdaBoostClassifier(n_estimators=100, random_state=0)\n",
        "classifier.fit(X_train, y_train)\n",
        "y_pred = classifier.predict(X_test)\n",
        "ada_acc = accuracy_score(y_test,y_pred)\n",
        "print('Accuracy ', np.round(ada_acc,2))\n",
        "print(classification_report(y_test,y_pred))"
      ],
      "metadata": {
        "colab": {
          "base_uri": "https://localhost:8080/"
        },
        "id": "eb2hn01PoOLr",
        "outputId": "acdc3d22-50c4-4a90-c6cc-c8415ff2db49"
      },
      "id": "eb2hn01PoOLr",
      "execution_count": null,
      "outputs": [
        {
          "output_type": "stream",
          "name": "stdout",
          "text": [
            "Accuracy  1.0\n",
            "              precision    recall  f1-score   support\n",
            "\n",
            "           0       1.00      1.00      1.00        21\n",
            "           1       1.00      1.00      1.00        21\n",
            "\n",
            "    accuracy                           1.00        42\n",
            "   macro avg       1.00      1.00      1.00        42\n",
            "weighted avg       1.00      1.00      1.00        42\n",
            "\n"
          ]
        }
      ]
    },
    {
      "cell_type": "code",
      "source": [
        "# print(confusion_matrix(y_test,y_pred))\n",
        "# from sklearn.metrics import plot_confusion_matrix\n",
        "# plot_confusion_matrix(classifier, X_test, y_test)  \n",
        "# plt.show()"
      ],
      "metadata": {
        "id": "9qMYprYpsa2D"
      },
      "id": "9qMYprYpsa2D",
      "execution_count": null,
      "outputs": []
    },
    {
      "cell_type": "markdown",
      "source": [
        "##Bagging"
      ],
      "metadata": {
        "id": "elkp1_1oogcE"
      },
      "id": "elkp1_1oogcE"
    },
    {
      "cell_type": "code",
      "source": [
        "from sklearn.ensemble import BaggingClassifier\n",
        "from sklearn.svm import SVC\n",
        "classifier = BaggingClassifier(base_estimator=SVC(),n_estimators=10, random_state=0)\n",
        "classifier.fit(X_train, y_train)\n",
        "y_pred = classifier.predict(X_test)\n",
        "bg_acc = accuracy_score(y_test,y_pred)\n",
        "print('Accuracy ', np.round(bg_acc,2))\n",
        "print(classification_report(y_test,y_pred))"
      ],
      "metadata": {
        "colab": {
          "base_uri": "https://localhost:8080/"
        },
        "id": "SscWA1sZoiVG",
        "outputId": "e825c0e7-637c-4065-8e85-a51f48144b44"
      },
      "id": "SscWA1sZoiVG",
      "execution_count": null,
      "outputs": [
        {
          "output_type": "stream",
          "name": "stdout",
          "text": [
            "Accuracy  0.69\n",
            "              precision    recall  f1-score   support\n",
            "\n",
            "           0       1.00      0.38      0.55        21\n",
            "           1       0.62      1.00      0.76        21\n",
            "\n",
            "    accuracy                           0.69        42\n",
            "   macro avg       0.81      0.69      0.66        42\n",
            "weighted avg       0.81      0.69      0.66        42\n",
            "\n"
          ]
        },
        {
          "output_type": "stream",
          "name": "stderr",
          "text": [
            "/usr/local/lib/python3.8/dist-packages/sklearn/ensemble/_base.py:166: FutureWarning: `base_estimator` was renamed to `estimator` in version 1.2 and will be removed in 1.4.\n",
            "  warnings.warn(\n"
          ]
        }
      ]
    },
    {
      "cell_type": "code",
      "source": [
        "# print(confusion_matrix(y_test,y_pred))\n",
        "# from sklearn.metrics import plot_confusion_matrix\n",
        "# plot_confusion_matrix(classifier, X_test, y_test)  \n",
        "# plt.show()"
      ],
      "metadata": {
        "id": "70wdvxCdsfFk"
      },
      "id": "70wdvxCdsfFk",
      "execution_count": null,
      "outputs": []
    },
    {
      "cell_type": "markdown",
      "source": [
        "##LDA"
      ],
      "metadata": {
        "id": "F9Vyqj6ApahO"
      },
      "id": "F9Vyqj6ApahO"
    },
    {
      "cell_type": "code",
      "source": [
        "from sklearn.discriminant_analysis import LinearDiscriminantAnalysis\n",
        "classifier = LinearDiscriminantAnalysis()\n",
        "classifier.fit(X_train, y_train)\n",
        "y_pred = classifier.predict(X_test)\n",
        "lda_acc = accuracy_score(y_test,y_pred)\n",
        "print('Accuracy ', np.round(lda_acc,2))\n",
        "print(classification_report(y_test,y_pred))"
      ],
      "metadata": {
        "colab": {
          "base_uri": "https://localhost:8080/"
        },
        "id": "kj2vwzohpcXG",
        "outputId": "2620d666-40ed-4c7c-ef3d-ac1a8ff7b6bc"
      },
      "id": "kj2vwzohpcXG",
      "execution_count": null,
      "outputs": [
        {
          "output_type": "stream",
          "name": "stdout",
          "text": [
            "Accuracy  0.81\n",
            "              precision    recall  f1-score   support\n",
            "\n",
            "           0       1.00      0.62      0.76        21\n",
            "           1       0.72      1.00      0.84        21\n",
            "\n",
            "    accuracy                           0.81        42\n",
            "   macro avg       0.86      0.81      0.80        42\n",
            "weighted avg       0.86      0.81      0.80        42\n",
            "\n"
          ]
        }
      ]
    },
    {
      "cell_type": "code",
      "source": [
        "# print(confusion_matrix(y_test,y_pred))\n",
        "# from sklearn.metrics import plot_confusion_matrix\n",
        "# plot_confusion_matrix(classifier, X_test, y_test)  \n",
        "# plt.show()"
      ],
      "metadata": {
        "id": "FP_k39qCshaP"
      },
      "id": "FP_k39qCshaP",
      "execution_count": null,
      "outputs": []
    },
    {
      "cell_type": "markdown",
      "id": "4c8b29fa",
      "metadata": {
        "id": "4c8b29fa"
      },
      "source": [
        "# RandomForest\n",
        "\n"
      ]
    },
    {
      "cell_type": "code",
      "execution_count": null,
      "id": "74a40af6",
      "metadata": {
        "colab": {
          "base_uri": "https://localhost:8080/"
        },
        "id": "74a40af6",
        "outputId": "f4a642b5-0331-4892-8c94-effe90ab6d07"
      },
      "outputs": [
        {
          "output_type": "stream",
          "name": "stdout",
          "text": [
            "Accuracy  1.0\n",
            "              precision    recall  f1-score   support\n",
            "\n",
            "           0       1.00      1.00      1.00        21\n",
            "           1       1.00      1.00      1.00        21\n",
            "\n",
            "    accuracy                           1.00        42\n",
            "   macro avg       1.00      1.00      1.00        42\n",
            "weighted avg       1.00      1.00      1.00        42\n",
            "\n"
          ]
        }
      ],
      "source": [
        "from sklearn.ensemble import RandomForestClassifier\n",
        "classifier = RandomForestClassifier(n_estimators = 10, criterion = 'entropy', random_state = 42)\n",
        "classifier.fit(X_train, y_train)\n",
        "y_pred = classifier.predict(X_test)\n",
        "rf_acc = accuracy_score(y_test,y_pred)\n",
        "print('Accuracy ', np.round(rf_acc,2))\n",
        "print(classification_report(y_test,y_pred))"
      ]
    },
    {
      "cell_type": "code",
      "source": [
        "# print(confusion_matrix(y_test,y_pred))\n",
        "# from sklearn.metrics import plot_confusion_matrix\n",
        "# plot_confusion_matrix(classifier, X_test, y_test)  \n",
        "# plt.show()"
      ],
      "metadata": {
        "id": "tmqf8UoisjUf"
      },
      "id": "tmqf8UoisjUf",
      "execution_count": null,
      "outputs": []
    },
    {
      "cell_type": "markdown",
      "id": "750e074a",
      "metadata": {
        "id": "750e074a"
      },
      "source": [
        "# XGBClassifier"
      ]
    },
    {
      "cell_type": "code",
      "execution_count": null,
      "id": "ec2b5bcc",
      "metadata": {
        "id": "ec2b5bcc"
      },
      "outputs": [],
      "source": [
        "from xgboost import XGBClassifier"
      ]
    },
    {
      "cell_type": "code",
      "source": [],
      "metadata": {
        "id": "vBhHG2VIPpNz"
      },
      "id": "vBhHG2VIPpNz",
      "execution_count": null,
      "outputs": []
    },
    {
      "cell_type": "code",
      "source": [
        "# #import label encoder\n",
        "# from sklearn import preprocessing \n",
        "# #make an instance of Label Encoder\n",
        "# label_encoder = preprocessing.LabelEncoder()\n",
        "# y_train = label_encoder.fit_transform(y_train)\n",
        "# y_train"
      ],
      "metadata": {
        "id": "Wl4H_Iu6PYh0"
      },
      "id": "Wl4H_Iu6PYh0",
      "execution_count": null,
      "outputs": []
    },
    {
      "cell_type": "code",
      "source": [
        "# #import label encoder\n",
        "# from sklearn import preprocessing \n",
        "# #make an instance of Label Encoder\n",
        "# label_encoder = preprocessing.LabelEncoder()\n",
        "# y_test = label_encoder.fit_transform(y_test)\n",
        "# y_test"
      ],
      "metadata": {
        "id": "EcuIiPtGPxhO"
      },
      "id": "EcuIiPtGPxhO",
      "execution_count": null,
      "outputs": []
    },
    {
      "cell_type": "code",
      "source": [
        "\n",
        "#import label encoder\n",
        "from sklearn import preprocessing \n",
        "#make an instance of Label Encoder\n",
        "label_encoder = preprocessing.LabelEncoder()\n",
        "y_pred = label_encoder.fit_transform(y_pred)\n",
        "y_pred"
      ],
      "metadata": {
        "colab": {
          "base_uri": "https://localhost:8080/"
        },
        "id": "b91Zc0ffP7gk",
        "outputId": "fbf21fdb-9533-4990-ebec-068da0b164a6"
      },
      "id": "b91Zc0ffP7gk",
      "execution_count": null,
      "outputs": [
        {
          "output_type": "execute_result",
          "data": {
            "text/plain": [
              "array([0, 0, 0, 0, 0, 0, 0, 0, 0, 0, 0, 0, 0, 0, 0, 0, 0, 0, 0, 0, 0, 1,\n",
              "       1, 1, 1, 1, 1, 1, 1, 1, 1, 1, 1, 1, 1, 1, 1, 1, 1, 1, 1, 1])"
            ]
          },
          "metadata": {},
          "execution_count": 107
        }
      ]
    },
    {
      "cell_type": "code",
      "execution_count": null,
      "id": "d718a934",
      "metadata": {
        "id": "d718a934"
      },
      "outputs": [],
      "source": [
        "xgb = XGBClassifier(n_estimators=100,random_state = 42)\n",
        "xgb.fit(X_train, y_train)\n",
        "preds = xgb.predict(X_test)\n",
        "xbg_acc = accuracy_score(y_test,preds)"
      ]
    },
    {
      "cell_type": "code",
      "source": [],
      "metadata": {
        "id": "Cv7rBoEdPXYy"
      },
      "id": "Cv7rBoEdPXYy",
      "execution_count": null,
      "outputs": []
    },
    {
      "cell_type": "code",
      "execution_count": null,
      "id": "a8223a4f",
      "metadata": {
        "id": "a8223a4f",
        "colab": {
          "base_uri": "https://localhost:8080/"
        },
        "outputId": "b61242ee-4752-48b1-fb63-41cf5df9202d"
      },
      "outputs": [
        {
          "output_type": "stream",
          "name": "stdout",
          "text": [
            "              precision    recall  f1-score   support\n",
            "\n",
            "           0       1.00      1.00      1.00        21\n",
            "           1       1.00      1.00      1.00        21\n",
            "\n",
            "    accuracy                           1.00        42\n",
            "   macro avg       1.00      1.00      1.00        42\n",
            "weighted avg       1.00      1.00      1.00        42\n",
            "\n",
            "Accuracy  1.0\n"
          ]
        }
      ],
      "source": [
        "print(classification_report(y_test,preds))\n",
        "print('Accuracy ', np.round(xbg_acc,2))\n"
      ]
    },
    {
      "cell_type": "code",
      "source": [
        "# print(confusion_matrix(y_test,preds))\n",
        "# from sklearn.metrics import plot_confusion_matrix\n",
        "# plot_confusion_matrix(xgb, X_test, y_test)  \n",
        "# plt.show()"
      ],
      "metadata": {
        "id": "NpYVp4Krskq4"
      },
      "id": "NpYVp4Krskq4",
      "execution_count": null,
      "outputs": []
    },
    {
      "cell_type": "markdown",
      "id": "f1d4a71d",
      "metadata": {
        "id": "f1d4a71d"
      },
      "source": [
        "# MLP"
      ]
    },
    {
      "cell_type": "code",
      "execution_count": null,
      "id": "30e593fc",
      "metadata": {
        "id": "30e593fc"
      },
      "outputs": [],
      "source": [
        "from sklearn.neural_network import MLPClassifier"
      ]
    },
    {
      "cell_type": "code",
      "execution_count": null,
      "id": "1775e183",
      "metadata": {
        "id": "1775e183",
        "colab": {
          "base_uri": "https://localhost:8080/"
        },
        "outputId": "3ddc0c7c-f0b6-48f0-8158-184fb7dbc05f"
      },
      "outputs": [
        {
          "output_type": "stream",
          "name": "stdout",
          "text": [
            "Accuracy  0.86\n"
          ]
        },
        {
          "output_type": "stream",
          "name": "stderr",
          "text": [
            "/usr/local/lib/python3.8/dist-packages/sklearn/neural_network/_multilayer_perceptron.py:684: ConvergenceWarning: Stochastic Optimizer: Maximum iterations (200) reached and the optimization hasn't converged yet.\n",
            "  warnings.warn(\n"
          ]
        }
      ],
      "source": [
        "clf = MLPClassifier(hidden_layer_sizes=(100,),random_state=42)\n",
        "clf.fit(X_train, y_train)\n",
        "y_pred_mlp = clf.predict(X_test)\n",
        "mlp_acc = accuracy_score(y_test,y_pred_mlp)\n",
        "print('Accuracy ', np.round(mlp_acc,2))\n"
      ]
    },
    {
      "cell_type": "code",
      "execution_count": null,
      "id": "3323064c",
      "metadata": {
        "id": "3323064c",
        "colab": {
          "base_uri": "https://localhost:8080/"
        },
        "outputId": "5eed9a9e-656c-4c16-e630-65cda3a6c411"
      },
      "outputs": [
        {
          "output_type": "stream",
          "name": "stdout",
          "text": [
            "              precision    recall  f1-score   support\n",
            "\n",
            "           0       1.00      0.71      0.83        21\n",
            "           1       0.78      1.00      0.88        21\n",
            "\n",
            "    accuracy                           0.86        42\n",
            "   macro avg       0.89      0.86      0.85        42\n",
            "weighted avg       0.89      0.86      0.85        42\n",
            "\n"
          ]
        }
      ],
      "source": [
        "print(classification_report(y_test,y_pred_mlp))"
      ]
    },
    {
      "cell_type": "markdown",
      "id": "4566a349",
      "metadata": {
        "id": "4566a349"
      },
      "source": [
        "# SVM"
      ]
    },
    {
      "cell_type": "code",
      "execution_count": null,
      "id": "6d359d19",
      "metadata": {
        "id": "6d359d19"
      },
      "outputs": [],
      "source": [
        "from sklearn.svm import SVC"
      ]
    },
    {
      "cell_type": "code",
      "execution_count": null,
      "id": "4e53ee71",
      "metadata": {
        "id": "4e53ee71",
        "colab": {
          "base_uri": "https://localhost:8080/"
        },
        "outputId": "ff4bce95-3889-4f1c-fc87-143749157447"
      },
      "outputs": [
        {
          "output_type": "stream",
          "name": "stdout",
          "text": [
            "Accuracy  0.69\n",
            "              precision    recall  f1-score   support\n",
            "\n",
            "           0       1.00      0.38      0.55        21\n",
            "           1       0.62      1.00      0.76        21\n",
            "\n",
            "    accuracy                           0.69        42\n",
            "   macro avg       0.81      0.69      0.66        42\n",
            "weighted avg       0.81      0.69      0.66        42\n",
            "\n"
          ]
        }
      ],
      "source": [
        "svc = SVC(random_state = 42)\n",
        "svc.fit(X_train, y_train)\n",
        "preds = svc.predict(X_test)\n",
        "svc_acc = accuracy_score(y_test,preds)\n",
        "print('Accuracy ', np.round(svc_acc,2))\n",
        "print(classification_report(y_test,preds))"
      ]
    },
    {
      "cell_type": "markdown",
      "source": [
        "\n",
        "\n",
        "```\n",
        "# This is formatted as code\n",
        "```\n",
        "\n",
        "### Random Forest Tuning"
      ],
      "metadata": {
        "id": "6-oevppLJaQg"
      },
      "id": "6-oevppLJaQg"
    },
    {
      "cell_type": "code",
      "source": [
        "# from sklearn.model_selection import RandomizedSearchCV, GridSearchCV\n",
        "# from sklearn.ensemble import RandomForestClassifier\n",
        "# param_grid = {'max_features': ['auto', 'sqrt', 'log2'],\n",
        "#               'ccp_alpha': [0.1, .01, .001],\n",
        "#               'max_depth' : [3, 5, 6, 7, 8, 9],\n",
        "#               'criterion' :['gini', 'entropy']\n",
        "#              }\n",
        "\n",
        "# gs2 = GridSearchCV(RandomForestClassifier(random_state = 42), param_grid, n_jobs=-1, \n",
        "#                    cv=10, scoring='accuracy',verbose=3) # cv=10 - takes data and splits into train and test 10 times and then run and give average\n",
        "# gs2.fit(X_train, y_train)"
      ],
      "metadata": {
        "id": "oJMI_q2gJZIp"
      },
      "id": "oJMI_q2gJZIp",
      "execution_count": null,
      "outputs": []
    },
    {
      "cell_type": "code",
      "source": [
        "# rf_tuned = gs2.best_estimator_\n",
        "# rf_tuned.fit(X_train, y_train)\n",
        "# y_pred_rf = rf_tuned.predict(X_test)\n",
        "# rf_acc_tuned = accuracy_score(y_test,y_pred_rf)\n",
        "# print(classification_report(y_test,y_pred_rf))"
      ],
      "metadata": {
        "id": "OhMxUQsIJZZH"
      },
      "id": "OhMxUQsIJZZH",
      "execution_count": null,
      "outputs": []
    },
    {
      "cell_type": "markdown",
      "source": [
        "### DT Tuning"
      ],
      "metadata": {
        "id": "AKG3dwupO42L"
      },
      "id": "AKG3dwupO42L"
    },
    {
      "cell_type": "code",
      "source": [
        "# param_grid = {'max_features': ['auto', 'sqrt', 'log2'],\n",
        "#               'ccp_alpha': [0.1, .01, .001],\n",
        "#               'max_depth' : [5, 6, 7, 8, 9],\n",
        "#               'criterion' :['gini', 'entropy']\n",
        "#              }\n",
        "\n",
        "# gs2 = GridSearchCV(DecisionTreeClassifier(random_state = 42), param_grid, n_jobs=-1, \n",
        "#                    cv=3, scoring='accuracy',verbose=3)\n",
        "# gs2.fit(X_train, y_train)"
      ],
      "metadata": {
        "id": "xSOutDOyO3Cz"
      },
      "id": "xSOutDOyO3Cz",
      "execution_count": null,
      "outputs": []
    },
    {
      "cell_type": "code",
      "source": [
        "# dt_tuned = gs2.best_estimator_\n",
        "# dt_tuned.fit(X_train, y_train)\n",
        "# y_pred_dt = dt_tuned.predict(X_test)\n",
        "# dt_acc_tuned = accuracy_score(y_test,y_pred_dt)\n",
        "# print(classification_report(y_test,y_pred_dt))"
      ],
      "metadata": {
        "id": "_5OuD9RdO3F6"
      },
      "id": "_5OuD9RdO3F6",
      "execution_count": null,
      "outputs": []
    },
    {
      "cell_type": "code",
      "source": [],
      "metadata": {
        "id": "HHB-5I-CO3Sh"
      },
      "id": "HHB-5I-CO3Sh",
      "execution_count": null,
      "outputs": []
    },
    {
      "cell_type": "markdown",
      "id": "0c138e74",
      "metadata": {
        "id": "0c138e74"
      },
      "source": [
        "# performance comparison"
      ]
    },
    {
      "cell_type": "code",
      "execution_count": null,
      "id": "d1d80dbb",
      "metadata": {
        "id": "d1d80dbb",
        "colab": {
          "base_uri": "https://localhost:8080/",
          "height": 457
        },
        "outputId": "45d900b2-e1ac-40f6-e5b6-2aacd54bec42"
      },
      "outputs": [
        {
          "output_type": "execute_result",
          "data": {
            "text/plain": [
              "                                                  Score\n",
              "Model After PerUser classification Leave one out       \n",
              "Decision Tree                                      1.00\n",
              "Random Forest                                      1.00\n",
              "XGBoost                                            1.00\n",
              "ADABoost                                           1.00\n",
              "MLPClassifier                                      0.86\n",
              "LDA                                                0.81\n",
              "Logistic Regression                                0.81\n",
              "SVC                                                0.79\n",
              "KNN                                                0.74\n",
              "NB                                                 0.74\n",
              "Bagging                                            0.69\n",
              "LightBGM                                           0.69"
            ],
            "text/html": [
              "\n",
              "  <div id=\"df-38dea40c-0447-4020-98a0-d4b6fc4bb413\">\n",
              "    <div class=\"colab-df-container\">\n",
              "      <div>\n",
              "<style scoped>\n",
              "    .dataframe tbody tr th:only-of-type {\n",
              "        vertical-align: middle;\n",
              "    }\n",
              "\n",
              "    .dataframe tbody tr th {\n",
              "        vertical-align: top;\n",
              "    }\n",
              "\n",
              "    .dataframe thead th {\n",
              "        text-align: right;\n",
              "    }\n",
              "</style>\n",
              "<table border=\"1\" class=\"dataframe\">\n",
              "  <thead>\n",
              "    <tr style=\"text-align: right;\">\n",
              "      <th></th>\n",
              "      <th>Score</th>\n",
              "    </tr>\n",
              "    <tr>\n",
              "      <th>Model After PerUser classification Leave one out</th>\n",
              "      <th></th>\n",
              "    </tr>\n",
              "  </thead>\n",
              "  <tbody>\n",
              "    <tr>\n",
              "      <th>Decision Tree</th>\n",
              "      <td>1.00</td>\n",
              "    </tr>\n",
              "    <tr>\n",
              "      <th>Random Forest</th>\n",
              "      <td>1.00</td>\n",
              "    </tr>\n",
              "    <tr>\n",
              "      <th>XGBoost</th>\n",
              "      <td>1.00</td>\n",
              "    </tr>\n",
              "    <tr>\n",
              "      <th>ADABoost</th>\n",
              "      <td>1.00</td>\n",
              "    </tr>\n",
              "    <tr>\n",
              "      <th>MLPClassifier</th>\n",
              "      <td>0.86</td>\n",
              "    </tr>\n",
              "    <tr>\n",
              "      <th>LDA</th>\n",
              "      <td>0.81</td>\n",
              "    </tr>\n",
              "    <tr>\n",
              "      <th>Logistic Regression</th>\n",
              "      <td>0.81</td>\n",
              "    </tr>\n",
              "    <tr>\n",
              "      <th>SVC</th>\n",
              "      <td>0.79</td>\n",
              "    </tr>\n",
              "    <tr>\n",
              "      <th>KNN</th>\n",
              "      <td>0.74</td>\n",
              "    </tr>\n",
              "    <tr>\n",
              "      <th>NB</th>\n",
              "      <td>0.74</td>\n",
              "    </tr>\n",
              "    <tr>\n",
              "      <th>Bagging</th>\n",
              "      <td>0.69</td>\n",
              "    </tr>\n",
              "    <tr>\n",
              "      <th>LightBGM</th>\n",
              "      <td>0.69</td>\n",
              "    </tr>\n",
              "  </tbody>\n",
              "</table>\n",
              "</div>\n",
              "      <button class=\"colab-df-convert\" onclick=\"convertToInteractive('df-38dea40c-0447-4020-98a0-d4b6fc4bb413')\"\n",
              "              title=\"Convert this dataframe to an interactive table.\"\n",
              "              style=\"display:none;\">\n",
              "        \n",
              "  <svg xmlns=\"http://www.w3.org/2000/svg\" height=\"24px\"viewBox=\"0 0 24 24\"\n",
              "       width=\"24px\">\n",
              "    <path d=\"M0 0h24v24H0V0z\" fill=\"none\"/>\n",
              "    <path d=\"M18.56 5.44l.94 2.06.94-2.06 2.06-.94-2.06-.94-.94-2.06-.94 2.06-2.06.94zm-11 1L8.5 8.5l.94-2.06 2.06-.94-2.06-.94L8.5 2.5l-.94 2.06-2.06.94zm10 10l.94 2.06.94-2.06 2.06-.94-2.06-.94-.94-2.06-.94 2.06-2.06.94z\"/><path d=\"M17.41 7.96l-1.37-1.37c-.4-.4-.92-.59-1.43-.59-.52 0-1.04.2-1.43.59L10.3 9.45l-7.72 7.72c-.78.78-.78 2.05 0 2.83L4 21.41c.39.39.9.59 1.41.59.51 0 1.02-.2 1.41-.59l7.78-7.78 2.81-2.81c.8-.78.8-2.07 0-2.86zM5.41 20L4 18.59l7.72-7.72 1.47 1.35L5.41 20z\"/>\n",
              "  </svg>\n",
              "      </button>\n",
              "      \n",
              "  <style>\n",
              "    .colab-df-container {\n",
              "      display:flex;\n",
              "      flex-wrap:wrap;\n",
              "      gap: 12px;\n",
              "    }\n",
              "\n",
              "    .colab-df-convert {\n",
              "      background-color: #E8F0FE;\n",
              "      border: none;\n",
              "      border-radius: 50%;\n",
              "      cursor: pointer;\n",
              "      display: none;\n",
              "      fill: #1967D2;\n",
              "      height: 32px;\n",
              "      padding: 0 0 0 0;\n",
              "      width: 32px;\n",
              "    }\n",
              "\n",
              "    .colab-df-convert:hover {\n",
              "      background-color: #E2EBFA;\n",
              "      box-shadow: 0px 1px 2px rgba(60, 64, 67, 0.3), 0px 1px 3px 1px rgba(60, 64, 67, 0.15);\n",
              "      fill: #174EA6;\n",
              "    }\n",
              "\n",
              "    [theme=dark] .colab-df-convert {\n",
              "      background-color: #3B4455;\n",
              "      fill: #D2E3FC;\n",
              "    }\n",
              "\n",
              "    [theme=dark] .colab-df-convert:hover {\n",
              "      background-color: #434B5C;\n",
              "      box-shadow: 0px 1px 3px 1px rgba(0, 0, 0, 0.15);\n",
              "      filter: drop-shadow(0px 1px 2px rgba(0, 0, 0, 0.3));\n",
              "      fill: #FFFFFF;\n",
              "    }\n",
              "  </style>\n",
              "\n",
              "      <script>\n",
              "        const buttonEl =\n",
              "          document.querySelector('#df-38dea40c-0447-4020-98a0-d4b6fc4bb413 button.colab-df-convert');\n",
              "        buttonEl.style.display =\n",
              "          google.colab.kernel.accessAllowed ? 'block' : 'none';\n",
              "\n",
              "        async function convertToInteractive(key) {\n",
              "          const element = document.querySelector('#df-38dea40c-0447-4020-98a0-d4b6fc4bb413');\n",
              "          const dataTable =\n",
              "            await google.colab.kernel.invokeFunction('convertToInteractive',\n",
              "                                                     [key], {});\n",
              "          if (!dataTable) return;\n",
              "\n",
              "          const docLinkHtml = 'Like what you see? Visit the ' +\n",
              "            '<a target=\"_blank\" href=https://colab.research.google.com/notebooks/data_table.ipynb>data table notebook</a>'\n",
              "            + ' to learn more about interactive tables.';\n",
              "          element.innerHTML = '';\n",
              "          dataTable['output_type'] = 'display_data';\n",
              "          await google.colab.output.renderOutput(dataTable, element);\n",
              "          const docLink = document.createElement('div');\n",
              "          docLink.innerHTML = docLinkHtml;\n",
              "          element.appendChild(docLink);\n",
              "        }\n",
              "      </script>\n",
              "    </div>\n",
              "  </div>\n",
              "  "
            ]
          },
          "metadata": {},
          "execution_count": 122
        }
      ],
      "source": [
        "\n",
        "results = pd.DataFrame({\n",
        "    'Model After PerUser classification Leave one out': ['KNN',\n",
        "              'NB',\n",
        "              'Decision Tree',\n",
        "              'Random Forest', \n",
        "              'XGBoost', \n",
        "              'ADABoost',\n",
        "              'Bagging',\n",
        "              'LDA',\n",
        "              'MLPClassifier',\n",
        "              'Logistic Regression',\n",
        "              'SVC',\n",
        "              'LightBGM'],\n",
        "    'Score': [ knn_acc,\n",
        "                NB_acc,\n",
        "                dt_acc,\n",
        "                rf_acc,\n",
        "                xbg_acc,\n",
        "                ada_acc,\n",
        "                bg_acc,\n",
        "                lda_acc,\n",
        "                mlp_acc,\n",
        "              lightgbm_acc,\n",
        "                lg_acc,\n",
        "                svc_acc]\n",
        "                })\n",
        "results['Score'] = results['Score'].apply(lambda x: np.round(x,2))\n",
        "result_df = results.sort_values(by='Score', ascending=False)\n",
        "result_df = result_df.set_index('Model After PerUser classification Leave one out')\n",
        "result_df"
      ]
    },
    {
      "cell_type": "code",
      "source": [],
      "metadata": {
        "id": "daOd-R3aD9pj"
      },
      "id": "daOd-R3aD9pj",
      "execution_count": null,
      "outputs": []
    }
  ],
  "metadata": {
    "kernelspec": {
      "display_name": "Python 3 (ipykernel)",
      "language": "python",
      "name": "python3"
    },
    "language_info": {
      "codemirror_mode": {
        "name": "ipython",
        "version": 3
      },
      "file_extension": ".py",
      "mimetype": "text/x-python",
      "name": "python",
      "nbconvert_exporter": "python",
      "pygments_lexer": "ipython3",
      "version": "3.9.12"
    },
    "colab": {
      "provenance": []
    }
  },
  "nbformat": 4,
  "nbformat_minor": 5
}